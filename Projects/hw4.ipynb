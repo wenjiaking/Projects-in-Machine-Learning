{
 "cells": [
  {
   "cell_type": "markdown",
   "metadata": {},
   "source": [
    "# STA 208: Homework 4(Do not distribute)\n",
    "\n",
    "## Due Monday 6/2/2019 at midnight\n",
    "\n",
    "__Instructions:__ Submit it on canvas.  The canvas should include all of your code either in this notebook file, or a separate python file that is imported and ran in this notebook.  We should be able to open this notebook and run everything here by running the cells in sequence.  The written portions can be either done in markdown and TeX in new cells or written clearly by hand when you hand it in.  Submit each file separately.\n",
    "\n",
    "- Code should be well organized and documented\n",
    "- All math should be clear and make sense sequentially\n",
    "- When in doubt explain what is going on\n",
    "- You will be graded on correctness of your math, code efficiency and succinctness, and conclusions and modelling decisions"
   ]
  },
  {
   "cell_type": "markdown",
   "metadata": {},
   "source": [
    "__Exercise 1__ (20 pts)\n",
    "\n",
    "Recall that a Mercer kernel is a similarity function $k(x,x')$ such that the matrix $K_{ij} = ( k(x_i,x_j) )_{ij}$ is positive semidefinite regardless of dataset $\\{x_i\\}_{i=1}^n \\subset \\mathbb R^p$.\n",
    "\n",
    "\n",
    "1. Suppose that $K = U \\Lambda U^\\top$ where $U$ is $n \\times n$ and $\\Lambda$ is diagonal.  What do we know about $\\Lambda$ and why?\n",
    "### Answer:\n",
    "\n",
    "<font color=blue>\n",
    "    Claim: all elements of the diagonal matrix $\\Lambda$ are nonnegative.\n",
    "    By the definition of positive semidefinite matrix, $\\forall x\\in \\mathbb R^n$, we have\n",
    "    $$\n",
    "    x^\\top K x\\ge 0\n",
    "    \\Rightarrow x^\\top U \\Lambda U^\\top x\\ge 0\n",
    "    $$\n",
    "    \n",
    "   Let's denote that $\\Lambda=diag(\\lambda_1,\\lambda_2,\\dots,\\lambda_n)$ and $U^\\top x=(y_1,y_2,\\dots,y_n)^\\top$, then the above inequality turns out to be\n",
    "   $$\n",
    "   \\sum_{i=1}^n \\lambda_i y_i^2 \\ge 0,\n",
    "   $$\n",
    "   \n",
    "   Therefore, for all $i$, $\\lambda_i \\ge 0$.\n",
    "</font>\n",
    "\n",
    "2. Let kernel ridge regression be the following minimization problem where $y \\in \\mathbb R^n$,\n",
    "$$\n",
    "\\min_\\beta \\frac 12 \\|y - \\beta \\|_2^2 + \\beta^\\top K \\beta.\n",
    "$$\n",
    "Write the solution as a function of $\\Lambda, U, y$.  What does this tell you about the effect of the eigenvalues on the solution (suppose that you only increase one of the eigenvalues).\n",
    "\n",
    "### Answer:\n",
    "\n",
    "<font color=blue>\n",
    "    The target function that we want to minimize is \n",
    "    $$\n",
    "    f(\\beta)=\\frac 12 \\|y - \\beta \\|_2^2 + \\beta^\\top K \\beta=\\frac 12(y^\\top y-2y^\\top \\beta+\\beta^\\top \\beta)+\\beta^\\top K \\beta.\n",
    "    $$\n",
    "    \n",
    "   Taking the derivative with respect to $\\beta$ gives us the gradient\n",
    "   $$\n",
    "   \\nabla f(\\beta)=-y+\\beta+2K \\beta=U(I+2\\Lambda) U^\\top\\beta-y,\n",
    "   $$\n",
    "   and setting it to zero yields $\\hat\\beta=U (I+2\\Lambda)^{-1} U^\\top y$.\n",
    "   \n",
    "   Note that the $l_2$ norm of $\\hat\\beta$ is\n",
    "   $$ \n",
    "   \\|\\beta\\|_2^2=y^\\top U (I+2\\Lambda)^{-1} U^\\top U (I+2\\Lambda)^{-1} U^\\top y=y^\\top U (I+2\\Lambda)^{-2}U^\\top y=\\sum_{i=1}^n \\frac {1} {(1+2\\lambda_i)^2} z_i^2,\n",
    "   $$\n",
    "   where $U^\\top y=(z_1,z_2,\\dots,z_n)$.\n",
    "   \n",
    "   Suppose that the $j$th eigenvalues $\\lambda_j$ increases, the $l_2$ norm of $\\hat\\beta$ will decrease.\n",
    "   \n",
    "</font>\n",
    "\n",
    "3. Check if the following notions of similarity are Mercer kernels,\n",
    " 1. $k(x,x') = x^\\top x'$\n",
    " 1. $k(x,x') = x_1 x'_1 - x_2 x_2', \\quad x, x' \\in \\mathbb R^2$ \n",
    " 1. $k(s,s') = 1\\{s,s' \\textrm{ have the same sentence structure}\\}$ where the sentence structure is the sequence of parts-of-speech for each word/phrase.  For example, \"The cat ran around the house.\" is \"noun verb preposition noun\" has the same structure as \"Steve forgot about the homework\".\n",
    " \n",
    " ### Answer:\n",
    " \n",
    " __Question 1__\n",
    " \n",
    " <font color=blue>\n",
    "    Recall that a Mercer kernel is a similarity function $k(x,x')$ such that the matrix $K_{ij} = ( k(x_i,x_j) )_{ij}$ is positive semidefinite regardless of dataset $\\{x_i\\}_{i=1}^n \\subset \\mathbb R^p$. So we can check the notion by judging wether $k(x,x')$ is positive semidefinite.\n",
    "    \n",
    "   Based on the definition of positive semidefinite matrix, for all $v\\in R^n$, $K$ is positive semidefinite if $v^\\top K v\\ge 0$. Suppose the sample matrix is $X^\\top=(x_1,x_2,\\dots,x_n)$, where $x_i$ represents one sample. Then, the matrix $K$ here is $XX^\\top$.\n",
    "   \n",
    "   $$\n",
    "   v^\\top K v=v^\\top XX^\\top v=\\|X^\\top v\\|_2^2,\n",
    "   $$\n",
    "   which is nonnegative for all $v$. Therefore the notion of similarity $k(x,x') = x^\\top x'$ is Mercer Kernel.\n",
    "   \n",
    "   </font>\n",
    "   \n",
    " __Question 2__\n",
    " \n",
    " <font color=blue>\n",
    "    The matrix $K$ here is $XDX^\\top$, where $D=diag(1,-1)$. For all $v\\in R^n$ check\n",
    "    $$\n",
    "    v^\\top K v=v^\\top XDX^\\top v=y_1^2-y_2^2,\n",
    "    $$\n",
    "   where $y=X^\\top v$. Since this is not nonnegative for all $v$, then the notion of similarity $k(x,x') = x_1 x'_1 - x_2 x_2'$ is not Mercer Kernel.\n",
    "   \n",
    "   </font>\n",
    "   \n",
    " __Question 3__\n",
    " \n",
    " <font color=blue>\n",
    "    Claim: the notion of similarity $k(s,s') = 1\\{s,s' \\textrm{ have the same sentence structure}\\}$ is Mercer Kernel.\n",
    "    \n",
    "   Let $\\{s_i\\}_{i=1}^n$ denote the sentence samples. We can divide the samples into $M$ groups such that those sentences with the same structure are assigned in one group, say $G_m$. Let $D_m$ denote the index of the samples in $G_m$, ie. $D_m=\\{i:s_i\\in D_m\\}$. Hence, the $ij$-entry of the matrx $K$ is\n",
    "   \n",
    "   $$\n",
    "   k_{ij}=k(s_i,s_j)=\\delta_{i,j}=\\begin{cases}\n",
    "   1, & \\exists m, i\\in D_m, j \\in D_m\\\\\n",
    "   0, & otherwise\n",
    "   \\end{cases}\n",
    "   $$\n",
    "   \n",
    "   For all $v\\in R^n$, check\n",
    "   $$\n",
    "   v^\\top K v=\\sum_{i,j} k_{ij} v_i v_j=\\sum_{m=1}^M \\sum_{i,j \\in D_m} v_i v_j=\\sum_{m=1}^M (\\sum_{i\\in D_m} v_i)^2,\n",
    "   $$\n",
    "   which is non-negative. \n",
    "   \n",
    "   Therefore $K$ is positive semi-definite and the notion of similarity $k(s,s') = 1\\{s,s' \\textrm{ have the same sentence structure}\\}$ is Mercer Kernel.\n",
    "    \n",
    "    "
   ]
  },
  {
   "cell_type": "markdown",
   "metadata": {},
   "source": [
    "__Exercise 2__ (40 pts)\n",
    "\n",
    "Load the poses.csv dataset, which is a concatenation of other datasets to form a larger dataset.  I want you to act like the dataset is from the same experiment. \n",
    "\n",
    "1. Apply 1 time lag difference of the dataset, so that each variable is the difference of the time point and the previous time point.  Standardize the dataset and remove any variables that do not make sense.  Run the PCA decomposition with 2 principal components.  Plot the 2 principal components.  Which variables have the most loading on the principal components (look at `.components_`)?\n",
    "\n",
    "1. Also on the 1 lagged dataset.  Run K-means clustering (with 6 clusters), how much does the cluster overlap with the 'task' variable.  Look at the confusion matrix of the cluster against the 'task'.  Is there a clear mapping from clusters to task?\n",
    "\n",
    "1. Standardize the data and train an HMM with an appropriately chosen emission distribution.  How much does the hidden state overlap with the 'task' variable?  "
   ]
  },
  {
   "cell_type": "markdown",
   "metadata": {},
   "source": [
    "### Question 1:\n",
    "\n",
    "__Data Preprocessing__\n",
    "\n",
    "<font color=blue>\n",
    "     Check the missing values in 'poses.csv', and it turns out that there are some rows that uses a wrong format so that we cannot directly read in. To fix this problem, another method to read in the data is implemented below. In addition, I change the both task \"bending1\" and \"bending2\" to \"bending\".\n",
    "    \n",
    "   For the 1 time lag difference, I discard the rows corresping to 0 time after applying 1 time lag difference of the dataset, since those mark the beginning of a new event and the 1 time lag difference with the previous row is meaningless. In the end the 1 time lag difference data have 42151 rows with 6 tasks.\n",
    "\n",
    "   </font>\n",
    "\n",
    "__Implement PCA__\n",
    "\n",
    "<font color=blue>\n",
    "    \n",
    "   The first two principal components are the eigen vectors of $XX^\\top$ corresponding to the largest two eigenvalues, which is denoted by $v_1,v_2$. The principal components of the $i$th sample is $v_1^\\top x_i$ and $v_2^\\top x_i$ respectively. The loadings of $j$th variable on the principal components are the $j$th entry of $v_1$,and $v_2$ respectively.\n",
    "   \n",
    "   The figure \"2 Principal Components\" shows the 2 principal components of the 42151 observations after standardization. For the first principal component, the third variable 'avg_rss13' has the most loading, which is 0.60520909; For the second principal component, in terms of the magnitude, the fifth vatiable 'avg_rss23' has the most loading with absolute value 0.62657949.\n",
    "   \n",
    "    \n",
    "   </font>"
   ]
  },
  {
   "cell_type": "code",
   "execution_count": 3,
   "metadata": {},
   "outputs": [],
   "source": [
    "import numpy as np\n",
    "import matplotlib\n",
    "from matplotlib import pyplot as plt\n",
    "import pandas as pd \n",
    "from sklearn.decomposition import PCA\n",
    "import sklearn.preprocessing as preprocess\n",
    "import re"
   ]
  },
  {
   "cell_type": "code",
   "execution_count": 2,
   "metadata": {},
   "outputs": [
    {
     "data": {
      "text/html": [
       "<div>\n",
       "<style scoped>\n",
       "    .dataframe tbody tr th:only-of-type {\n",
       "        vertical-align: middle;\n",
       "    }\n",
       "\n",
       "    .dataframe tbody tr th {\n",
       "        vertical-align: top;\n",
       "    }\n",
       "\n",
       "    .dataframe thead th {\n",
       "        text-align: right;\n",
       "    }\n",
       "</style>\n",
       "<table border=\"1\" class=\"dataframe\">\n",
       "  <thead>\n",
       "    <tr style=\"text-align: right;\">\n",
       "      <th></th>\n",
       "      <th>Unnamed: 0</th>\n",
       "      <th># Columns: time</th>\n",
       "      <th>avg_rss12</th>\n",
       "      <th>var_rss12</th>\n",
       "      <th>avg_rss13</th>\n",
       "      <th>var_rss13</th>\n",
       "      <th>avg_rss23</th>\n",
       "      <th>var_rss23</th>\n",
       "      <th>task</th>\n",
       "      <th>filename</th>\n",
       "    </tr>\n",
       "  </thead>\n",
       "  <tbody>\n",
       "    <tr>\n",
       "      <th>0</th>\n",
       "      <td>0</td>\n",
       "      <td>0</td>\n",
       "      <td>42.00</td>\n",
       "      <td>0.00</td>\n",
       "      <td>11.50</td>\n",
       "      <td>4.56</td>\n",
       "      <td>18.50</td>\n",
       "      <td>0.87</td>\n",
       "      <td>sitting</td>\n",
       "      <td>dataset14.csv</td>\n",
       "    </tr>\n",
       "    <tr>\n",
       "      <th>1</th>\n",
       "      <td>1</td>\n",
       "      <td>250</td>\n",
       "      <td>41.75</td>\n",
       "      <td>0.43</td>\n",
       "      <td>21.50</td>\n",
       "      <td>1.80</td>\n",
       "      <td>11.75</td>\n",
       "      <td>1.48</td>\n",
       "      <td>sitting</td>\n",
       "      <td>dataset14.csv</td>\n",
       "    </tr>\n",
       "    <tr>\n",
       "      <th>2</th>\n",
       "      <td>2</td>\n",
       "      <td>500</td>\n",
       "      <td>41.67</td>\n",
       "      <td>0.47</td>\n",
       "      <td>9.33</td>\n",
       "      <td>5.44</td>\n",
       "      <td>12.00</td>\n",
       "      <td>2.83</td>\n",
       "      <td>sitting</td>\n",
       "      <td>dataset14.csv</td>\n",
       "    </tr>\n",
       "    <tr>\n",
       "      <th>3</th>\n",
       "      <td>3</td>\n",
       "      <td>750</td>\n",
       "      <td>40.00</td>\n",
       "      <td>0.82</td>\n",
       "      <td>12.67</td>\n",
       "      <td>0.94</td>\n",
       "      <td>17.75</td>\n",
       "      <td>1.09</td>\n",
       "      <td>sitting</td>\n",
       "      <td>dataset14.csv</td>\n",
       "    </tr>\n",
       "    <tr>\n",
       "      <th>4</th>\n",
       "      <td>4</td>\n",
       "      <td>1000</td>\n",
       "      <td>40.25</td>\n",
       "      <td>0.83</td>\n",
       "      <td>12.25</td>\n",
       "      <td>0.43</td>\n",
       "      <td>18.25</td>\n",
       "      <td>0.43</td>\n",
       "      <td>sitting</td>\n",
       "      <td>dataset14.csv</td>\n",
       "    </tr>\n",
       "  </tbody>\n",
       "</table>\n",
       "</div>"
      ],
      "text/plain": [
       "   Unnamed: 0 # Columns: time  avg_rss12  var_rss12  avg_rss13  var_rss13  \\\n",
       "0           0               0      42.00       0.00      11.50       4.56   \n",
       "1           1             250      41.75       0.43      21.50       1.80   \n",
       "2           2             500      41.67       0.47       9.33       5.44   \n",
       "3           3             750      40.00       0.82      12.67       0.94   \n",
       "4           4            1000      40.25       0.83      12.25       0.43   \n",
       "\n",
       "   avg_rss23  var_rss23     task       filename  \n",
       "0      18.50       0.87  sitting  dataset14.csv  \n",
       "1      11.75       1.48  sitting  dataset14.csv  \n",
       "2      12.00       2.83  sitting  dataset14.csv  \n",
       "3      17.75       1.09  sitting  dataset14.csv  \n",
       "4      18.25       0.43  sitting  dataset14.csv  "
      ]
     },
     "execution_count": 2,
     "metadata": {},
     "output_type": "execute_result"
    }
   ],
   "source": [
    "dataf = pd.read_csv(\"poses.csv\") \n",
    "dataf.head()"
   ]
  },
  {
   "cell_type": "code",
   "execution_count": 3,
   "metadata": {},
   "outputs": [
    {
     "data": {
      "text/html": [
       "<div>\n",
       "<style scoped>\n",
       "    .dataframe tbody tr th:only-of-type {\n",
       "        vertical-align: middle;\n",
       "    }\n",
       "\n",
       "    .dataframe tbody tr th {\n",
       "        vertical-align: top;\n",
       "    }\n",
       "\n",
       "    .dataframe thead th {\n",
       "        text-align: right;\n",
       "    }\n",
       "</style>\n",
       "<table border=\"1\" class=\"dataframe\">\n",
       "  <thead>\n",
       "    <tr style=\"text-align: right;\">\n",
       "      <th></th>\n",
       "      <th>Unnamed: 0</th>\n",
       "      <th># Columns: time</th>\n",
       "      <th>avg_rss12</th>\n",
       "      <th>var_rss12</th>\n",
       "      <th>avg_rss13</th>\n",
       "      <th>var_rss13</th>\n",
       "      <th>avg_rss23</th>\n",
       "      <th>var_rss23</th>\n",
       "      <th>task</th>\n",
       "      <th>filename</th>\n",
       "    </tr>\n",
       "  </thead>\n",
       "  <tbody>\n",
       "    <tr>\n",
       "      <th>21119</th>\n",
       "      <td>0</td>\n",
       "      <td>0 32.50 0.50 0.00 0.00 19.00 1.00</td>\n",
       "      <td>NaN</td>\n",
       "      <td>NaN</td>\n",
       "      <td>NaN</td>\n",
       "      <td>NaN</td>\n",
       "      <td>NaN</td>\n",
       "      <td>NaN</td>\n",
       "      <td>bending2</td>\n",
       "      <td>dataset4.csv</td>\n",
       "    </tr>\n",
       "    <tr>\n",
       "      <th>21120</th>\n",
       "      <td>1</td>\n",
       "      <td>250 32.50 0.50 0.00 0.00 18.50 0.50</td>\n",
       "      <td>NaN</td>\n",
       "      <td>NaN</td>\n",
       "      <td>NaN</td>\n",
       "      <td>NaN</td>\n",
       "      <td>NaN</td>\n",
       "      <td>NaN</td>\n",
       "      <td>bending2</td>\n",
       "      <td>dataset4.csv</td>\n",
       "    </tr>\n",
       "    <tr>\n",
       "      <th>21121</th>\n",
       "      <td>2</td>\n",
       "      <td>500 32.75 0.43 1.00 0.00 18.00 0.00</td>\n",
       "      <td>NaN</td>\n",
       "      <td>NaN</td>\n",
       "      <td>NaN</td>\n",
       "      <td>NaN</td>\n",
       "      <td>NaN</td>\n",
       "      <td>NaN</td>\n",
       "      <td>bending2</td>\n",
       "      <td>dataset4.csv</td>\n",
       "    </tr>\n",
       "    <tr>\n",
       "      <th>21122</th>\n",
       "      <td>3</td>\n",
       "      <td>750 32.50 0.50 0.00 0.00 17.50 0.50</td>\n",
       "      <td>NaN</td>\n",
       "      <td>NaN</td>\n",
       "      <td>NaN</td>\n",
       "      <td>NaN</td>\n",
       "      <td>NaN</td>\n",
       "      <td>NaN</td>\n",
       "      <td>bending2</td>\n",
       "      <td>dataset4.csv</td>\n",
       "    </tr>\n",
       "    <tr>\n",
       "      <th>21123</th>\n",
       "      <td>4</td>\n",
       "      <td>1000 32.50 0.50 7.50 0.50 17.50 0.87</td>\n",
       "      <td>NaN</td>\n",
       "      <td>NaN</td>\n",
       "      <td>NaN</td>\n",
       "      <td>NaN</td>\n",
       "      <td>NaN</td>\n",
       "      <td>NaN</td>\n",
       "      <td>bending2</td>\n",
       "      <td>dataset4.csv</td>\n",
       "    </tr>\n",
       "    <tr>\n",
       "      <th>21124</th>\n",
       "      <td>5</td>\n",
       "      <td>1250 32.67 0.47 11.00 1.00 16.75 0.83</td>\n",
       "      <td>NaN</td>\n",
       "      <td>NaN</td>\n",
       "      <td>NaN</td>\n",
       "      <td>NaN</td>\n",
       "      <td>NaN</td>\n",
       "      <td>NaN</td>\n",
       "      <td>bending2</td>\n",
       "      <td>dataset4.csv</td>\n",
       "    </tr>\n",
       "    <tr>\n",
       "      <th>21125</th>\n",
       "      <td>6</td>\n",
       "      <td>1500 32.50 0.50 6.25 0.83 18.00 0.00</td>\n",
       "      <td>NaN</td>\n",
       "      <td>NaN</td>\n",
       "      <td>NaN</td>\n",
       "      <td>NaN</td>\n",
       "      <td>NaN</td>\n",
       "      <td>NaN</td>\n",
       "      <td>bending2</td>\n",
       "      <td>dataset4.csv</td>\n",
       "    </tr>\n",
       "    <tr>\n",
       "      <th>21126</th>\n",
       "      <td>7</td>\n",
       "      <td>1750 32.50 0.50 3.50 0.87 18.00 0.00</td>\n",
       "      <td>NaN</td>\n",
       "      <td>NaN</td>\n",
       "      <td>NaN</td>\n",
       "      <td>NaN</td>\n",
       "      <td>NaN</td>\n",
       "      <td>NaN</td>\n",
       "      <td>bending2</td>\n",
       "      <td>dataset4.csv</td>\n",
       "    </tr>\n",
       "    <tr>\n",
       "      <th>21127</th>\n",
       "      <td>8</td>\n",
       "      <td>2000 32.33 0.47 6.00 0.00 18.33 0.47</td>\n",
       "      <td>NaN</td>\n",
       "      <td>NaN</td>\n",
       "      <td>NaN</td>\n",
       "      <td>NaN</td>\n",
       "      <td>NaN</td>\n",
       "      <td>NaN</td>\n",
       "      <td>bending2</td>\n",
       "      <td>dataset4.csv</td>\n",
       "    </tr>\n",
       "    <tr>\n",
       "      <th>21128</th>\n",
       "      <td>9</td>\n",
       "      <td>2250 32.67 0.47 8.00 0.82 18.00 0.00</td>\n",
       "      <td>NaN</td>\n",
       "      <td>NaN</td>\n",
       "      <td>NaN</td>\n",
       "      <td>NaN</td>\n",
       "      <td>NaN</td>\n",
       "      <td>NaN</td>\n",
       "      <td>bending2</td>\n",
       "      <td>dataset4.csv</td>\n",
       "    </tr>\n",
       "    <tr>\n",
       "      <th>21129</th>\n",
       "      <td>10</td>\n",
       "      <td>2500 32.50 0.50 8.33 3.30 16.67 0.47</td>\n",
       "      <td>NaN</td>\n",
       "      <td>NaN</td>\n",
       "      <td>NaN</td>\n",
       "      <td>NaN</td>\n",
       "      <td>NaN</td>\n",
       "      <td>NaN</td>\n",
       "      <td>bending2</td>\n",
       "      <td>dataset4.csv</td>\n",
       "    </tr>\n",
       "  </tbody>\n",
       "</table>\n",
       "</div>"
      ],
      "text/plain": [
       "       Unnamed: 0                         # Columns: time  avg_rss12  \\\n",
       "21119           0      0 32.50 0.50 0.00 0.00 19.00 1.00         NaN   \n",
       "21120           1    250 32.50 0.50 0.00 0.00 18.50 0.50         NaN   \n",
       "21121           2    500 32.75 0.43 1.00 0.00 18.00 0.00         NaN   \n",
       "21122           3    750 32.50 0.50 0.00 0.00 17.50 0.50         NaN   \n",
       "21123           4   1000 32.50 0.50 7.50 0.50 17.50 0.87         NaN   \n",
       "21124           5  1250 32.67 0.47 11.00 1.00 16.75 0.83         NaN   \n",
       "21125           6   1500 32.50 0.50 6.25 0.83 18.00 0.00         NaN   \n",
       "21126           7   1750 32.50 0.50 3.50 0.87 18.00 0.00         NaN   \n",
       "21127           8   2000 32.33 0.47 6.00 0.00 18.33 0.47         NaN   \n",
       "21128           9   2250 32.67 0.47 8.00 0.82 18.00 0.00         NaN   \n",
       "21129          10   2500 32.50 0.50 8.33 3.30 16.67 0.47         NaN   \n",
       "\n",
       "       var_rss12  avg_rss13  var_rss13  avg_rss23  var_rss23      task  \\\n",
       "21119        NaN        NaN        NaN        NaN        NaN  bending2   \n",
       "21120        NaN        NaN        NaN        NaN        NaN  bending2   \n",
       "21121        NaN        NaN        NaN        NaN        NaN  bending2   \n",
       "21122        NaN        NaN        NaN        NaN        NaN  bending2   \n",
       "21123        NaN        NaN        NaN        NaN        NaN  bending2   \n",
       "21124        NaN        NaN        NaN        NaN        NaN  bending2   \n",
       "21125        NaN        NaN        NaN        NaN        NaN  bending2   \n",
       "21126        NaN        NaN        NaN        NaN        NaN  bending2   \n",
       "21127        NaN        NaN        NaN        NaN        NaN  bending2   \n",
       "21128        NaN        NaN        NaN        NaN        NaN  bending2   \n",
       "21129        NaN        NaN        NaN        NaN        NaN  bending2   \n",
       "\n",
       "           filename  \n",
       "21119  dataset4.csv  \n",
       "21120  dataset4.csv  \n",
       "21121  dataset4.csv  \n",
       "21122  dataset4.csv  \n",
       "21123  dataset4.csv  \n",
       "21124  dataset4.csv  \n",
       "21125  dataset4.csv  \n",
       "21126  dataset4.csv  \n",
       "21127  dataset4.csv  \n",
       "21128  dataset4.csv  \n",
       "21129  dataset4.csv  "
      ]
     },
     "execution_count": 3,
     "metadata": {},
     "output_type": "execute_result"
    }
   ],
   "source": [
    "##Check missing values\n",
    "dataf.isnull().sum()\n",
    "dataf[dataf.isnull().any(1)].index\n",
    "# there are 480 rows containing missing values across all variabels from 21119th row to 21598th row.\n",
    "dataf.loc[21119:21129,]\n",
    "# By checking closely, it seems that they merge all varibles into one columns causing the missing values."
   ]
  },
  {
   "cell_type": "code",
   "execution_count": 107,
   "metadata": {},
   "outputs": [
    {
     "name": "stdout",
     "output_type": "stream",
     "text": [
      "Unnamed: 0         0\n",
      "# Columns: time    0\n",
      "avg_rss12          0\n",
      "var_rss12          0\n",
      "avg_rss13          0\n",
      "var_rss13          0\n",
      "avg_rss23          0\n",
      "var_rss23          0\n",
      "task               0\n",
      "filename           0\n",
      "dtype: int64\n",
      "walking     7200\n",
      "standing    7200\n",
      "cycling     7200\n",
      "lying       7200\n",
      "sitting     7199\n",
      "bending1    3360\n",
      "bending2    2880\n",
      "Name: task, dtype: int64\n"
     ]
    },
    {
     "data": {
      "text/html": [
       "<div>\n",
       "<style scoped>\n",
       "    .dataframe tbody tr th:only-of-type {\n",
       "        vertical-align: middle;\n",
       "    }\n",
       "\n",
       "    .dataframe tbody tr th {\n",
       "        vertical-align: top;\n",
       "    }\n",
       "\n",
       "    .dataframe thead th {\n",
       "        text-align: right;\n",
       "    }\n",
       "</style>\n",
       "<table border=\"1\" class=\"dataframe\">\n",
       "  <thead>\n",
       "    <tr style=\"text-align: right;\">\n",
       "      <th></th>\n",
       "      <th>Unnamed: 0</th>\n",
       "      <th># Columns: time</th>\n",
       "      <th>avg_rss12</th>\n",
       "      <th>var_rss12</th>\n",
       "      <th>avg_rss13</th>\n",
       "      <th>var_rss13</th>\n",
       "      <th>avg_rss23</th>\n",
       "      <th>var_rss23</th>\n",
       "      <th>task</th>\n",
       "      <th>filename</th>\n",
       "    </tr>\n",
       "  </thead>\n",
       "  <tbody>\n",
       "    <tr>\n",
       "      <th>0</th>\n",
       "      <td>0</td>\n",
       "      <td>0</td>\n",
       "      <td>42</td>\n",
       "      <td>0</td>\n",
       "      <td>11.5</td>\n",
       "      <td>4.56</td>\n",
       "      <td>18.5</td>\n",
       "      <td>0.87</td>\n",
       "      <td>sitting</td>\n",
       "      <td>dataset14.csv</td>\n",
       "    </tr>\n",
       "    <tr>\n",
       "      <th>1</th>\n",
       "      <td>1</td>\n",
       "      <td>250</td>\n",
       "      <td>41.75</td>\n",
       "      <td>0.43</td>\n",
       "      <td>21.5</td>\n",
       "      <td>1.8</td>\n",
       "      <td>11.75</td>\n",
       "      <td>1.48</td>\n",
       "      <td>sitting</td>\n",
       "      <td>dataset14.csv</td>\n",
       "    </tr>\n",
       "    <tr>\n",
       "      <th>2</th>\n",
       "      <td>2</td>\n",
       "      <td>500</td>\n",
       "      <td>41.67</td>\n",
       "      <td>0.47</td>\n",
       "      <td>9.33</td>\n",
       "      <td>5.44</td>\n",
       "      <td>12</td>\n",
       "      <td>2.83</td>\n",
       "      <td>sitting</td>\n",
       "      <td>dataset14.csv</td>\n",
       "    </tr>\n",
       "    <tr>\n",
       "      <th>3</th>\n",
       "      <td>3</td>\n",
       "      <td>750</td>\n",
       "      <td>40</td>\n",
       "      <td>0.82</td>\n",
       "      <td>12.67</td>\n",
       "      <td>0.94</td>\n",
       "      <td>17.75</td>\n",
       "      <td>1.09</td>\n",
       "      <td>sitting</td>\n",
       "      <td>dataset14.csv</td>\n",
       "    </tr>\n",
       "    <tr>\n",
       "      <th>4</th>\n",
       "      <td>4</td>\n",
       "      <td>1000</td>\n",
       "      <td>40.25</td>\n",
       "      <td>0.83</td>\n",
       "      <td>12.25</td>\n",
       "      <td>0.43</td>\n",
       "      <td>18.25</td>\n",
       "      <td>0.43</td>\n",
       "      <td>sitting</td>\n",
       "      <td>dataset14.csv</td>\n",
       "    </tr>\n",
       "  </tbody>\n",
       "</table>\n",
       "</div>"
      ],
      "text/plain": [
       "  Unnamed: 0 # Columns: time avg_rss12 var_rss12 avg_rss13 var_rss13  \\\n",
       "0          0               0        42         0      11.5      4.56   \n",
       "1          1             250     41.75      0.43      21.5       1.8   \n",
       "2          2             500     41.67      0.47      9.33      5.44   \n",
       "3          3             750        40      0.82     12.67      0.94   \n",
       "4          4            1000     40.25      0.83     12.25      0.43   \n",
       "\n",
       "  avg_rss23 var_rss23     task       filename  \n",
       "0      18.5      0.87  sitting  dataset14.csv  \n",
       "1     11.75      1.48  sitting  dataset14.csv  \n",
       "2        12      2.83  sitting  dataset14.csv  \n",
       "3     17.75      1.09  sitting  dataset14.csv  \n",
       "4     18.25      0.43  sitting  dataset14.csv  "
      ]
     },
     "execution_count": 107,
     "metadata": {},
     "output_type": "execute_result"
    }
   ],
   "source": [
    "#fix the data and check missing values again\n",
    "lines = []\n",
    "with open('poses.csv', \"r\") as input_file:\n",
    "    lines = [line for line in input_file]#read the raw file in\n",
    "lines = lines[1:]#delete the header line\n",
    "\n",
    "data_numbers = [re.findall(r'\\b[0-9]+\\.?[0-9]*\\b', line) for line in lines]#extract all numbers in a line\n",
    "def get_numbers(list_of_strings):\n",
    "    return [float(a) for a in list_of_strings]#string to float and separate?\n",
    "data_numbers = [get_numbers(line) for line in data_numbers]#create a list of numbers\n",
    "\n",
    "poses = pd.read_csv('poses.csv', dtype=str)#read in all columns as strings\n",
    "data_matrix = np.array(data_numbers)\n",
    "poses.iloc[:,:8] = data_matrix#import correct data\n",
    "print(poses.isnull().sum())\n",
    "print(poses.loc[:,'task'].value_counts())\n",
    "poses.head()"
   ]
  },
  {
   "cell_type": "code",
   "execution_count": 108,
   "metadata": {},
   "outputs": [
    {
     "data": {
      "text/html": [
       "<div>\n",
       "<style scoped>\n",
       "    .dataframe tbody tr th:only-of-type {\n",
       "        vertical-align: middle;\n",
       "    }\n",
       "\n",
       "    .dataframe tbody tr th {\n",
       "        vertical-align: top;\n",
       "    }\n",
       "\n",
       "    .dataframe thead th {\n",
       "        text-align: right;\n",
       "    }\n",
       "</style>\n",
       "<table border=\"1\" class=\"dataframe\">\n",
       "  <thead>\n",
       "    <tr style=\"text-align: right;\">\n",
       "      <th></th>\n",
       "      <th>Id</th>\n",
       "      <th>Time</th>\n",
       "      <th>avg_rss12</th>\n",
       "      <th>var_rss12</th>\n",
       "      <th>avg_rss13</th>\n",
       "      <th>var_rss13</th>\n",
       "      <th>avg_rss23</th>\n",
       "      <th>var_rss23</th>\n",
       "      <th>task</th>\n",
       "      <th>filename</th>\n",
       "    </tr>\n",
       "  </thead>\n",
       "  <tbody>\n",
       "    <tr>\n",
       "      <th>0</th>\n",
       "      <td>0</td>\n",
       "      <td>0</td>\n",
       "      <td>42</td>\n",
       "      <td>0</td>\n",
       "      <td>11.5</td>\n",
       "      <td>4.56</td>\n",
       "      <td>18.5</td>\n",
       "      <td>0.87</td>\n",
       "      <td>sitting</td>\n",
       "      <td>dataset14.csv</td>\n",
       "    </tr>\n",
       "    <tr>\n",
       "      <th>1</th>\n",
       "      <td>1</td>\n",
       "      <td>250</td>\n",
       "      <td>41.75</td>\n",
       "      <td>0.43</td>\n",
       "      <td>21.5</td>\n",
       "      <td>1.8</td>\n",
       "      <td>11.75</td>\n",
       "      <td>1.48</td>\n",
       "      <td>sitting</td>\n",
       "      <td>dataset14.csv</td>\n",
       "    </tr>\n",
       "    <tr>\n",
       "      <th>2</th>\n",
       "      <td>2</td>\n",
       "      <td>500</td>\n",
       "      <td>41.67</td>\n",
       "      <td>0.47</td>\n",
       "      <td>9.33</td>\n",
       "      <td>5.44</td>\n",
       "      <td>12</td>\n",
       "      <td>2.83</td>\n",
       "      <td>sitting</td>\n",
       "      <td>dataset14.csv</td>\n",
       "    </tr>\n",
       "    <tr>\n",
       "      <th>3</th>\n",
       "      <td>3</td>\n",
       "      <td>750</td>\n",
       "      <td>40</td>\n",
       "      <td>0.82</td>\n",
       "      <td>12.67</td>\n",
       "      <td>0.94</td>\n",
       "      <td>17.75</td>\n",
       "      <td>1.09</td>\n",
       "      <td>sitting</td>\n",
       "      <td>dataset14.csv</td>\n",
       "    </tr>\n",
       "    <tr>\n",
       "      <th>4</th>\n",
       "      <td>4</td>\n",
       "      <td>1000</td>\n",
       "      <td>40.25</td>\n",
       "      <td>0.83</td>\n",
       "      <td>12.25</td>\n",
       "      <td>0.43</td>\n",
       "      <td>18.25</td>\n",
       "      <td>0.43</td>\n",
       "      <td>sitting</td>\n",
       "      <td>dataset14.csv</td>\n",
       "    </tr>\n",
       "  </tbody>\n",
       "</table>\n",
       "</div>"
      ],
      "text/plain": [
       "  Id  Time avg_rss12 var_rss12 avg_rss13 var_rss13 avg_rss23 var_rss23  \\\n",
       "0  0     0        42         0      11.5      4.56      18.5      0.87   \n",
       "1  1   250     41.75      0.43      21.5       1.8     11.75      1.48   \n",
       "2  2   500     41.67      0.47      9.33      5.44        12      2.83   \n",
       "3  3   750        40      0.82     12.67      0.94     17.75      1.09   \n",
       "4  4  1000     40.25      0.83     12.25      0.43     18.25      0.43   \n",
       "\n",
       "      task       filename  \n",
       "0  sitting  dataset14.csv  \n",
       "1  sitting  dataset14.csv  \n",
       "2  sitting  dataset14.csv  \n",
       "3  sitting  dataset14.csv  \n",
       "4  sitting  dataset14.csv  "
      ]
     },
     "execution_count": 108,
     "metadata": {},
     "output_type": "execute_result"
    }
   ],
   "source": [
    "#Here I only want to select columns easier in the future, you can igonre this block.\n",
    "col_names = poses.columns.values\n",
    "poses.rename(columns={col_names[0]:'Id', col_names[1]:'Time'}, inplace=True)\n",
    "poses.head()"
   ]
  },
  {
   "cell_type": "code",
   "execution_count": 109,
   "metadata": {},
   "outputs": [
    {
     "data": {
      "text/plain": [
       "array(['sitting', 'lying', 'walking', 'standing', 'cycling', 'bending'],\n",
       "      dtype=object)"
      ]
     },
     "execution_count": 109,
     "metadata": {},
     "output_type": "execute_result"
    }
   ],
   "source": [
    "#replace both 'bending1' and 'bending2' with 'bending'\n",
    "poses.task = poses.task.replace(to_replace=['bending1','bending2'], value='bending')\n",
    "poses.task.unique()"
   ]
  },
  {
   "cell_type": "code",
   "execution_count": 7,
   "metadata": {},
   "outputs": [],
   "source": [
    "poses_lag=poses.loc[:,'avg_rss12':'var_rss23'].diff().join(poses.loc[:,['Id','Time','task','filename']])\n",
    "poses_lag.head()\n",
    "poses_lag=poses_lag.loc[poses_lag['Time'] !=0]"
   ]
  },
  {
   "cell_type": "code",
   "execution_count": 8,
   "metadata": {},
   "outputs": [
    {
     "data": {
      "text/plain": [
       "(42151, 10)"
      ]
     },
     "execution_count": 8,
     "metadata": {},
     "output_type": "execute_result"
    }
   ],
   "source": [
    "poses_lag.shape"
   ]
  },
  {
   "cell_type": "code",
   "execution_count": 9,
   "metadata": {},
   "outputs": [
    {
     "name": "stderr",
     "output_type": "stream",
     "text": [
      "/anaconda3/lib/python3.7/site-packages/ipykernel_launcher.py:1: DataConversionWarning: Data with input dtype object were all converted to float64 by the scale function.\n",
      "  \"\"\"Entry point for launching an IPython kernel.\n"
     ]
    },
    {
     "data": {
      "text/plain": [
       "array([[ 2.2258819 ,  3.42750945],\n",
       "       [-4.21816609, -1.63670091],\n",
       "       [ 3.48501539, -0.76327632],\n",
       "       [ 0.28664804, -0.31652979],\n",
       "       [-0.32820443,  0.46342825],\n",
       "       [-2.38259276, -1.1555519 ],\n",
       "       [-0.01946391,  0.41058587],\n",
       "       [ 1.03742841,  1.14499656],\n",
       "       [ 1.08991371,  0.44305633],\n",
       "       [-0.52154019,  0.50042205]])"
      ]
     },
     "execution_count": 9,
     "metadata": {},
     "output_type": "execute_result"
    }
   ],
   "source": [
    "poses_lag_stand=preprocess.scale(poses_lag.loc[:,'avg_rss12':'var_rss23'])\n",
    "pca = PCA(n_components=2).fit(poses_lag_stand)  \n",
    "principalcomp=pca.transform(poses_lag_stand)\n",
    "principalcomp.shape\n",
    "principalcomp[0:10,:]"
   ]
  },
  {
   "cell_type": "code",
   "execution_count": 10,
   "metadata": {},
   "outputs": [
    {
     "data": {
      "image/png": "[encoded data removed]",
      "text/plain": [
       "<Figure size 432x288 with 1 Axes>"
      ]
     },
     "metadata": {
      "needs_background": "light"
     },
     "output_type": "display_data"
    }
   ],
   "source": [
    "fig, ax = plt.subplots()\n",
    "color=['red','blue','green','orange','black','pink']\n",
    "label=['sitting', 'lying', 'walking','standing','cycling','bending']\n",
    "for i in range(6):\n",
    "    ind=np.where(poses_lag.loc[:,'task']==label[i])[0]\n",
    "    ax.scatter(principalcomp[ind,0], principalcomp[ind,1], c=color[i],label=label[i],alpha=0.7)\n",
    "\n",
    "ax.legend()\n",
    "ax.grid(True)\n",
    "plt.title(\"2 Principal Components\")\n",
    "plt.xlabel(\"First component\")\n",
    "plt.ylabel(\"Second component\")\n",
    "plt.show()"
   ]
  },
  {
   "cell_type": "code",
   "execution_count": 11,
   "metadata": {},
   "outputs": [
    {
     "data": {
      "text/plain": [
       "array([[-0.13640888, -0.23678405,  0.60520909, -0.59936489,  0.32546848,\n",
       "        -0.30639824],\n",
       "       [ 0.09096216, -0.09258837,  0.32555174, -0.31339504, -0.62657949,\n",
       "         0.62157142]])"
      ]
     },
     "execution_count": 11,
     "metadata": {},
     "output_type": "execute_result"
    }
   ],
   "source": [
    "pca.components_\n",
    "## For the first principal component, the third variable 'avg_rss13' has the most loading;\n",
    "##  For the second principal component, in terms of magnitude, the fifth vatiable 'avg_rss23' has the most loading."
   ]
  },
  {
   "cell_type": "markdown",
   "metadata": {},
   "source": [
    "### Question 2\n",
    "\n",
    "<font color=blue>\n",
    "    \n",
    "   The figure \"Confusion matrix of the classifier\" illustrates the confusion matrix. We can see that the majority of observations are assigned in 0 cluster. Besides, the observations with \"walking\" task are evenly assigned to the 6 clusters. So there is no a clear mapping from clusters to task. In order to calculate the accuracy, we need to assign the task to each cluster. Here, we label the cluster by the task which is present in that cluster most frequently than any other task. The proportion of the cluster overlapping with the 'task' variable (accuracy) turns out to be approximate 0.309. Therefore, the K-means is not appropriate here.\n",
    "    \n",
    "</font>"
   ]
  },
  {
   "cell_type": "code",
   "execution_count": 12,
   "metadata": {},
   "outputs": [
    {
     "data": {
      "text/plain": [
       "(array([0, 1, 2, 3, 4, 5], dtype=int32),\n",
       " array([26644,  3386,  3158,  3074,  3514,  2375]))"
      ]
     },
     "execution_count": 12,
     "metadata": {},
     "output_type": "execute_result"
    }
   ],
   "source": [
    "##K-means\n",
    "from sklearn.cluster import KMeans\n",
    "km=KMeans(n_clusters=6,random_state=0).fit(poses_lag_stand)\n",
    "cluster=km.labels_\n",
    "np.unique(cluster, return_counts=True)"
   ]
  },
  {
   "cell_type": "code",
   "execution_count": 13,
   "metadata": {},
   "outputs": [
    {
     "data": {
      "text/plain": [
       "array([[5300,  312,  128,  125,  331,   31],\n",
       "       [1145, 1252, 1207, 1092, 1389, 1100],\n",
       "       [6713,  121,  109,  101,  133,    8],\n",
       "       [5976,  331,  278,  269,  324,    6],\n",
       "       [6237,  247,  242,  224,  222,   13],\n",
       "       [1273, 1123, 1194, 1263, 1115, 1217]])"
      ]
     },
     "execution_count": 13,
     "metadata": {},
     "output_type": "execute_result"
    }
   ],
   "source": [
    "from sklearn.metrics import confusion_matrix\n",
    "lab = preprocess.LabelEncoder()\n",
    "code=lab.fit_transform(poses_lag.loc[:,'task'])\n",
    "labels=range(6)\n",
    "conf_mat=confusion_matrix(code, cluster,labels)\n",
    "conf_mat"
   ]
  },
  {
   "cell_type": "code",
   "execution_count": 80,
   "metadata": {},
   "outputs": [
    {
     "data": {
      "text/plain": [
       "Text(69.0, 0.5, 'True')"
      ]
     },
     "execution_count": 80,
     "metadata": {},
     "output_type": "execute_result"
    },
    {
     "data": {
      "image/png": "[encoded data removed]",
      "text/plain": [
       "<Figure size 720x504 with 2 Axes>"
      ]
     },
     "metadata": {
      "needs_background": "light"
     },
     "output_type": "display_data"
    }
   ],
   "source": [
    "import seaborn as sn\n",
    "df_cm = pd.DataFrame(conf_mat, index = [i for i in lab.classes_],\n",
    "                  columns = [i for i in range(6)])\n",
    "plt.figure(figsize = (10,7))\n",
    "sn.heatmap(df_cm, annot=True,fmt=\"d\")\n",
    "plt.title('Confusion matrix of the classifier')\n",
    "plt.xlabel('Predicted')\n",
    "plt.ylabel('True')"
   ]
  },
  {
   "cell_type": "code",
   "execution_count": 152,
   "metadata": {},
   "outputs": [
    {
     "data": {
      "text/plain": [
       "0.3093876776351688"
      ]
     },
     "execution_count": 152,
     "metadata": {},
     "output_type": "execute_result"
    }
   ],
   "source": [
    "cluster_lab=np.repeat('cycling',len(cluster))\n",
    "cluster_lab[np.where(cluster==0)]=lab.classes_[np.argmax(conf_mat[:,0])]\n",
    "cluster_lab[np.where(cluster==1)]=lab.classes_[np.argmax(conf_mat[:,1])]\n",
    "cluster_lab[np.where(cluster==2)]=lab.classes_[np.argmax(conf_mat[:,2])]\n",
    "cluster_lab[np.where(cluster==3)]=lab.classes_[np.argmax(conf_mat[:,3])]\n",
    "cluster_lab[np.where(cluster==4)]=lab.classes_[np.argmax(conf_mat[:,4])]\n",
    "cluster_lab[np.where(cluster==5)]=lab.classes_[np.argmax(conf_mat[:,5])]\n",
    "sum(cluster_lab==poses_lag.loc[:,'task'])/len(cluster)"
   ]
  },
  {
   "cell_type": "code",
   "execution_count": 147,
   "metadata": {},
   "outputs": [
    {
     "data": {
      "text/plain": [
       "array([[5300,  312,  128,  125,  331,   31],\n",
       "       [1145, 1252, 1207, 1092, 1389, 1100],\n",
       "       [6713,  121,  109,  101,  133,    8],\n",
       "       [5976,  331,  278,  269,  324,    6],\n",
       "       [6237,  247,  242,  224,  222,   13],\n",
       "       [1273, 1123, 1194, 1263, 1115, 1217]])"
      ]
     },
     "execution_count": 147,
     "metadata": {},
     "output_type": "execute_result"
    }
   ],
   "source": [
    "conf_mat"
   ]
  },
  {
   "cell_type": "markdown",
   "metadata": {},
   "source": [
    "### Question 3\n",
    "\n",
    "<font color=blue>\n",
    "    \n",
    "In this part, let's start from standardizing the initial data without1 time lag. The figure \"Confusion matrix of the HMM classifier\" illustrates the confusion matrix by using HMM with Gaussian emission distribution. The choice of Gaussian emissian function is mainly because that the histgram is approximate to Gaussian distribution after standardization. Here, the same strategy is applied to label the cluster and the proportion of the hidden state overlapping with the 'task' variable (accuracy) turns out to be 0.647. Hence, in terms of accurancy, the HMM is superior than K-means for this case but still not good enough.\n",
    "</font>"
   ]
  },
  {
   "cell_type": "code",
   "execution_count": 115,
   "metadata": {},
   "outputs": [
    {
     "name": "stderr",
     "output_type": "stream",
     "text": [
      "/anaconda3/lib/python3.7/site-packages/ipykernel_launcher.py:2: DataConversionWarning: Data with input dtype object were all converted to float64 by the scale function.\n",
      "  \n"
     ]
    }
   ],
   "source": [
    "from hmmlearn import hmm\n",
    "poses_stand=preprocess.scale(poses.loc[:,'avg_rss12':'var_rss23']*1)\n",
    "model = hmm.GaussianHMM(n_components=6)\n",
    "hmm_gaus=model.fit(poses_stand)\n",
    "pred=model.predict(poses_stand)"
   ]
  },
  {
   "cell_type": "code",
   "execution_count": 116,
   "metadata": {},
   "outputs": [
    {
     "data": {
      "text/plain": [
       "array([[ 334,   76, 2554,  838,  269, 2169],\n",
       "       [   3, 3123,    0,    4, 4064,    6],\n",
       "       [6673,    4,    0,   85,  112,  326],\n",
       "       [1165,   11,   25, 4119,  767, 1112],\n",
       "       [ 875,    1,    0, 5418,  707,  199],\n",
       "       [   0, 6463,    0,    0,  736,    1]])"
      ]
     },
     "execution_count": 116,
     "metadata": {},
     "output_type": "execute_result"
    }
   ],
   "source": [
    "lab_hmm = preprocess.LabelEncoder()\n",
    "code_hmm=lab_hmm.fit_transform(poses.loc[:,'task'])\n",
    "labels=range(6)\n",
    "hmm_cm=confusion_matrix(code_hmm, pred,labels)\n",
    "hmm_cm"
   ]
  },
  {
   "cell_type": "code",
   "execution_count": 117,
   "metadata": {},
   "outputs": [
    {
     "data": {
      "text/plain": [
       "Text(69.0, 0.5, 'True')"
      ]
     },
     "execution_count": 117,
     "metadata": {},
     "output_type": "execute_result"
    },
    {
     "data": {
      "image/png": "[encoded data removed]",
      "text/plain": [
       "<Figure size 720x504 with 2 Axes>"
      ]
     },
     "metadata": {
      "needs_background": "light"
     },
     "output_type": "display_data"
    }
   ],
   "source": [
    "import seaborn as sn\n",
    "hmm_cm = pd.DataFrame(conf_mat_hmm, index = [i for i in lab_hmm.classes_],\n",
    "                  columns = [i for i in range(6)])\n",
    "plt.figure(figsize = (10,7))\n",
    "sn.heatmap(hmm_cm, annot=True,fmt=\"d\")\n",
    "plt.title('Confusion matrix of the HMM classifier')\n",
    "plt.xlabel('Predicted')\n",
    "plt.ylabel('True')"
   ]
  },
  {
   "cell_type": "code",
   "execution_count": 151,
   "metadata": {},
   "outputs": [
    {
     "data": {
      "text/plain": [
       "0.6472927862875542"
      ]
     },
     "execution_count": 151,
     "metadata": {},
     "output_type": "execute_result"
    }
   ],
   "source": [
    "cluster_lab_hmm=np.repeat('nonenosng',len(pred))\n",
    "cluster_lab_hmm[np.where(pred==0)]=lab_hmm.classes_[np.argmax(hmm_cm[:,0])]\n",
    "cluster_lab_hmm[np.where(pred==1)]=lab_hmm.classes_[np.argmax(hmm_cm[:,1])]\n",
    "cluster_lab_hmm[np.where(pred==2)]=lab_hmm.classes_[np.argmax(hmm_cm[:,2])]\n",
    "cluster_lab_hmm[np.where(pred==3)]=lab_hmm.classes_[np.argmax(hmm_cm[:,3])]\n",
    "cluster_lab_hmm[np.where(pred==4)]=lab_hmm.classes_[np.argmax(hmm_cm[:,4])]\n",
    "cluster_lab_hmm[np.where(pred==5)]=lab_hmm.classes_[np.argmax(hmm_cm[:,5])]\n",
    "sum(cluster_lab_hmm==poses.loc[:,'task'])/len(pred)"
   ]
  },
  {
   "cell_type": "markdown",
   "metadata": {},
   "source": [
    "__Exercise 3__ (40 pts)\n",
    "\n",
    "\n",
    "Load the housing.csv dataset, your task is to predict the Sale price.  Deal with the missing data by simple imputation and by creating missingness indicator variables.  Train random forests, gradient tree boosting (XGBoost), K-nearest neighbors, and kernel SVMs.  Compare them using appropriate cross-validation."
   ]
  },
  {
   "cell_type": "markdown",
   "metadata": {},
   "source": [
    "__1. Data Preprocessing__\n",
    "\n",
    "<font color=blue>\n",
    "    \n",
    "   The housing dataset contains lost of missing values in both numerical predictors and categorical predictors. For numerical predictors, simple imputation with sample mean is applied. For categorical predictors, we take the missing value as a new category and creat indicator varibales. Finally, there are 304 predictors in total.\n",
    "   \n",
    "   </font>"
   ]
  },
  {
   "cell_type": "code",
   "execution_count": 4,
   "metadata": {},
   "outputs": [
    {
     "data": {
      "text/plain": [
       "Id                  0\n",
       "MSSubClass          0\n",
       "MSZoning            0\n",
       "LotFrontage       259\n",
       "LotArea             0\n",
       "Street              0\n",
       "Alley            1369\n",
       "LotShape            0\n",
       "LandContour         0\n",
       "Utilities           0\n",
       "LotConfig           0\n",
       "LandSlope           0\n",
       "Neighborhood        0\n",
       "Condition1          0\n",
       "Condition2          0\n",
       "BldgType            0\n",
       "HouseStyle          0\n",
       "OverallQual         0\n",
       "OverallCond         0\n",
       "YearBuilt           0\n",
       "YearRemodAdd        0\n",
       "RoofStyle           0\n",
       "RoofMatl            0\n",
       "Exterior1st         0\n",
       "Exterior2nd         0\n",
       "MasVnrType          8\n",
       "MasVnrArea          8\n",
       "ExterQual           0\n",
       "ExterCond           0\n",
       "Foundation          0\n",
       "                 ... \n",
       "BedroomAbvGr        0\n",
       "KitchenAbvGr        0\n",
       "KitchenQual         0\n",
       "TotRmsAbvGrd        0\n",
       "Functional          0\n",
       "Fireplaces          0\n",
       "FireplaceQu       690\n",
       "GarageType         81\n",
       "GarageYrBlt        81\n",
       "GarageFinish       81\n",
       "GarageCars          0\n",
       "GarageArea          0\n",
       "GarageQual         81\n",
       "GarageCond         81\n",
       "PavedDrive          0\n",
       "WoodDeckSF          0\n",
       "OpenPorchSF         0\n",
       "EnclosedPorch       0\n",
       "3SsnPorch           0\n",
       "ScreenPorch         0\n",
       "PoolArea            0\n",
       "PoolQC           1453\n",
       "Fence            1179\n",
       "MiscFeature      1406\n",
       "MiscVal             0\n",
       "MoSold              0\n",
       "YrSold              0\n",
       "SaleType            0\n",
       "SaleCondition       0\n",
       "SalePrice           0\n",
       "Length: 81, dtype: int64"
      ]
     },
     "execution_count": 4,
     "metadata": {},
     "output_type": "execute_result"
    }
   ],
   "source": [
    "housing= pd.read_csv(\"housing.csv\") \n",
    "housing\n",
    "housing.isnull().sum()"
   ]
  },
  {
   "cell_type": "code",
   "execution_count": 5,
   "metadata": {},
   "outputs": [],
   "source": [
    "house_cov=housing.drop('SalePrice',1)"
   ]
  },
  {
   "cell_type": "code",
   "execution_count": 6,
   "metadata": {},
   "outputs": [],
   "source": [
    "num = house_cov.select_dtypes(include=[np.number])\n",
    "num = num.fillna(num.mean())\n",
    "cate = house_cov.select_dtypes(include=['object'])\n",
    "cate=cate.fillna('missing')\n",
    "cate_fac=pd.get_dummies(cate)"
   ]
  },
  {
   "cell_type": "markdown",
   "metadata": {},
   "source": [
    "__2. Standardization and Training__\n",
    "\n",
    "<font color=blue>\n",
    "    In this part, Standardization process is only applied to those numerical predictors and reponse variable \"SalePrice\". Then split the whole dataset into training set and testing set with 0.22 test size. Tune parameters by cross validation on training set for random forests, gradient tree boosting, K-nearest neighbors and kernel SVMs. The results can be compared in the table below.\n",
    "    \n",
    "   <table style='font-family:\"Courier New\", Courier, monospace; font-size:120%'>\n",
    "   <tr><td></td><td>random forests</td><td>XGBoost</td><td>KNN</td><td>kernel SVMs</td></tr>\n",
    "   <tr><td>Tuning Parameters</td><td>'max_depth'; 'max_features'</td><td>'learning_rate'; 'reg_alpha'; 'reg_lambda'; 'max_depth'</td><td>'n_neighbors'; 'p'; 'weights' </td><td>'kernel';'C';'gamma'</td></tr>\n",
    "   <tr><td>Best parameters</td><td>30; 'sqrt'</td><td>0.1;0.5;0.5;10</td><td>5;1;'distance'</td><td>'rbf';1;'scale'</td></tr>\n",
    "   <tr><td>Best Score(R_square)</td><td>0.833</td><td>0.803</td><td>0.804</td><td>0.857</td></tr>\n",
    "   <tr><td>Test Score(R_square）</td><td>0.854</td><td>0.834</td><td>0.812</td><td>0.902</td></tr>\n",
    "   <tr><td>MSE</td><td>0.133</td><td>0.152</td><td>0.172</td><td>0.090</td></tr>\n",
    "</table>\n",
    "\n",
    "Therefore, the svr model with 'rbf' kernel, C=1, and gamma=scale may be the best one in terms of MSE, though the ramdom forest also performs well."
   ]
  },
  {
   "cell_type": "code",
   "execution_count": 7,
   "metadata": {},
   "outputs": [
    {
     "name": "stderr",
     "output_type": "stream",
     "text": [
      "/anaconda3/lib/python3.7/site-packages/sklearn/utils/validation.py:595: DataConversionWarning: Data with input dtype int64 was converted to float64 by the scale function.\n",
      "  warnings.warn(msg, DataConversionWarning)\n"
     ]
    }
   ],
   "source": [
    "num_stand=preprocess.scale(num.drop('Id',1).values)\n",
    "X_half_stand=np.concatenate((num_stand, cate_fac.values), axis=1)\n",
    "y=housing.loc[:,'SalePrice'].values\n",
    "from sklearn import model_selection\n",
    "from sklearn.model_selection import GridSearchCV\n",
    "y_stand=preprocess.scale(y)\n",
    "X_tr_h,X_te_h,y_tr_h,y_te_h=model_selection.train_test_split(X_half_stand,y_stand,test_size = .22,random_state=44)"
   ]
  },
  {
   "cell_type": "code",
   "execution_count": 70,
   "metadata": {},
   "outputs": [
    {
     "data": {
      "text/plain": [
       "GridSearchCV(cv=5, error_score='raise-deprecating',\n",
       "       estimator=RandomForestRegressor(bootstrap=True, criterion='mse', max_depth=None,\n",
       "           max_features='auto', max_leaf_nodes=None,\n",
       "           min_impurity_decrease=0.0, min_impurity_split=None,\n",
       "           min_samples_leaf=1, min_samples_split=2,\n",
       "           min_weight_fraction_leaf=0.0, n_estimators=100, n_jobs=None,\n",
       "           oob_score=False, random_state=None, verbose=0, warm_start=False),\n",
       "       fit_params=None, iid='warn', n_jobs=None,\n",
       "       param_grid={'max_depth': [10, 20, 30, 40, 60], 'max_features': ('auto', 'sqrt', 'log2')},\n",
       "       pre_dispatch='2*n_jobs', refit=True, return_train_score='warn',\n",
       "       scoring=None, verbose=0)"
      ]
     },
     "execution_count": 70,
     "metadata": {},
     "output_type": "execute_result"
    }
   ],
   "source": [
    "from sklearn.ensemble import RandomForestRegressor\n",
    "from sklearn.datasets import make_regression\n",
    "parameters = {'max_depth':[10,20,30,40,60], 'max_features':(\"auto\",\"sqrt\",\"log2\")}\n",
    "r_forest_h =RandomForestRegressor(n_estimators=100)\n",
    "cv_forest_h = GridSearchCV(r_forest_h, parameters, cv=5)\n",
    "cv_forest_h.fit(X_tr_h, y_tr_h)"
   ]
  },
  {
   "cell_type": "code",
   "execution_count": 71,
   "metadata": {},
   "outputs": [
    {
     "data": {
      "text/plain": [
       "0.8532360137530346"
      ]
     },
     "execution_count": 71,
     "metadata": {},
     "output_type": "execute_result"
    }
   ],
   "source": [
    "cv_forest_h.best_params_ \n",
    "#'max_depth': 30, 'max_features': 'sqrt'\n",
    "cv_forest_h.best_score_\n",
    "#0.8326826645045186\n",
    "cv_forest_h.best_estimator_\n",
    "cv_forest_h.best_estimator_.score(X_te_h, y_te_h, sample_weight=None)\n",
    "#0.8544933513792606\n",
    "y_forest_h=cv_forest_h.best_estimator_.predict(X_te_h)\n",
    "mse_forest_h=np.mean((y_forest_h-y_te_h)**2)\n",
    "mse_forest_h\n",
    "#0.13293589624009577"
   ]
  },
  {
   "cell_type": "code",
   "execution_count": 75,
   "metadata": {},
   "outputs": [
    {
     "data": {
      "text/plain": [
       "GridSearchCV(cv=5, error_score='raise-deprecating',\n",
       "       estimator=XGBRegressor(base_score=0.5, booster='gbtree', colsample_bylevel=1,\n",
       "       colsample_bynode=1, colsample_bytree=1, gamma=0,\n",
       "       importance_type='gain', learning_rate=0.1, max_delta_step=0,\n",
       "       max_depth=3, min_child_weight=1, missing=None, n_estimators=100,\n",
       "       n_jobs=1, nthread=None, objective='reg:squarederror',\n",
       "       random_state=0, reg_alpha=0, reg_lambda=1, scale_pos_weight=1,\n",
       "       seed=None, silent=None, subsample=1, verbosity=1),\n",
       "       fit_params=None, iid='warn', n_jobs=None,\n",
       "       param_grid={'learning_rate': [0.01, 0.1, 0.5, 0.8], 'reg_alpha': [0.01, 0.5], 'reg_lambda': [0.01, 0.5], 'max_depth': [10, 30, 50, 80]},\n",
       "       pre_dispatch='2*n_jobs', refit=True, return_train_score='warn',\n",
       "       scoring=None, verbose=0)"
      ]
     },
     "execution_count": 75,
     "metadata": {},
     "output_type": "execute_result"
    }
   ],
   "source": [
    "import xgboost as xgb\n",
    "parameters_xgb = {'learning_rate':[0.01,0.1,0.5,0.8], 'reg_alpha':[0.01,0.5],'reg_lambda':[0.01,0.5],'max_depth':[10,30,50,80]}\n",
    "xgb_h =xgb.XGBRegressor(n_estimators=100,objective='reg:squarederror')\n",
    "cv_xgb_h = GridSearchCV(xgb_h, parameters_xgb, cv=5)\n",
    "cv_xgb_h.fit(X_tr_h, y_tr_h)"
   ]
  },
  {
   "cell_type": "code",
   "execution_count": 78,
   "metadata": {},
   "outputs": [
    {
     "data": {
      "text/plain": [
       "0.8336857760091754"
      ]
     },
     "execution_count": 78,
     "metadata": {},
     "output_type": "execute_result"
    }
   ],
   "source": [
    "cv_xgb_h.best_params_ \n",
    "#'learning_rate': 0.1, 'max_depth': 10, 'reg_alpha': 0.5, 'reg_lambda': 0.5\n",
    "cv_xgb_h.best_score_ \n",
    "#0.8027443780821132\n",
    "cv_xgb_h.best_estimator_.score(X_te_h, y_te_h, sample_weight=None)\n",
    "#0.8336857760091754\n",
    "y_xgb_h=cv_xgb_h.best_estimator_.predict(X_te_h)\n",
    "mse_xgb_h=np.mean((y_xgb_h-y_te_h)**2)\n",
    "mse_xgb_h\n",
    "#0.15194584325368798"
   ]
  },
  {
   "cell_type": "code",
   "execution_count": 79,
   "metadata": {},
   "outputs": [
    {
     "data": {
      "text/plain": [
       "GridSearchCV(cv=5, error_score='raise-deprecating',\n",
       "       estimator=KNeighborsRegressor(algorithm='auto', leaf_size=30, metric='minkowski',\n",
       "          metric_params=None, n_jobs=None, n_neighbors=5, p=2,\n",
       "          weights='uniform'),\n",
       "       fit_params=None, iid='warn', n_jobs=None,\n",
       "       param_grid={'n_neighbors': [2, 5, 10, 20, 30, 50], 'p': [1, 2], 'weights': ('uniform', 'distance')},\n",
       "       pre_dispatch='2*n_jobs', refit=True, return_train_score='warn',\n",
       "       scoring=None, verbose=0)"
      ]
     },
     "execution_count": 79,
     "metadata": {},
     "output_type": "execute_result"
    }
   ],
   "source": [
    "from sklearn.neighbors import KNeighborsRegressor\n",
    "neigh_h = KNeighborsRegressor()\n",
    "parameters_n = {'n_neighbors':[2,5,10,20,30,50], 'p':[1,2],'weights':(\"uniform\",\"distance\")}\n",
    "cv_neigh_h = GridSearchCV(neigh_h, parameters_n, cv=5)\n",
    "cv_neigh_h.fit(X_tr_h, y_tr_h)"
   ]
  },
  {
   "cell_type": "code",
   "execution_count": 123,
   "metadata": {},
   "outputs": [
    {
     "data": {
      "text/plain": [
       "0.8116995665819975"
      ]
     },
     "execution_count": 123,
     "metadata": {},
     "output_type": "execute_result"
    }
   ],
   "source": [
    "cv_neigh_h.best_params_ \n",
    "cv_neigh_h.best_score_\n",
    "#0.803699785930388\n",
    "cv_neigh_h.best_estimator_\n",
    "# 'n_neighbors': 5, 'p': 1, 'weights': 'distance'\n",
    "cv_neigh_h.best_estimator_.score(X_te_h, y_te_h, sample_weight=None)\n",
    "#0.8116995665819975\n",
    "y_neigh_h=cv_neigh_h.best_estimator_.predict(X_te_h)\n",
    "mse_neigh_h=np.mean((y_neigh_h-y_te_h)**2)\n",
    "mse_neigh_h\n",
    "#0.17203259862073958"
   ]
  },
  {
   "cell_type": "code",
   "execution_count": 8,
   "metadata": {},
   "outputs": [
    {
     "name": "stderr",
     "output_type": "stream",
     "text": [
      "/anaconda3/lib/python3.7/site-packages/sklearn/model_selection/_search.py:841: DeprecationWarning: The default of the `iid` parameter will change from True to False in version 0.22 and will be removed in 0.24. This will change numeric results when test-set sizes are unequal.\n",
      "  DeprecationWarning)\n"
     ]
    },
    {
     "data": {
      "text/plain": [
       "GridSearchCV(cv=5, error_score='raise-deprecating',\n",
       "       estimator=SVR(C=1.0, cache_size=200, coef0=0.0, degree=3, epsilon=0.1,\n",
       "  gamma='auto_deprecated', kernel='rbf', max_iter=-1, shrinking=True,\n",
       "  tol=0.001, verbose=False),\n",
       "       fit_params=None, iid='warn', n_jobs=None,\n",
       "       param_grid={'kernel': ('linear', 'poly', 'rbf', 'sigmoid'), 'C': [0.01, 1, 10, 50], 'gamma': ['auto', 'scale']},\n",
       "       pre_dispatch='2*n_jobs', refit=True, return_train_score='warn',\n",
       "       scoring=None, verbose=0)"
      ]
     },
     "execution_count": 8,
     "metadata": {},
     "output_type": "execute_result"
    }
   ],
   "source": [
    "from sklearn.svm import SVR\n",
    "svr_h=SVR()\n",
    "parameters_svr = {'kernel':(\"linear\",\"poly\",\"rbf\",\"sigmoid\"),'C':[0.01,1,10,50],'gamma':['auto','scale']}\n",
    "cv_svr_h = GridSearchCV(svr_h, parameters_svr, cv=5)\n",
    "cv_svr_h.fit(X_tr_h, y_tr_h)"
   ]
  },
  {
   "cell_type": "code",
   "execution_count": 9,
   "metadata": {},
   "outputs": [
    {
     "data": {
      "text/plain": [
       "0.08994620744988192"
      ]
     },
     "execution_count": 9,
     "metadata": {},
     "output_type": "execute_result"
    }
   ],
   "source": [
    "cv_svr_h.best_params_ \n",
    "#'C': 1, 'gamma': scale, 'kernel': 'rbf'\n",
    "cv_svr_h.best_score_ \n",
    "#0.8565540336476686\n",
    "cv_svr_h.best_estimator_.score(X_te_h, y_te_h, sample_weight=None)\n",
    "#0.9015482531630113\n",
    "y_svr_h=cv_svr_h.best_estimator_.predict(X_te_h)\n",
    "mse_svr_h=np.mean((y_svr_h-y_te_h)**2)\n",
    "mse_svr_h\n",
    "#0.08994620744988192"
   ]
  }
 ],
 "metadata": {
  "kernelspec": {
   "display_name": "Python 3",
   "language": "python",
   "name": "python3"
  },
  "language_info": {
   "codemirror_mode": {
    "name": "ipython",
    "version": 3
   },
   "file_extension": ".py",
   "mimetype": "text/x-python",
   "name": "python",
   "nbconvert_exporter": "python",
   "pygments_lexer": "ipython3",
   "version": "3.7.1"
  }
 },
 "nbformat": 4,
 "nbformat_minor": 2
}
