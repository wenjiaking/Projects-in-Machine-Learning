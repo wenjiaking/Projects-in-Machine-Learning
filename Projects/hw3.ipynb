{
 "cells": [
  {
   "cell_type": "markdown",
   "metadata": {},
   "source": [
    "# STA 208: Homework 3 (Do not distribute)\n",
    "\n",
    "## Due Monday 5/6/2019 at midnight\n",
    "\n",
    "__Instructions:__ Submit it on canvas.  The canvas should include all of your code either in this notebook file, or a separate python file that is imported and ran in this notebook.  We should be able to open this notebook and run everything here by running the cells in sequence.  The written portions can be either done in markdown and TeX in new cells or written clearly by hand when you hand it in.  Submit each file separately.\n",
    "\n",
    "- Code should be well organized and documented\n",
    "- All math should be clear and make sense sequentially\n",
    "- When in doubt explain what is going on\n",
    "- You will be graded on correctness of your math, code efficiency and succinctness, and conclusions and modelling decisions"
   ]
  },
  {
   "cell_type": "markdown",
   "metadata": {},
   "source": [
    "__Exercise 1__ (10 pts)\n",
    "\n",
    "Recall that surrogate losses for large margin classification take the form, $\\phi(y_i x_i^\\top \\beta)$ where $y_i \\in \\{-1,1\\}$ and $\\beta, x_i \\in \\mathbb R^p$.\n",
    "\n",
    "The following functions are used as surrogate losses for large margin classification.  Demonstrate if they are convex or not, and follow the instructions.\n",
    "\n",
    "1. exponential loss: $\\phi(x) = e^{-x}$\n",
    "### Answer:\n",
    "<font color=blue>\n",
    "    \n",
    "   Since the exponential loss is twice differentiable, $\\forall x\\in \\mathbb R$, so it is convex if and only if $\\frac {d^2 \\phi(x)} {d x^2} \\ge 0 $\n",
    "   $$\n",
    "   \\frac {d \\phi(x)} {dx}=-e^{-x}, \\frac {d^2 \\phi(x)} {d x^2}=e^{-x} \\ge 0, \\forall x\\in \\mathbb R\n",
    "   $$\n",
    "   \n",
    "   Therefore the exponential loss function is convex.\n",
    "   </font>\n",
    "   \n",
    " __Demonstrate the convexity of $\\phi(y_i x_i^\\top \\beta)$:__\n",
    " \n",
    " <font color=blue>\n",
    "   The exponential loss is $\\phi(y x^\\top \\beta) = e^{-y x^\\top \\beta}$, where $\\beta, x \\in \\mathbb R^p, y\\in \\mathbb R$. Note that the loss is twice differentiable.\n",
    "    \n",
    "   The first derivative of the loss is $\\nabla_{\\beta}\\phi(y x^\\top \\beta) =-yxe^ {-yx^\\top\\beta} $. The second derivative with respect to $\\beta_i,\\beta_j$ is $\\frac {\\partial \\phi(y x^\\top \\beta)} {\\partial \\beta_i \\beta_j} =y^2x_ix_je^ {-yx^\\top\\beta} $. So, the Hessian matrix is\n",
    "   $$\n",
    "   H=y^2e^ {-yx^\\top\\beta} x x^\\top\n",
    "   $$\n",
    "   \n",
    "   Note that $x x^\\top$ is positive semidefinite, since $\\forall z\\in \\mathbb R^p$, we have $z^\\top x x^\\top z=\\|x^\\top z\\|_2^2\\ge 0$. Consider $y^2e^ {-yx^\\top\\beta}\\ge 0$, and we can conclude that the Hessian matrix $H$ is positive semidefinite.Therefore, the loss is convex.\n",
    "   \n",
    "   </font>\n",
    "1. truncated quadratic loss: $\\phi(x) = (\\max\\{1-x,0\\})^2$\n",
    "### Answer:\n",
    "<font color=blue>\n",
    "   \n",
    "   The truncated quardratic loss can be written as \n",
    "   $$\n",
    "   \\phi(x)=\\begin{cases}\n",
    "    (1-x)^2, & x<1 \\\\\n",
    "    0, & x\\ge 1\n",
    "    \\end{cases}\n",
    "   $$\n",
    "   \n",
    "   Obviously it is piecewise differentiable and the derivative on each piece is\n",
    "   $$\n",
    "   \\frac {d \\phi(x)} {dx}=\\begin{cases}\n",
    "    -2(1-x), & x<1 \\\\\n",
    "    0, & x> 1\n",
    "    \\end{cases}\n",
    "   $$\n",
    "   \n",
    "   Now, we look at the circumstance at x=1. By the definition of derivative, we have\n",
    "   $$\n",
    "   {lim}_{x\\rightarrow1^-} \\frac {\\phi(x)-\\phi(1)} {x-1}={lim}_{x\\rightarrow1^-} \\frac {(1-x)^2} {x-1}={lim}_{x\\rightarrow1^-} x-1=0\n",
    "   $$\n",
    "   $$\n",
    "   {lim}_{x\\rightarrow1^+} \\frac {\\phi(x)-\\phi(1)} {x-1}={lim}_{x\\rightarrow1^+} \\frac 0 {x-1}={lim}_{x\\rightarrow1^+} 0=0\n",
    "   $$\n",
    "   \n",
    "   Since ${lim}_{x\\rightarrow1^-}={lim}_{x\\rightarrow1^+}=0$, then $\\frac {d \\phi(x)} {dx}|_{x=1}=0$. The first derivative is\n",
    "   $$\n",
    "   \\frac {d \\phi(x)} {dx}=\\begin{cases}\n",
    "    -2(1-x), & x<1 \\\\\n",
    "    0, & x\\ge 1\n",
    "    \\end{cases}\n",
    "   $$\n",
    "   \n",
    "   In terms of second derivative, again, it is twice differentiable on each piece, but when x=1, we have\n",
    "   $$\n",
    "   {lim}_{x\\rightarrow1^-} \\frac {\\frac {d \\phi(x)} {dx}-0} {x-1}={lim}_{x\\rightarrow1^-} \\frac {-2(1-x)} {x-1}={lim}_{x\\rightarrow1^-} 2=2\n",
    "   $$\n",
    "   $$\n",
    "   {lim}_{x\\rightarrow1^+} \\frac {0-0} {x-1}={lim}_{x\\rightarrow1^+} 0=0\n",
    "   $$\n",
    "   Since ${lim}_{x\\rightarrow1^-}\\neq{lim}_{x\\rightarrow1^+}$, then $\\frac {d^2 \\phi(x)} {dx^2}|_{x=1}$ doesn't exist. \n",
    "   $$\n",
    "   \\frac {d^2 \\phi(x)} {dx^2}=\\begin{cases}\n",
    "    2, & x<1 \\\\\n",
    "    doesn't exist, & x=1 \\\\\n",
    "    0, & x> 1\n",
    "    \\end{cases}\n",
    "   $$\n",
    "   Note that the loss is convex when x<1 and x>1, since the second derivative is nonnegative on the two intervals.\n",
    "   \n",
    "   Next, let's discuss the convexity on a interval containing 1. Assume a, b such that $a<1,b>1$, and $\\forall \\gamma\\in(0,1)$, if\n",
    "   $$\n",
    "   \\phi(\\gamma a+(1-\\gamma)b)\\le\\gamma\\phi(a)+(1-\\gamma)\\phi(b)=\\gamma\\phi(a)\n",
    "   $$\n",
    "   then we can say the truncated quadratic loss is convex on this interval by definition of convex function. Now, we are going to prove the above inequality:\n",
    "   $$\n",
    "   \\phi(\\gamma a+(1-\\gamma)b)-\\gamma\\phi(a)=\\begin{cases}\n",
    "    -\\gamma\\phi(a)\\le 0, & \\gamma a+(1-\\gamma)b\\ge1 \\\\\n",
    "    (1-\\gamma a-(1-\\gamma)b)^2-\\gamma(1- a)^2, & \\gamma a+(1-\\gamma)b < 1\n",
    "    \\end{cases}\n",
    "   $$\n",
    "   \n",
    "   Let's focus on the circumstance where $\\gamma a+(1-\\gamma)b < 1$:\n",
    "   \n",
    "   $$\n",
    "   (1-\\gamma a-(1-\\gamma)b)^2-\\gamma(1- a)^2\\le 0 \\Leftrightarrow 1-\\gamma a^2-2(1-\\gamma a)b+(1-\\gamma) b^2\\le0\n",
    "   $$\n",
    "   \n",
    "   Note that $1-\\gamma a^2-2(1-\\gamma a)b+(1-\\gamma) b^2=(b-1)^2-\\gamma(b-a)^2\\le 0$, since $\\gamma a+(1-\\gamma)b < 1 \\Rightarrow b-1 < \\gamma (b-a)$, and $\\gamma \\in (0,1)$\n",
    "   \n",
    "   Therefore, $\\phi(\\gamma a+(1-\\gamma)b)\\le\\gamma\\phi(a)+(1-\\gamma)\\phi(b)$ holds, and the truncated quadratic loss is convex on $\\mathbb R$\n",
    "   \n",
    "   </font>\n",
    "   \n",
    "   \n",
    "3. hinge loss: $\\phi(x) = \\max\\{1-x,0\\}$\n",
    "### Answer:\n",
    "\n",
    "<font color=blue>\n",
    "    Note that the hing loss is not differentiable at x=1, since\n",
    "    $$\n",
    "    {lim}_{x\\rightarrow1^-} \\frac {\\phi(x)-\\phi(1)} {x-1}={lim}_{x\\rightarrow1^-} \\frac {1-x} {x-1}={lim}_{x\\rightarrow1^-} -1=-1\n",
    "    $$\n",
    "    $$\n",
    "    {lim}_{x\\rightarrow1^+} \\frac {\\phi(x)-\\phi(1)} {x-1}={lim}_{x\\rightarrow1^+} \\frac 0 {x-1}={lim}_{x\\rightarrow1^+} 0=0\n",
    "    $$ \n",
    "   where ${lim}_{x\\rightarrow1^-} \\frac {\\phi(x)-\\phi(1)} {x-1}\\neq{lim}_{x\\rightarrow1^+} \\frac {\\phi(x)-\\phi(1)} {x-1}$\n",
    "    \n",
    "   However, when $x\\neq 1$, the loss is twice differentiable and the second derivative $\\frac {d^2 \\phi(x)} {dx^2}=0$ is nonnegative. So, $\\phi(x)$ is convex on the invervals $\\{x:x<1\\}$ and $\\{x:x>1\\}$. \n",
    "   \n",
    "   Next, let's look at the convexity on the interval containing 1.Assume a, b such that $a<1,b>1$, and $\\forall \\gamma\\in(0,1)$, if\n",
    "   $$\n",
    "   \\phi(\\gamma a+(1-\\gamma)b)\\le\\gamma\\phi(a)+(1-\\gamma)\\phi(b)=\\gamma\\phi(a)\n",
    "   $$\n",
    "   then we can say the hinge loss is convex on this interval by definition of convex function. Now, we are going to prove the above inequality:\n",
    "   $$\n",
    "   \\phi(\\gamma a+(1-\\gamma)b)-\\gamma\\phi(a)=\\begin{cases}\n",
    "    -\\gamma\\phi(a)\\le 0, & \\gamma a+(1-\\gamma)b\\ge1 \\\\\n",
    "    1-\\gamma a-(1-\\gamma)b-\\gamma(1- a)=(1-\\gamma)(1-b)\\le 0, & \\gamma a+(1-\\gamma)b < 1\n",
    "    \\end{cases}\n",
    "   $$\n",
    "   \n",
    "   Therefore, $\\phi(\\gamma a+(1-\\gamma)b)\\le\\gamma\\phi(a)+(1-\\gamma)\\phi(b)$ holds, and the hinge loss is convex on $\\mathbb R$\n",
    "   \n",
    "   \n",
    "   </font>\n",
    "4. sigmoid loss: $\\phi(x) = 1 - \\tanh(\\kappa x)$, for fixed $\\kappa > 0$\n",
    "\n",
    "### Answer:\n",
    "<font color=blue>\n",
    "    The sigmoid loss can be written as\n",
    "    $$\n",
    "    \\phi(x)=1 - \\tanh(\\kappa x)=1-(1-\\frac {2e^{-\\kappa x}} {e^{\\kappa x}+e^{-\\kappa x}})=\\frac {2e^{-\\kappa x}} {e^{\\kappa x}+e^{-\\kappa x}}=\\frac {2} {e^{2\\kappa x}+1}\n",
    "    $$\n",
    "    \n",
    "   The first derivative is $\\frac {d\\phi(x)} {dx} =-\\frac {4\\kappa e^{2\\kappa x}} {(e^{2\\kappa x}+1)^2} $. And the second derivative is\n",
    "   $$\n",
    "   \\frac {d^2\\phi(x)} {dx^2}=8\\kappa^2e^{2\\kappa x}(e^{2\\kappa x}+1)^{-2}(\\frac {2e^{2\\kappa x}} {e^{2\\kappa x}+1}-1)\n",
    "   $$\n",
    "   \n",
    "   where $8\\kappa^2e^{2\\kappa x}(e^{2\\kappa x}+1)^{-2}\\ge 0$.\n",
    "   \n",
    "   If $\\frac {2e^{2\\kappa x}} {e^{2\\kappa x}+1}-1\\ge 0$, ie $x \\ge 0$, the loss is convex. Otherewise loss is concave.\n",
    "   \n",
    "   </font>\n",
    "5. Plot these as a function of $x$.\n",
    "\n",
    "(This problem is due to notes of Larry Wasserman.) \n"
   ]
  },
  {
   "cell_type": "code",
   "execution_count": 131,
   "metadata": {},
   "outputs": [],
   "source": [
    "import numpy as np\n",
    "from scipy.linalg import svd\n",
    "import pandas as pd\n",
    "from sklearn import model_selection, linear_model, neighbors, preprocessing, metrics\n",
    "import matplotlib as mpl\n",
    "import matplotlib.pyplot as plt\n",
    "import re\n",
    "\n",
    "%matplotlib inline"
   ]
  },
  {
   "cell_type": "code",
   "execution_count": 132,
   "metadata": {},
   "outputs": [],
   "source": [
    "x=np.arange(-4,4,0.1)\n",
    "y1=np.exp(-x)\n",
    "y2=[(1-i)**2 if 1-i >0 else 0 for i in x]\n",
    "y3=[(1-i) if 1-i>0 else 0 for i in x]\n",
    "y4=1-np.tanh(x)"
   ]
  },
  {
   "cell_type": "code",
   "execution_count": 4,
   "metadata": {},
   "outputs": [
    {
     "data": {
      "text/plain": [
       "<matplotlib.legend.Legend at 0x1a1eafa898>"
      ]
     },
     "execution_count": 4,
     "metadata": {},
     "output_type": "execute_result"
    },
    {
     "data": {
      "image/png": "[encoded data removed]",
      "text/plain": [
       "<Figure size 432x288 with 1 Axes>"
      ]
     },
     "metadata": {
      "needs_background": "light"
     },
     "output_type": "display_data"
    }
   ],
   "source": [
    "\n",
    "plt.plot(x, y1,label='Exponential Loss')\n",
    "plt.plot(x, y2,label='Truncated Quadratic Loss')\n",
    "plt.plot(x, y3,label='Hinge Loss')\n",
    "plt.plot(x, y4,label='Sigmoid Loss')\n",
    "plt.ylim([-.2,5])\n",
    "plt.xlabel('x')\n",
    "plt.ylabel('Loss')\n",
    "plt.title('Comparison of Loss Functions')\n",
    "plt.legend()\n"
   ]
  },
  {
   "cell_type": "markdown",
   "metadata": {},
   "source": [
    "__Exercise 2__ (20 pts)\n",
    "\n",
    "Consider the truncated quadratic loss from (1.1.2).  For brevity let $a_+ = max\\{a,0\\}$ denote the positive part of $a$.\n",
    "\n",
    "$$\\ell(y_i,x_i,\\beta) = \\phi(y_i x_i^\\top \\beta) = (1-y_i x_i^\\top \\beta)_+^2$$\n",
    "\n",
    "1. Consider the empirical risk, $R_n$ (the average loss over a training set) for the truncated quadratic loss.  What is gradient of $R_n$ in $\\beta$?  Does it always exists?\n",
    "### Answer:\n",
    "<font color=blue>\n",
    "    The empirical risk is $R_n=\\frac 1n \\sum_{i=1}^n \\ell(y_i,x_i,\\beta)$. The gradient of $R_n$ in $\\beta$ is\n",
    "    $$\n",
    "    e_{\\beta} R_n=\\frac 1n \\sum_{i=1}^n \\nabla_{\\beta} \\ell(y_i,x_i,\\beta)\n",
    "    $$\n",
    "    \n",
    "   By Exercise_1, we obtained that\n",
    "   $$\n",
    "    \\ell(y_i,x_i,\\beta)=\\phi(y_i x_i^\\top \\beta)=\\begin{cases}\n",
    "    (1-y_i x_i^\\top \\beta)^2, & y_i x_i^\\top \\beta<1 \\\\\n",
    "    0, & y_i x_i^\\top \\beta\\ge 1\n",
    "    \\end{cases}\n",
    "   $$\n",
    "   \n",
    "   It is obvious that the loss function $\\ell(y_i,x_i,\\beta)$ has gradient with respect with $\\beta$ when $\\beta \\notin \\{\\beta: y_i x_i^\\top \\beta=1\\}$, which is\n",
    "   $$\n",
    "   \\nabla_{\\beta} \\ell(y_i,x_i,\\beta)=\\begin{cases}\n",
    "   -2y_ix_i(1-y_i x_i^\\top \\beta), & y_i x_i^\\top \\beta<1 \\\\\n",
    "    0, & y_i x_i^\\top \\beta > 1\n",
    "    \\end{cases}\n",
    "   $$\n",
    "   \n",
    "   Next we discuss the gradient at $\\beta \\in \\{\\beta: y_i x_i^\\top \\beta=1\\}$ based on the definition of gradient.\n",
    "   \n",
    "   $\\forall \\beta\\prime$, we define $\\Delta \\beta=\\beta\\prime-\\beta$, where $\\beta \\in \\{\\beta: y_i x_i^\\top \\beta=1\\}$. Consider the limit:\n",
    "   \n",
    "   $$\n",
    "   {lim}_{\\|\\Delta \\beta\\|\\rightarrow0} \\frac {\\phi(y_i x_i^\\top (\\beta+\\Delta \\beta))-\\phi(y_i x_i^\\top \\beta)} {\\|\\Delta \\beta\\|}={lim}_{\\|\\Delta \\beta\\|\\rightarrow0} \\frac {\\phi(y_i x_i^\\top (\\beta+\\Delta \\beta))} {\\|\\Delta \\beta\\|}=\\begin{cases}\n",
    "    {lim}_{\\|\\Delta \\beta\\|\\rightarrow0} \\frac {(y_i x_i^\\top \\Delta \\beta)^2} {\\|\\Delta \\beta\\|}, & y_i x_i^\\top \\beta\\prime<1 \\\\\n",
    "    {lim}_{\\|\\Delta \\beta\\|\\rightarrow0} \\frac {0} {\\|\\Delta \\beta\\|}=0, & y_i x_i^\\top \\beta\\prime\\ge 1\n",
    "    \\end{cases}\n",
    "   $$\n",
    "   \n",
    "   Let's look at the circumstance when $y_i x_i^\\top \\beta\\prime<1$ closely:\n",
    "   $$\n",
    "   {lim}_{\\|\\Delta \\beta\\|\\rightarrow0} \\frac {(y_i x_i^\\top \\Delta \\beta)^2} {\\|\\Delta \\beta\\|}={lim}_{\\|\\Delta \\beta\\|\\rightarrow0}\\ y_i^2 (x_i^\\top e)^2 \\|\\Delta \\beta\\|=0\n",
    "   $$\n",
    "   where $e=\\frac {\\Delta \\beta} {\\|\\Delta \\beta\\|}$. So the gradient at $\\beta \\in \\{\\beta: y_i x_i^\\top \\beta=1\\}$ is 0. \n",
    "   \n",
    "   Therefore the gradient of the empirical loss always exist:\n",
    "   $$\n",
    "   \\nabla_{\\beta} R_n=\\frac 1n \\sum_{i=1}^n (-2y_ix_i(1-y_i x_i^\\top \\beta))1\\{y_i x_i^\\top \\beta<1\\}\n",
    "   $$\n",
    "  \n",
    "   </font>\n",
    "2. Demonstrate that the gradient does not have continuous derivative everywhere.\n",
    "### Answer:\n",
    "<font color=blue>\n",
    "    \n",
    "   By Exercise_1, we have demonstrated that when p=1, the truncated quadratic loss doesn't have second derivative at x=1. So the gradient does not have continuous derivative everywhere.\n",
    "   \n",
    "   From another perspective, by the definition of derivative, we have\n",
    "   $$\n",
    "   {lim}_{\\|\\Delta \\beta\\|\\rightarrow0} \\frac {\\nabla_{\\beta}\\phi(y_i x_i^\\top\\beta)|_{\\beta+\\Delta \\beta}-\\nabla_{\\beta}\\phi(y_i x_i^\\top\\beta)|_{\\beta}} {\\|\\Delta \\beta\\|}=\\begin{cases}\n",
    "    {lim}_{\\|\\Delta \\beta\\|\\rightarrow0} \\frac {2 y_i^2x_i x_i^\\top \\Delta \\beta} {\\|\\Delta \\beta\\|}, & y_i x_i^\\top \\beta\\prime<1 \\\\\n",
    "    {lim}_{\\|\\Delta \\beta\\|\\rightarrow0} \\frac {0} {\\|\\Delta \\beta\\|}=0, & y_i x_i^\\top \\beta\\prime\\ge 1\n",
    "    \\end{cases}\n",
    "   $$\n",
    "   where $\\beta \\in \\{\\beta: y_i x_i^\\top \\beta=1\\}$ and $\\Delta \\beta=\\beta\\prime-\\beta, \\forall \\beta\\prime$\n",
    "   \n",
    "   Since ${lim}_{\\|\\Delta \\beta\\|\\rightarrow0} \\frac {2 y_i^2x_i x_i^\\top \\Delta \\beta} {\\|\\Delta \\beta\\|}={lim}_{\\|\\Delta \\beta\\|\\rightarrow0} 2 y_i^2x_i x_i^\\top e=2 y_i^2x_i x_i^\\top e$ where $e=\\frac {\\Delta \\beta} {\\|\\Delta \\beta\\|}$,when $y_i x_i^\\top \\beta\\prime<1$. The limit depends on the direction of $\\Delta \\beta$ and is not always equal to 0 which is the limit when $y_i x_i^\\top \\beta\\prime\\ge1$.\n",
    "   \n",
    "   Therefore, the gradient does not have continuous derivative everywhere.\n",
    "    \n",
    "   </font>\n",
    "   \n",
    "3. Recall that support vector machines used the hinge loss $(1 - y_i x_i^\\top \\beta)_+$ with a ridge regularization. Write the regularized optimization method for the truncated quadratic loss, and derive the gradient of the regularized empirical risk.\n",
    "### Answer:\n",
    "    \n",
    "   __Regularized Optimization Method:__\n",
    "   \n",
    "   <font color=blue>\n",
    "   \n",
    "   Maximizing margin is equivalent to minimizing \n",
    "    $$\n",
    "    \\min \\| \\beta \\|\\quad \\textrm{s.t.}\\quad y_i x_i^\\top \\beta \\ge 1\n",
    "    $$\n",
    "   \n",
    "   Thus, the regularized optimization method for the truncated quadratic loss is also ridge reguarization. And the regularized empitical risk is\n",
    "   \n",
    "   $$\n",
    "   L(\\beta)=R_n + \\lambda \\| \\beta \\|^2=\\frac 1n \\sum_{i=1}^n \\ell(y_i,x_i,\\beta)+ \\lambda \\| \\beta \\|^2\n",
    "   $$\n",
    "   </font>\n",
    "   \n",
    "   __Gradient of the Empirical risk:__\n",
    "   \n",
    "   <font color=blue>\n",
    "   \n",
    "   The gradient of $L(\\beta)=R_n + \\lambda \\| \\beta \\|^2\\}$ is \n",
    "   \n",
    "   $$\n",
    "   \\nabla L(\\beta)=\\nabla_{\\beta} R_n+2\\lambda  \\beta =\\frac 1n \\sum_{i=1}^n (-2y_ix_i(1-y_i x_i^\\top \\beta))1\\{y_i x_i^\\top \\beta<1\\}+2\\lambda  \\beta\n",
    "   $$\n",
    "    \n",
    "    \n",
    "   </font>\n",
    "   \n",
    "4. In quasi-Newton methods a matrix ($Q$) that is a surrogate for the Hessian of the objective $L$ is used to determine step direction.\n",
    "\n",
    "$$\n",
    "\\beta \\gets \\beta - Q^{-1} \\nabla L(\\beta)\n",
    "$$\n",
    "\n",
    "\n",
    "Because the loss does not have continuous Hessian, instead of the Newton method, we will use a quasi-Newton method that replaces the Hessian with a quasi-Hessian (another matrix that is meant to approximate the Hessian).  Consider the following quasi-Hessian of the regularized objective to be $$G(\\beta) = \\frac 1n \\sum_i 2 (x_i x_i^\\top 1\\{ y_i x_i^\\top \\beta < 1 \\}) + 2 \\lambda I.$$  Demonstrate that the quasi-Hessian is positive definite, and write pseudo-code for quasi-Newton optimization, comment on the computational complexity of this method.\n",
    "### Answer:\n",
    "\n",
    "    \n",
    "   __Positive Definite Quasi-Hessian:__\n",
    "   <font color=blue>\n",
    "   \n",
    "   $\\forall z\\in \\mathbb {R^p}$, we have\n",
    "   \n",
    "   $$\n",
    "   z^\\top G(\\beta) z=\\frac 1n \\sum_i 2 ((z^\\top x_i x_i^\\top z) 1\\{ y_i x_i^\\top \\beta < 1 \\}) + 2 \\lambda z^\\top z=\\frac 1n \\sum_i 2 \\|x_i^\\top z\\|_2^2 1\\{ y_i x_i^\\top \\beta < 1 \\}) + 2 \\lambda \\|z\\|_2^2\\ge 0\n",
    "   $$\n",
    "   \n",
    "   Note that $z=0 \\Leftrightarrow z^\\top G(\\beta) z=0$, since $2 \\lambda \\|z\\|_2^2=0 \\Leftrightarrow z=0$. Therefore the quasi-Hessian is positive definite.\n",
    "   </font>\n",
    "    \n",
    "   __Pseudo-code for Quasi-Newton Optimization:__\n",
    "   \n",
    "   <font color=blue>\n",
    "   \n",
    "   $L(\\beta)$ is the loss function (regularized empirical risk), we implement quasi-Newton optimization to find the root of $\\nabla L(\\beta)$. Details are shown in algorithm below:\n",
    "\n",
    "(i). Initial step: $\\beta_0\\gets$ a p-dimension random vector, $\\beta_1\\gets \\beta_0-G(\\beta)^{-1}\\nabla L(\\beta)$\n",
    "\n",
    "(ii). While $\\|\\beta_1-\\beta_0\\|_2<\\epsilon$, update $\\beta_0, \\beta_1$: $\\beta_0\\gets\\beta_1$, $\\beta_1\\gets \\beta_0-G(\\beta)^{-1}\\nabla L(\\beta)$, where $\\epsilon$ is the tolerant error\n",
    "        \n",
    "(iii). Eventually, return $\\beta_1$\n",
    "</font>\n",
    "\n",
    "   __Computational Complexity:__\n",
    "   \n",
    "   <font color=blue>\n",
    "   Assume the iteration time is $T$ and there are $m$ samples such that $ y_i x_i^\\top \\beta < 1 $ , then the computational complexity of this method is $O(Tmp^2)$, since the computational complexity of matrix inverse is $O(mp^2)$\n",
    "\n",
    "    \n",
    "   </font>"
   ]
  },
  {
   "cell_type": "markdown",
   "metadata": {},
   "source": [
    "**Exercise 3 (20 pts)**\n",
    "\n",
    "Consider the simulation below.\n",
    "\n",
    "1. Implement minibatch stochastic gradient descent using the truncated quadratic loss.  Access the data by iteratively calling the ``sim_data`` method below.  \n",
    "\n",
    "2. With minibatch size of $1$ (SGD).  Vary to learning schedule to be constant, decaying with $\\eta_t \\propto t**{-1/2}$, and $\\eta_t \\propto t^{-1}$.  Compare with normal noise (the ``noise_dis`` parm).\n",
    "\n",
    "3. Vary the minibatch size to see the change in performance, with the best learning schedule from 2. When you compare two methods, make sure that you compare them with the same amount of data accessed (so use 1:10 ratio of iterations if you are comparing a minibatch ratio of 10:1).\n",
    "\n",
    "4. Redo 2, 3 with ``noise_dis`` set to ``\"chisquare\"``."
   ]
  },
  {
   "cell_type": "markdown",
   "metadata": {},
   "source": [
    "### Answer 1:\n",
    "\n",
    "<font color=blue>\n",
    "\n",
    "I designed a class named MSGD_update to implement minibatch stochastic gradient descent using truncated quardratic loss. Details are shown in codes below:\n",
    "</font>"
   ]
  },
  {
   "cell_type": "code",
   "execution_count": 249,
   "metadata": {},
   "outputs": [],
   "source": [
    "import numpy as np\n",
    "import matplotlib\n",
    "matplotlib.use('Agg')\n",
    "from matplotlib import pyplot as plt"
   ]
  },
  {
   "cell_type": "code",
   "execution_count": 250,
   "metadata": {},
   "outputs": [],
   "source": [
    "class DataSimulator:\n",
    "    \"\"\"\n",
    "    Simulate the data for linear classification\n",
    "    \"\"\"\n",
    "    def __init__(self,p,noise_dist = \"normal\"):\n",
    "        self.beta = np.random.normal(0,1,p)\n",
    "        self.noise_dist = noise_dist\n",
    "        self.p = p\n",
    "        \n",
    "    def sim_data(self,m = 1):\n",
    "        p = self.p\n",
    "        X = np.random.normal(0,1,(m,p))\n",
    "        if self.noise_dist == \"normal\":\n",
    "            eps = np.random.normal(0,1,m)\n",
    "        if self.noise_dist == \"chisquare\":\n",
    "            eps = np.random.chisquare(1,m)\n",
    "        z = X @ self.beta + eps\n",
    "        y = 1*(z > 0)\n",
    "        return X, y"
   ]
  },
  {
   "cell_type": "code",
   "execution_count": 251,
   "metadata": {},
   "outputs": [],
   "source": [
    "np.random.seed(3)\n",
    "ds = DataSimulator(10)# p=10\n",
    "beta_true=ds.beta"
   ]
  },
  {
   "cell_type": "code",
   "execution_count": 252,
   "metadata": {},
   "outputs": [],
   "source": [
    "class MSGD_update:\n",
    "    \"\"\"\n",
    "    Truncated quardratic loss, online learner\n",
    "\n",
    "    Attributes:\n",
    "        eta: learning rate\n",
    "        beta: coefficient vector\n",
    "        p: dimension of X\n",
    "        beta_zero: intercept\n",
    "    \"\"\"\n",
    "\n",
    "    def __init__(self,p,m,\n",
    "                 beta_init=None):\n",
    "        \"\"\"initialize and set beta\"\"\"\n",
    "        self.p = p\n",
    "        self.m=m\n",
    "        if beta_init:\n",
    "            self.beta = beta_init\n",
    "        else:\n",
    "            self.beta = np.zeros(p)\n",
    "            \n",
    "    def predict(self,x):\n",
    "        \"\"\"predict y with x\"\"\"\n",
    "        s = x @ self.beta\n",
    "        return s\n",
    "\n",
    "    def update_beta(self,x,y,eta):\n",
    "        \"\"\"single step update output 0/1 loss\"\"\"\n",
    "        s = self.predict(x)\n",
    "        ind=1*(y*s < 1)\n",
    "        dev=[-2*y[i]*(1-y[i]*x[i,:]@self.beta)*x[i,:] for i in range(self.m) if ind[i] == 1]\n",
    "        grad=-1/self.m*np.sum(dev,axis=0)\n",
    "        self.beta += eta * grad\n",
    "        return self.beta\n"
   ]
  },
  {
   "cell_type": "markdown",
   "metadata": {},
   "source": [
    "### Answer 2:\n",
    "\n",
    "__(1) Constant Learning Step:__\n",
    "\n",
    "<font color=blue>\n",
    "    \n",
    "   In order to choose a good constant stepsize to realize fast convergence, I tuned the constant and it turns out that the choice of c=0.03 is ok\n",
    "   \n",
    "  </font>\n",
    "  \n",
    "__(2) Decaying with $\\eta_t \\propto t**{-1/2}$:__\n",
    "\n",
    "<font color=blue>\n",
    "    \n",
    "   Assume $\\eta_t =c* t**{-1/2}$. Similarly, I tune the scalar c firstly and choose c=0.36.\n",
    "   \n",
    "   </font>\n",
    "   \n",
    "__(3) Decaying with $\\eta_t \\propto t**{-1}$:__\n",
    "\n",
    " <font color=blue>\n",
    "    \n",
    "   Assume $\\eta_t =c* t^{-1}$. Again, I tune the scalar c firstly and choose c=0.7.\n",
    "   \n",
    "   </font>\n"
   ]
  },
  {
   "cell_type": "code",
   "execution_count": 253,
   "metadata": {},
   "outputs": [
    {
     "name": "stderr",
     "output_type": "stream",
     "text": [
      "/anaconda3/lib/python3.7/site-packages/ipykernel_launcher.py:11: RuntimeWarning: overflow encountered in square\n",
      "  # This is added back by InteractiveShellApp.init_path()\n"
     ]
    },
    {
     "data": {
      "text/plain": [
       "0.03"
      ]
     },
     "execution_count": 253,
     "metadata": {},
     "output_type": "execute_result"
    }
   ],
   "source": [
    "#normal noise_dist,m=1,constant learning step: tuning step size c\n",
    "np.random.seed(3)\n",
    "t_iter = 1001\n",
    "loss = []\n",
    "for c in np.arange(0.01,1,0.01):\n",
    "    msgd=MSGD_update(p=10,m=1)\n",
    "    for t in range(1,t_iter):\n",
    "        x,y=ds.sim_data(m=1)\n",
    "        y=2*(y>0)-1\n",
    "        beta=msgd.update_beta(x,y,eta=c)\n",
    "    err=sum((beta-beta_true)**2)\n",
    "    loss.append(err)\n",
    "np.arange(0.01,1,0.01)[np.argmin(loss)]"
   ]
  },
  {
   "cell_type": "code",
   "execution_count": 254,
   "metadata": {},
   "outputs": [
    {
     "data": {
      "text/plain": [
       "0.3599999999999999"
      ]
     },
     "execution_count": 254,
     "metadata": {},
     "output_type": "execute_result"
    }
   ],
   "source": [
    "#normal noise_dist,m=1,c*t**-1/2: tuning c\n",
    "t_iter = 1001\n",
    "loss = []\n",
    "np.random.seed(3)\n",
    "for c in np.arange(0.1,1,0.01):\n",
    "    msgd=MSGD_update(p=10,m=1)\n",
    "    for t in range(1,t_iter):\n",
    "        x,y=ds.sim_data(m=1)\n",
    "        y=2*(y>0)-1\n",
    "        beta=msgd.update_beta(x,y,c*t**(-1/2))\n",
    "    err=sum((beta-beta_true)**2)\n",
    "    loss.append(err)\n",
    "    \n",
    "np.arange(0.1,1,0.01)[np.argmin(loss)]"
   ]
  },
  {
   "cell_type": "code",
   "execution_count": 255,
   "metadata": {},
   "outputs": [
    {
     "data": {
      "text/plain": [
       "0.6999999999999996"
      ]
     },
     "execution_count": 255,
     "metadata": {},
     "output_type": "execute_result"
    }
   ],
   "source": [
    "#normal noise_dist,m=1,c*t**-1: tuning c\n",
    "t_iter = 1001\n",
    "loss = []\n",
    "np.random.seed(3)\n",
    "for c in np.arange(0.1,1,0.01):\n",
    "    msgd=MSGD_update(p=10,m=1)\n",
    "    for t in range(1,t_iter):\n",
    "        x,y=ds.sim_data(m=1)\n",
    "        y=2*(y>0)-1\n",
    "        beta=msgd.update_beta(x,y,c*t**(-1))\n",
    "    err=sum((beta-beta_true)**2)\n",
    "    loss.append(err)\n",
    "    \n",
    "np.arange(0.1,1,0.01)[np.argmin(loss)]"
   ]
  },
  {
   "cell_type": "markdown",
   "metadata": {},
   "source": [
    "__(4) Compare with Normal Noise:__\n",
    "\n",
    "<font color=blue>\n",
    "    \n",
    "   The figure \"Compare with Normal Noise\" compared the performances of different decaying under Normal noise. Here I used the tuned scalar above and the decaying is $\\eta=0.03$, $\\eta_t =0.36t^{-1/2}$, $\\eta_t =0.7t^{-1}$.\n",
    "   \n",
    "   It seems that decaying with $\\eta_t \\propto t^{-1/2}$ performs best, since it attains the smallest sum of square error after fewer iterations.\n",
    "   \n",
    "   </font>\n",
    "\n"
   ]
  },
  {
   "cell_type": "code",
   "execution_count": 256,
   "metadata": {},
   "outputs": [
    {
     "data": {
      "text/plain": [
       "0.29185602795944365"
      ]
     },
     "execution_count": 256,
     "metadata": {},
     "output_type": "execute_result"
    }
   ],
   "source": [
    "#normal noise_dist,m=1,constant stepsize c=0.03\n",
    "t_iter = 3001\n",
    "np.random.seed(3)\n",
    "msgd=MSGD_update(p=10,m=1)\n",
    "loss_c = []\n",
    "for t in range(1,t_iter):\n",
    "    x,y=ds.sim_data(m=1)\n",
    "    y = 2*(y > 0) - 1\n",
    "    beta=msgd.update_beta(x,y,0.03)\n",
    "    err=sum((beta-beta_true)**2)\n",
    "    loss_c.append(err)\n",
    "np.min(loss_c)"
   ]
  },
  {
   "cell_type": "code",
   "execution_count": 257,
   "metadata": {},
   "outputs": [
    {
     "data": {
      "text/plain": [
       "0.21481535133842808"
      ]
     },
     "execution_count": 257,
     "metadata": {},
     "output_type": "execute_result"
    }
   ],
   "source": [
    "#normal noise_dist,m=1,t**-1/2, using scalar c=0.36\n",
    "t_iter = 3001\n",
    "np.random.seed(3)\n",
    "msgd=MSGD_update(p=10,m=1)\n",
    "loss_sqr = []\n",
    "for t in range(1,t_iter):\n",
    "    x,y=ds.sim_data(m=1)\n",
    "    y = 2*(y > 0) - 1\n",
    "    beta=msgd.update_beta(x,y,0.36*t**(-1/2))\n",
    "    err=sum((beta-beta_true)**2)\n",
    "    loss_sqr.append(err)\n",
    "np.min(loss_sqr)"
   ]
  },
  {
   "cell_type": "code",
   "execution_count": 258,
   "metadata": {},
   "outputs": [
    {
     "data": {
      "text/plain": [
       "0.616248902109272"
      ]
     },
     "execution_count": 258,
     "metadata": {},
     "output_type": "execute_result"
    }
   ],
   "source": [
    "#normal noise_dist,m=1,t**-1, using scalar c=0.7\n",
    "t_iter = 3001\n",
    "np.random.seed(3)\n",
    "msgd=MSGD_update(p=10,m=1)\n",
    "loss_inv = []\n",
    "for t in range(1,t_iter):\n",
    "    x,y=ds.sim_data(m=1)\n",
    "    y = 2*(y > 0) - 1\n",
    "    beta=msgd.update_beta(x,y,0.7*t**(-1))\n",
    "    err=sum((beta-beta_true)**2)\n",
    "    loss_inv.append(err)\n",
    "np.min(loss_inv)"
   ]
  },
  {
   "cell_type": "code",
   "execution_count": 259,
   "metadata": {},
   "outputs": [
    {
     "data": {
      "image/png": "[encoded data removed]",
      "text/plain": [
       "<Figure size 432x288 with 1 Axes>"
      ]
     },
     "metadata": {
      "needs_background": "light"
     },
     "output_type": "display_data"
    }
   ],
   "source": [
    "plt.plot(range(1,t_iter),loss_c, c='b', label='constant decaying')\n",
    "plt.plot(range(1,t_iter), loss_sqr, c='r', label='t**-0.5 decaying')\n",
    "plt.plot(range(1,t_iter),loss_inv, c='g', label='t**-1 decaying')\n",
    "plt.legend()\n",
    "plt.title(\"Compare with Normal Noise\")\n",
    "plt.ylim(0, 10)\n",
    "\n",
    "plt.show()"
   ]
  },
  {
   "cell_type": "markdown",
   "metadata": {},
   "source": [
    "### Answer 3:\n",
    "<font color=blue>\n",
    "    \n",
    "The figure \"Compare Size with Normal Noise\" shows that the sum of square error will increase as the minibatch size increases. Here the minibatch size range I use is np.arange(1,100,10), and it turns out that when m=1, the error is smallest.\n",
    "</font>"
   ]
  },
  {
   "cell_type": "code",
   "execution_count": 260,
   "metadata": {},
   "outputs": [
    {
     "name": "stdout",
     "output_type": "stream",
     "text": [
      "1.4606556133994402\n",
      "1\n"
     ]
    },
    {
     "data": {
      "image/png": "[encoded data removed]",
      "text/plain": [
       "<Figure size 432x288 with 1 Axes>"
      ]
     },
     "metadata": {
      "needs_background": "light"
     },
     "output_type": "display_data"
    }
   ],
   "source": [
    "t_iter = 3000\n",
    "np.random.seed(3)\n",
    "loss_size = []\n",
    "for i in np.arange(1,100,10):\n",
    "    t=t_iter//i\n",
    "    msgd=MSGD_update(p=10,m=i)\n",
    "    for j in range(1,t):\n",
    "        x,y=ds.sim_data(m=i)\n",
    "        y = 2*(y > 0) - 1\n",
    "        beta=msgd.update_beta(x,y,0.36*t**(-1/2))\n",
    "    err=sum((beta-beta_true)**2)\n",
    "    loss_size.append(err)\n",
    "plt.plot(np.arange(1,100,10),loss_size)\n",
    "plt.title(\"Compare Size with Normal Noise\")\n",
    "plt.xlabel(\"Minibatch size\")\n",
    "plt.ylabel(\"Sum of Square Error\")\n",
    "print(np.min(loss_size))\n",
    "print(np.arange(1,100,10)[np.argmin(loss_size)])"
   ]
  },
  {
   "cell_type": "markdown",
   "metadata": {},
   "source": [
    "### Answer 4:\n",
    "__(1) Compare with Chi-square Noise:__\n",
    "\n",
    "<font color=blue>\n",
    "    \n",
    "   The figure \"Compare with Chi-square Noise\" compared the performances of different decaying under Chi-square noise. Here I used the same tuned scalar as part(2) respectively which are $\\eta=0.03$, $\\eta_t =0.36t^{-1/2}$, $\\eta_t =0.7t^{-1}$.\n",
    "   \n",
    "   It seems that decaying with $\\eta_t \\propto t^{-1/2}$ still performs best, since it attains the smallest sum of square error after fewer iterations.\n",
    "   \n",
    "   </font>"
   ]
  },
  {
   "cell_type": "code",
   "execution_count": 261,
   "metadata": {},
   "outputs": [],
   "source": [
    "np.random.seed(3)\n",
    "ds_chi = DataSimulator(10,noise_dist = \"chisquare\")\n",
    "beta_true_chi=ds_chi.beta"
   ]
  },
  {
   "cell_type": "code",
   "execution_count": 262,
   "metadata": {},
   "outputs": [
    {
     "data": {
      "text/plain": [
       "0.7298881905228923"
      ]
     },
     "execution_count": 262,
     "metadata": {},
     "output_type": "execute_result"
    }
   ],
   "source": [
    "#chi-square noise_dist,m=1,constant stepsize c=0.03\n",
    "t_iter = 3001\n",
    "np.random.seed(3)\n",
    "msgd=MSGD_update(p=10,m=1)\n",
    "loss_c_chi = []\n",
    "for t in range(1,t_iter):\n",
    "    x,y=ds_chi.sim_data(m=1)\n",
    "    y = 2*(y > 0) - 1\n",
    "    beta=msgd.update_beta(x,y,0.03)\n",
    "    err=sum((beta-beta_true_chi)**2)\n",
    "    loss_c_chi.append(err)\n",
    "np.min(loss_c_chi)"
   ]
  },
  {
   "cell_type": "code",
   "execution_count": 263,
   "metadata": {},
   "outputs": [
    {
     "data": {
      "text/plain": [
       "0.18204180818890098"
      ]
     },
     "execution_count": 263,
     "metadata": {},
     "output_type": "execute_result"
    }
   ],
   "source": [
    "#chi-square noise_dist,m=1,t**-1/2, using scalar c=0.03\n",
    "t_iter = 3001\n",
    "np.random.seed(3)\n",
    "msgd=MSGD_update(p=10,m=1)\n",
    "loss_sqr_chi = []\n",
    "for t in range(1,t_iter):\n",
    "    x,y=ds_chi.sim_data(m=1)\n",
    "    y = 2*(y > 0) - 1\n",
    "    beta=msgd.update_beta(x,y,0.36*t**(-1/2))\n",
    "    err=sum((beta-beta_true_chi)**2)\n",
    "    loss_sqr_chi.append(err)\n",
    "np.min(loss_sqr_chi)"
   ]
  },
  {
   "cell_type": "code",
   "execution_count": 264,
   "metadata": {},
   "outputs": [
    {
     "data": {
      "text/plain": [
       "0.41084791855156566"
      ]
     },
     "execution_count": 264,
     "metadata": {},
     "output_type": "execute_result"
    }
   ],
   "source": [
    "#chi-square noise_dist,m=1,t**-1, using scalar c=0.7\n",
    "t_iter = 3001\n",
    "np.random.seed(3)\n",
    "msgd=MSGD_update(p=10,m=1)\n",
    "loss_inv_chi = []\n",
    "for t in range(1,t_iter):\n",
    "    x,y=ds_chi.sim_data(m=1)\n",
    "    y = 2*(y > 0) - 1\n",
    "    beta=msgd.update_beta(x,y,0.7*t**(-1))\n",
    "    err=sum((beta-beta_true_chi)**2)\n",
    "    loss_inv_chi.append(err)\n",
    "np.min(loss_inv_chi)"
   ]
  },
  {
   "cell_type": "code",
   "execution_count": 265,
   "metadata": {},
   "outputs": [
    {
     "data": {
      "image/png": "[encoded data removed]",
      "text/plain": [
       "<Figure size 432x288 with 1 Axes>"
      ]
     },
     "metadata": {
      "needs_background": "light"
     },
     "output_type": "display_data"
    }
   ],
   "source": [
    "plt.plot(range(1,t_iter),loss_c_chi, c='b', label='constant decaying')\n",
    "plt.plot(range(1,t_iter), loss_sqr_chi, c='r', label='t**-0.5 decaying')\n",
    "plt.plot(range(1,t_iter),loss_inv_chi, c='g', label='t**-1 decaying')\n",
    "plt.legend()\n",
    "plt.title(\"Compare with Chi-square Noise\")\n",
    "plt.ylim(0, 10)\n",
    "plt.xlabel(\"Iteration times\")\n",
    "plt.ylabel(\"Sum of Square Error\")\n",
    "\n",
    "plt.show()"
   ]
  },
  {
   "cell_type": "markdown",
   "metadata": {},
   "source": [
    "\n",
    "__(2) Compare Size with Chi-square Noise:__\n",
    "<font color=blue>\n",
    "    \n",
    "The figure \"Compare Size with Chi-square Noise\" shows similar pattern as \"Compare Size with Normal Noise\" that the sum of square error will increase as the minibatch size increases. Here the minibatch size range I use is also np.arange(1,100,10), and it turns out that when m=1, the error is smallest.\n",
    "</font>"
   ]
  },
  {
   "cell_type": "code",
   "execution_count": 266,
   "metadata": {},
   "outputs": [
    {
     "name": "stdout",
     "output_type": "stream",
     "text": [
      "2.462457886776784\n",
      "1\n"
     ]
    },
    {
     "data": {
      "image/png": "[encoded data removed]",
      "text/plain": [
       "<Figure size 432x288 with 1 Axes>"
      ]
     },
     "metadata": {
      "needs_background": "light"
     },
     "output_type": "display_data"
    }
   ],
   "source": [
    "t_iter = 3000\n",
    "np.random.seed(3)\n",
    "loss_size_chi = []\n",
    "for i in np.arange(1,100,10):\n",
    "    t=t_iter//i\n",
    "    msgd=MSGD_update(p=10,m=i)\n",
    "    for j in range(1,t):\n",
    "        x,y=ds_chi.sim_data(m=i)\n",
    "        y = 2*(y > 0) - 1\n",
    "        beta=msgd.update_beta(x,y,0.36*t**(-1/2))\n",
    "    err=sum((beta-beta_true_chi)**2)\n",
    "    loss_size_chi.append(err)\n",
    "plt.plot(np.arange(1,100,10),loss_size_chi)\n",
    "plt.title(\"Compare Size with Chi-square Noise\")\n",
    "plt.xlabel(\"Minibatch size\")\n",
    "plt.ylabel(\"Sum of Square Error\")\n",
    "print(np.min(loss_size_chi))\n",
    "print(np.arange(1,100,10)[np.argmin(loss_size_chi)])"
   ]
  },
  {
   "cell_type": "markdown",
   "metadata": {},
   "source": [
    "__Exercise 4.__ (50 pts) \n",
    "\n",
    "Text data can be converted into vector data through a vectorization operation.  A corpus is a collection of documents and the dictionary is all of the words in the corpus.  Bag-of-words models will treat each document as a set of words, ignoring the order of the words.  Then a simple vectorizer will let $X_{i,j}$ be the number of times the $j$th word is in the $i$th document.  Two vectorizers are ``sklearn.feature_extraction.text.CountVectorizer`` and ``sklearn.feature_extraction.text.TfidfVectorizer``.\n",
    "\n",
    "Below is an import of a reuters dataset.  I have written a def to process a single file.  Construct a response variable that has three categories, if the topic is 'earn', 'acq', or another category.  Import all of the data and construct two sparse vectorized matrices---look at ``scipy.sparse``---based on the two above vectorizations.  Use sklearn svm.SVC on the TRAIN split and predict on the TEST split.  Plot your ROC and PR curves for predicting 'earn' (versus everything else); tune the kernel and C parameters.  Do the same for predicting 'acq' versus everything else.  Write a paragraph summarizing the performance and tuning."
   ]
  },
  {
   "cell_type": "code",
   "execution_count": 1,
   "metadata": {},
   "outputs": [],
   "source": [
    "from lxml import html, etree\n",
    "from sklearn.feature_extraction.text import CountVectorizer\n",
    "from sklearn.feature_extraction.text import TfidfVectorizer\n",
    "from sklearn.svm import SVC\n",
    "from sklearn import model_selection, linear_model, neighbors, preprocessing, metrics\n",
    "from scipy.sparse import csr_matrix"
   ]
  },
  {
   "cell_type": "code",
   "execution_count": 2,
   "metadata": {},
   "outputs": [
    {
     "name": "stdout",
     "output_type": "stream",
     "text": [
      "showing info https://raw.githubusercontent.com/nltk/nltk_data/gh-pages/index.xml\n"
     ]
    }
   ],
   "source": [
    "import nltk\n",
    "nltk.download()\n",
    "# Download Corpora -> stopwords, Models -> punkt\n",
    "\n",
    "from nltk.corpus import stopwords\n",
    "from nltk.tokenize import word_tokenize"
   ]
  },
  {
   "cell_type": "code",
   "execution_count": 3,
   "metadata": {},
   "outputs": [],
   "source": [
    "def parse_reu(reu):\n",
    "    \"\"\"Parses the etree object and returns a list of dictionary of reuters attr\n",
    "    Output: {'topics': the topic of the article, 'places': where it is located, \n",
    "        'split': training/test split, 'body':the text of the article as a set of words with stopwords removed}\n",
    "    \"\"\"\n",
    "    root= reu.getroot()\n",
    "    articles = root.body.getchildren()\n",
    "    stop_words = set(stopwords.words('english'))\n",
    "    reu_pl = []\n",
    "    for a in articles:\n",
    "        reu_parse = {}\n",
    "        if a.attrib['topics'] != 'YES':\n",
    "            next\n",
    "        topics = a.find('topics').findall('d')\n",
    "        if topics:\n",
    "            reu_parse['topics'] = [t.text for t in topics]\n",
    "        else:\n",
    "            reu_parse['topics'] = []\n",
    "        places = a.find('places').findall('d')\n",
    "        if places:\n",
    "            reu_parse['places'] = [t.text for t in places]\n",
    "        reu_parse['split'] = a.attrib['lewissplit']\n",
    "        rtxt = a.find('text')\n",
    "        word_tokens = word_tokenize(rtxt.text_content())\n",
    "        filtered_sentence = set([w.lower() for w in word_tokens if not w in stop_words])\n",
    "        reu_parse['body'] = filtered_sentence\n",
    "        reu_pl.append(reu_parse)\n",
    "    return reu_pl"
   ]
  },
  {
   "cell_type": "code",
   "execution_count": 4,
   "metadata": {},
   "outputs": [],
   "source": [
    "reu = html.parse(\"reuters/reut2-000.sgm\") #You will have to do this for all sgm files here"
   ]
  },
  {
   "cell_type": "code",
   "execution_count": 5,
   "metadata": {},
   "outputs": [],
   "source": [
    "reu_pl = parse_reu(reu)"
   ]
  },
  {
   "cell_type": "code",
   "execution_count": 6,
   "metadata": {},
   "outputs": [
    {
     "name": "stdout",
     "output_type": "stream",
     "text": [
      "['cocoa']\n"
     ]
    },
    {
     "data": {
      "text/plain": [
       "'4,351 again 1,875 buyers liquor showers review fob season continued light booked come fit thousand hands dificulties spot weekly bahia throughout still humidity estimated experiencing 1986/87 published 2,375 january in 0.39 cumulative processors sales 350 york final 2,400 shippers certificates butter 4,345 doubts 22 last rose +bahia restored with - said aug/sept 4,450 uruguay 28 period would ends harvesting kilos normal lower hundred 1987/88 improving exporters areas 155,221 cocoa tonne currency 2,380 midday early there recent 1,850 superior+ 60 july 785 trade alleviating earlier feb arrivals prospects cruzados although covertible consignment going 2,325 part 5.81 also currently mln 26 brazilian destinations times 1,880 routine 1,870 obtaining ended u.s. 1,750 quality late the week 35 sept named reuter 4,340 almost dlrs delivered good ports around 5.93 making june/july arroba included 6.2 limited smith end april/may . temporao since per 15 offer year 2.27 oct/dec available view 4,350 held new 4,400 drought argentina 1,780 cake prices , 6.4 made carnival comissaria crop 753 4,480 1.25 seems weeks coming figures nearby old farmers practically aug 340 reluctant middlemen selling 1.06 may registered stage dec 6.13 bean levels salvador standing export 27 bags march/april went much zone means february commission dry open total 4,415 995 march expected convertible shipment 45 2.28 sold estimates doubt'"
      ]
     },
     "execution_count": 6,
     "metadata": {},
     "output_type": "execute_result"
    }
   ],
   "source": [
    "print(reu_pl[0]['topics'])\n",
    "\" \".join(reu_pl[0]['body'])"
   ]
  },
  {
   "cell_type": "code",
   "execution_count": 7,
   "metadata": {},
   "outputs": [
    {
     "data": {
      "text/plain": [
       "21578"
      ]
     },
     "execution_count": 7,
     "metadata": {},
     "output_type": "execute_result"
    }
   ],
   "source": [
    "file=[\"reuters/reut2-00\" + str(i)+\".sgm\" if i<10 else \"reuters/reut2-0\" + str(i)+\".sgm\" for i in range(22)]\n",
    "word=reu_pl\n",
    "for i in range(1,22):\n",
    "    dirt=file[i]\n",
    "    reu_i = html.parse(dirt)\n",
    "    reu_pl_i = parse_reu(reu_i)\n",
    "    word+=reu_pl_i\n",
    "len(word)"
   ]
  },
  {
   "cell_type": "code",
   "execution_count": 8,
   "metadata": {},
   "outputs": [],
   "source": [
    "word_body=[\" \".join(i['body']) for i in word if 'body'in i]\n",
    "word_topic=[\" \".join(i['topics']) for i in word if 'body'in i]"
   ]
  },
  {
   "cell_type": "code",
   "execution_count": 9,
   "metadata": {},
   "outputs": [],
   "source": [
    "def tuning(c,kernel,X,y,X_val,y_val):\n",
    "    accu_list=[]\n",
    "    for i in c:\n",
    "        svm=SVC(C=i,gamma='auto',kernel=kernel)\n",
    "        svm.fit(X,y)\n",
    "        accu=svm.score(X_val,y_val)\n",
    "        accu_list.append(accu)\n",
    "    return accu_list"
   ]
  },
  {
   "cell_type": "markdown",
   "metadata": {},
   "source": [
    "### Answer 1: Predicting 'earn'\n",
    "\n",
    "The response variable y is binary: y=1 if the \"topics\" contains \"earn\", otherwise y=0\n",
    "\n",
    "__(1)CountVectorizer:__\n",
    "\n",
    "__Tuning C and Kernel:__\n",
    "\n",
    "\n",
    "<font color=blue>\n",
    "Firstly, I tune the parameter \"C\" under kernel:'rbf','linear','poly','sigmoid' respectively to obtain an appropriate \"C\" corresponding to each kernel. In order to tuning parameter and kernel, I split the training dataset into a sub-training set and validation set.\n",
    "    \n",
    "   The table below compares the accuracy under different kernels and values of C:\n",
    "   \n",
    "    \n",
    "   <table style='font-family:\"Courier New\", Courier, monospace; font-size:120%'>\n",
    "    <tr><td></td><td>C=0.1</td><td>C=0.5</td><td>C=1</td><td>C=5</td><td>C=10</td></tr>\n",
    "    <tr><td>rbf</td><td>0.818</td><td>0.818</td><td>0.829</td><td>0.928</td><td>0.942</td></tr>\n",
    "    <tr><td>linear</td><td>0.967</td><td>0.965</td><td>0.967</td><td>0.964</td><td>0.964</td></tr>\n",
    "    <tr><td>poly</td><td>0.818</td><td>0.818</td><td>0.818</td><td>0.818</td><td>0.818</td></tr>\n",
    "    <tr><td>sigmoid</td><td>0.818</td><td>0.818</td><td>0.818</td><td>0.907</td><td>0.928</td></tr>\n",
    "</table>\n",
    "\n",
    "Then, compare the four models with different kernels using the correponding tuned \"C\", and it turns out that the linear kernel model with C=0.1 performs best(with largest accurancy). \n",
    "\n",
    " </font>\n",
    "\n",
    "__(2)TfidfVectorizer:__\n",
    "\n",
    "__Tuning C and Kernel:__\n",
    "\n",
    "\n",
    "<font color=blue>\n",
    "Repeat the process as above and the table compares the accuracy under different kernels and values of C as below:\n",
    "    \n",
    "    \n",
    "   <table style='font-family:\"Courier New\", Courier, monospace; font-size:120%'>\n",
    "    <tr><td></td><td>C=0.1</td><td>C=0.5</td><td>C=1</td><td>C=5</td><td>C=10</td></tr>\n",
    "    <tr><td>rbf</td><td>0.818</td><td>0.818</td><td>0.818</td><td>0.818</td><td>0.818</td></tr>\n",
    "    <tr><td>linear</td><td>0.952</td><td>0.970</td><td>0.972</td><td>0.967</td><td>0.966</td></tr>\n",
    "    <tr><td>poly</td><td>0.818</td><td>0.818</td><td>0.818</td><td>0.818</td><td>0.818</td></tr>\n",
    "    <tr><td>sigmoid</td><td>0.818</td><td>0.818</td><td>0.818</td><td>0.818</td><td>0.818</td></tr>\n",
    "</table>\n",
    "\n",
    "Compare the four models with different kernels using the correponding tuned \"C\", and again the linear kernel model with C=0.1 performs best(with largest accurancy). \n",
    "\n",
    " </font>\n",
    " \n",
    "__(3)Comparision: CountVectorizer vs TfidfVectorizer:__\n",
    "\n",
    "__AUC and F1_Score:__\n",
    "<font color=blue>\n",
    "   \n",
    "   \n",
    "   The table below gives the AUC and F1_Score:\n",
    "   \n",
    "   \n",
    "   <table style='font-family:\"Courier New\", Courier, monospace; font-size:120%'>\n",
    "    <tr><td></td><td>CountVectorizer</td><td>TfidfVectorizer</td></tr>\n",
    "    <tr><td>AUC</td><td>0.986</td><td>0.993</td></tr>\n",
    "    <tr><td>F1_Score</td><td>0.927</td><td>0.927</td></tr>\n",
    "</table>\n",
    "\n",
    "</font>\n",
    "\n",
    "__ROC curve and PR curve:__\n",
    "<font color=blue>\n",
    "    \n",
    "    \n",
    "   The figure \"ROC curve for predicting 'earn':CountVectorizer vs TfidfVectorizer\" compares the ROC curves of CountVectorizer and TfidfVectorizer methods. We can see similar patterns that both the ROC curves are located at the top left and very closed, indicating good performance of both models, while TfidfVectorizer methods seems to be slightly above.\n",
    "   \n",
    "   The figure \"PR curve for predicting 'earn':CountVectorizer vs TfidfVectorizer\" compares the PR curves of CountVectorizer and TfidfVectorizer methods. Again, both the PR curves are located at the top right and very closed, which implies both models perform well, while the model under TfidfVectorizer methods seems to be still slightly above.\n"
   ]
  },
  {
   "cell_type": "code",
   "execution_count": 10,
   "metadata": {},
   "outputs": [
    {
     "data": {
      "text/plain": [
       "(21578, 48369)"
      ]
     },
     "execution_count": 10,
     "metadata": {},
     "output_type": "execute_result"
    }
   ],
   "source": [
    "# Count vectorization\n",
    "x_vec_count=CountVectorizer()\n",
    "x_count=x_vec_count.fit_transform(word_body)\n",
    "x_count.shape"
   ]
  },
  {
   "cell_type": "code",
   "execution_count": 11,
   "metadata": {},
   "outputs": [],
   "source": [
    "#containing \"earn\" : 1 otherwise -1\n",
    "y_earn=[1 if 'earn' in word_topic[i] else 0 for i in range(len(word_topic))]"
   ]
  },
  {
   "cell_type": "code",
   "execution_count": 12,
   "metadata": {},
   "outputs": [],
   "source": [
    "X_tr_cn,X_te_cn,y_tr_ear,y_te_ear=model_selection.train_test_split(x_count,y_earn,test_size=0.2,random_state=1)\n",
    "X_trr_cn,X_val_cn,y_trr_ear,y_val_ear=model_selection.train_test_split(X_tr_cn,y_tr_ear,test_size=0.2,random_state=1)"
   ]
  },
  {
   "cell_type": "code",
   "execution_count": 474,
   "metadata": {},
   "outputs": [
    {
     "name": "stdout",
     "output_type": "stream",
     "text": [
      "rbf: 10\n",
      "linear: 0.1\n",
      "poly: 0.1\n",
      "sigmoid: 10\n"
     ]
    }
   ],
   "source": [
    "# Tuning C\n",
    "c=[0.1,0.5,1,5,10]\n",
    "kernel=['rbf','linear','poly','sigmoid']\n",
    "accu_kernel=[]\n",
    "for k in kernel:\n",
    "    accu_k=tuning(c,k,X_trr_cn,y_trr_ear,X_val_cn,y_val_ear)\n",
    "    print(k+': '+str(c[np.argmax(accu_k)]))\n",
    "    accu_kernel.append(accu_k)"
   ]
  },
  {
   "cell_type": "code",
   "execution_count": 509,
   "metadata": {},
   "outputs": [
    {
     "data": {
      "text/plain": [
       "[[0.8178395598030698,\n",
       "  0.8178395598030698,\n",
       "  0.8291340863017665,\n",
       "  0.927599189110918,\n",
       "  0.9417897480451781],\n",
       " [0.9672748334781349,\n",
       "  0.9649580075296843,\n",
       "  0.9669852302345786,\n",
       "  0.9640891977990154,\n",
       "  0.9635099913119027],\n",
       " [0.8178395598030698,\n",
       "  0.8178395598030698,\n",
       "  0.8178395598030698,\n",
       "  0.8178395598030698,\n",
       "  0.8178395598030698],\n",
       " [0.8178395598030698,\n",
       "  0.8178395598030698,\n",
       "  0.8178395598030698,\n",
       "  0.9067477555748624,\n",
       "  0.927599189110918]]"
      ]
     },
     "execution_count": 509,
     "metadata": {},
     "output_type": "execute_result"
    }
   ],
   "source": [
    "accu_kernel"
   ]
  },
  {
   "cell_type": "code",
   "execution_count": 481,
   "metadata": {},
   "outputs": [
    {
     "name": "stdout",
     "output_type": "stream",
     "text": [
      "linear0.1\n"
     ]
    }
   ],
   "source": [
    "ck=[10,0.1,0.1,10]\n",
    "kernel=['rbf','linear','poly','sigmoid']\n",
    "accu_ker_c=[]\n",
    "for j in range(4):\n",
    "    svm_kc=SVC(C=ck[j],kernel=kernel[j],gamma='auto')\n",
    "    svm_kc.fit(X_trr_cn,y_trr_ear)\n",
    "    accu_kc=svm_kc.score(X_val_cn,y_val_ear)\n",
    "    accu_ker_c.append(accu_kc)\n",
    "m=np.argmax(accu_ker_c)\n",
    "print(kernel[m]+str(ck[m]))"
   ]
  },
  {
   "cell_type": "code",
   "execution_count": 482,
   "metadata": {},
   "outputs": [],
   "source": [
    "ear_cn_f=SVC(C=0.1,gamma='auto',kernel='linear',probability=True)\n",
    "ear_cn_f.fit(X_tr_cn,y_tr_ear)\n",
    "ear_cn_score=ear_cn_f.predict_proba(X_te_cn)\n"
   ]
  },
  {
   "cell_type": "code",
   "execution_count": 488,
   "metadata": {},
   "outputs": [],
   "source": [
    "fpr_ear_cn, tpr_ear_cn, thresholds_ear_cn=metrics.roc_curve(y_te_ear,ear_cn_score[:,1])\n",
    "prec_ear_cn, rec_ear_cn, threshs_ear_cn = metrics.precision_recall_curve(y_te_ear,ear_cn_score[:,1])\n",
    "auc_ear_cn=metrics.roc_auc_score(y_te_ear,ear_cn_score[:,1])\n",
    "ear_cn_pred=ear_cn_f.predict(X_te_cn)\n",
    "f1_ear_cn=metrics.f1_score(y_te_ear,ear_cn_pred)"
   ]
  },
  {
   "cell_type": "code",
   "execution_count": 514,
   "metadata": {},
   "outputs": [
    {
     "name": "stdout",
     "output_type": "stream",
     "text": [
      "0.9860203474613437\n"
     ]
    },
    {
     "data": {
      "text/plain": [
       "0.927143778207608"
      ]
     },
     "execution_count": 514,
     "metadata": {},
     "output_type": "execute_result"
    }
   ],
   "source": [
    "print(auc_ear_cn)\n",
    "f1_ear_cn"
   ]
  },
  {
   "cell_type": "code",
   "execution_count": 483,
   "metadata": {},
   "outputs": [
    {
     "data": {
      "text/plain": [
       "(21578, 48369)"
      ]
     },
     "execution_count": 483,
     "metadata": {},
     "output_type": "execute_result"
    }
   ],
   "source": [
    "#Repeat the whole process using TfidfVectorizer\n",
    "x_vec_tf=TfidfVectorizer()\n",
    "x_vec_tf.fit(word_body)\n",
    "x_tf=x_vec_tf.transform(word_body)\n",
    "x_tf.shape"
   ]
  },
  {
   "cell_type": "code",
   "execution_count": 22,
   "metadata": {},
   "outputs": [
    {
     "ename": "NameError",
     "evalue": "name 'x_tf' is not defined",
     "output_type": "error",
     "traceback": [
      "\u001b[0;31m---------------------------------------------------------------------------\u001b[0m",
      "\u001b[0;31mNameError\u001b[0m                                 Traceback (most recent call last)",
      "\u001b[0;32m<ipython-input-22-919a7db9a349>\u001b[0m in \u001b[0;36m<module>\u001b[0;34m\u001b[0m\n\u001b[0;32m----> 1\u001b[0;31m \u001b[0mX_tr_tf\u001b[0m\u001b[0;34m,\u001b[0m\u001b[0mX_te_tf\u001b[0m\u001b[0;34m,\u001b[0m\u001b[0my_tr_ear_tf\u001b[0m\u001b[0;34m,\u001b[0m\u001b[0my_te_ear_tf\u001b[0m\u001b[0;34m=\u001b[0m\u001b[0mmodel_selection\u001b[0m\u001b[0;34m.\u001b[0m\u001b[0mtrain_test_split\u001b[0m\u001b[0;34m(\u001b[0m\u001b[0mx_tf\u001b[0m\u001b[0;34m,\u001b[0m\u001b[0my_earn\u001b[0m\u001b[0;34m,\u001b[0m\u001b[0mtest_size\u001b[0m\u001b[0;34m=\u001b[0m\u001b[0;36m0.2\u001b[0m\u001b[0;34m,\u001b[0m\u001b[0mrandom_state\u001b[0m\u001b[0;34m=\u001b[0m\u001b[0;36m1\u001b[0m\u001b[0;34m)\u001b[0m\u001b[0;34m\u001b[0m\u001b[0;34m\u001b[0m\u001b[0m\n\u001b[0m\u001b[1;32m      2\u001b[0m \u001b[0mX_trr_tf\u001b[0m\u001b[0;34m,\u001b[0m\u001b[0mX_val_tf\u001b[0m\u001b[0;34m,\u001b[0m\u001b[0my_trr_ear_tf\u001b[0m\u001b[0;34m,\u001b[0m\u001b[0my_val_ear_tf\u001b[0m\u001b[0;34m=\u001b[0m\u001b[0mmodel_selection\u001b[0m\u001b[0;34m.\u001b[0m\u001b[0mtrain_test_split\u001b[0m\u001b[0;34m(\u001b[0m\u001b[0mX_tr_tf\u001b[0m\u001b[0;34m,\u001b[0m\u001b[0my_tr_ear_tf\u001b[0m\u001b[0;34m,\u001b[0m\u001b[0mtest_size\u001b[0m\u001b[0;34m=\u001b[0m\u001b[0;36m0.2\u001b[0m\u001b[0;34m,\u001b[0m\u001b[0mrandom_state\u001b[0m\u001b[0;34m=\u001b[0m\u001b[0;36m1\u001b[0m\u001b[0;34m)\u001b[0m\u001b[0;34m\u001b[0m\u001b[0;34m\u001b[0m\u001b[0m\n",
      "\u001b[0;31mNameError\u001b[0m: name 'x_tf' is not defined"
     ]
    }
   ],
   "source": [
    "X_tr_tf,X_te_tf,y_tr_ear_tf,y_te_ear_tf=model_selection.train_test_split(x_tf,y_earn,test_size=0.2,random_state=1)\n",
    "X_trr_tf,X_val_tf,y_trr_ear_tf,y_val_ear_tf=model_selection.train_test_split(X_tr_tf,y_tr_ear_tf,test_size=0.2,random_state=1)"
   ]
  },
  {
   "cell_type": "code",
   "execution_count": 485,
   "metadata": {},
   "outputs": [
    {
     "name": "stdout",
     "output_type": "stream",
     "text": [
      "rbf: 0.1\n",
      "linear: 1\n",
      "poly: 0.1\n",
      "sigmoid: 0.1\n"
     ]
    }
   ],
   "source": [
    "c=[0.1,0.5,1,5,10]\n",
    "kernel=['rbf','linear','poly','sigmoid']\n",
    "accu_kernel_tf=[]\n",
    "for k in kernel:\n",
    "    accu_k=tuning(c,k,X_trr_tf,y_trr_ear_tf,X_val_tf,y_val_ear_tf)\n",
    "    print(k+': '+str(c[np.argmax(accu_k)]))\n",
    "    accu_kernel_tf.append(accu_k)"
   ]
  },
  {
   "cell_type": "code",
   "execution_count": 510,
   "metadata": {},
   "outputs": [
    {
     "data": {
      "text/plain": [
       "[[0.8178395598030698,\n",
       "  0.8178395598030698,\n",
       "  0.8178395598030698,\n",
       "  0.8178395598030698,\n",
       "  0.8178395598030698],\n",
       " [0.9519258615696495,\n",
       "  0.9701708659136983,\n",
       "  0.9719084853750362,\n",
       "  0.9672748334781349,\n",
       "  0.966406023747466],\n",
       " [0.8178395598030698,\n",
       "  0.8178395598030698,\n",
       "  0.8178395598030698,\n",
       "  0.8178395598030698,\n",
       "  0.8178395598030698],\n",
       " [0.8178395598030698,\n",
       "  0.8178395598030698,\n",
       "  0.8178395598030698,\n",
       "  0.8178395598030698,\n",
       "  0.8178395598030698]]"
      ]
     },
     "execution_count": 510,
     "metadata": {},
     "output_type": "execute_result"
    }
   ],
   "source": [
    "accu_kernel_tf"
   ]
  },
  {
   "cell_type": "code",
   "execution_count": 491,
   "metadata": {},
   "outputs": [
    {
     "name": "stdout",
     "output_type": "stream",
     "text": [
      "linear1\n"
     ]
    }
   ],
   "source": [
    "ck_tf=[0.1,1,0.1,0.1]\n",
    "kernel=['rbf','linear','poly','sigmoid']\n",
    "accu_ker_tf=[]\n",
    "for j in range(4):\n",
    "    svm_kc=SVC(C=ck_tf[j],kernel=kernel[j],gamma='auto')\n",
    "    svm_kc.fit(X_trr_tf,y_trr_ear_tf)\n",
    "    accu_kc=svm_kc.score(X_val_tf,y_val_ear_tf)\n",
    "    accu_ker_tf.append(accu_kc)\n",
    "m=np.argmax(accu_ker_tf)\n",
    "print(kernel[m]+str(ck_tf[m]))"
   ]
  },
  {
   "cell_type": "code",
   "execution_count": 23,
   "metadata": {},
   "outputs": [
    {
     "data": {
      "text/plain": [
       "scipy.sparse.csr.csr_matrix"
      ]
     },
     "execution_count": 23,
     "metadata": {},
     "output_type": "execute_result"
    }
   ],
   "source": [
    "type(X_tr_cn)"
   ]
  },
  {
   "cell_type": "code",
   "execution_count": 492,
   "metadata": {},
   "outputs": [],
   "source": [
    "ear_tf_f=SVC(C=1,gamma='auto',kernel='linear',probability=True)\n",
    "ear_tf_f.fit(X_tr_tf,y_tr_ear_tf)\n",
    "ear_tf_score=ear_tf_f.predict_proba(X_te_tf)\n",
    "ear_tf_pred=ear_tf_f.predict(X_te_tf)"
   ]
  },
  {
   "cell_type": "code",
   "execution_count": 493,
   "metadata": {},
   "outputs": [],
   "source": [
    "fpr_ear_tf, tpr_ear_tf, thresholds_ear_tf=metrics.roc_curve(y_te_ear_tf,ear_tf_score[:,1])\n",
    "prec_ear_tf, rec_ear_tf, threshs_ear_tf = metrics.precision_recall_curve(y_te_ear_tf,ear_tf_score[:,1])\n",
    "auc_ear_tf=metrics.roc_auc_score(y_te_ear_tf,ear_tf_score[:,1])\n",
    "f1_ear_tf=metrics.f1_score(y_te_ear_tf,ear_tf_pred)"
   ]
  },
  {
   "cell_type": "code",
   "execution_count": 515,
   "metadata": {},
   "outputs": [
    {
     "name": "stdout",
     "output_type": "stream",
     "text": [
      "0.9925412181555283\n"
     ]
    },
    {
     "data": {
      "text/plain": [
       "0.9269553975436329"
      ]
     },
     "execution_count": 515,
     "metadata": {},
     "output_type": "execute_result"
    }
   ],
   "source": [
    "print(auc_ear_tf)\n",
    "f1_ear_tf"
   ]
  },
  {
   "cell_type": "code",
   "execution_count": 505,
   "metadata": {},
   "outputs": [
    {
     "data": {
      "text/plain": [
       "Text(0.5, 1.0, \"ROC curve for predicting 'earn':CountVectorizer vs TfidfVectorizer\")"
      ]
     },
     "execution_count": 505,
     "metadata": {},
     "output_type": "execute_result"
    },
    {
     "data": {
      "image/png": "[encoded data removed]",
      "text/plain": [
       "<Figure size 432x288 with 1 Axes>"
      ]
     },
     "metadata": {
      "needs_background": "light"
     },
     "output_type": "display_data"
    }
   ],
   "source": [
    "plt.plot(fpr_ear_cn,tpr_ear_cn,label='CountVectorizer')\n",
    "plt.plot(fpr_ear_tf,tpr_ear_tf,label='TfidfVectorizer')\n",
    "plt.xlabel('FPR')\n",
    "plt.ylabel('TPR')\n",
    "plt.legend()\n",
    "plt.title(\"ROC curve for predicting 'earn':CountVectorizer vs TfidfVectorizer\")"
   ]
  },
  {
   "cell_type": "code",
   "execution_count": 506,
   "metadata": {},
   "outputs": [
    {
     "data": {
      "text/plain": [
       "Text(0.5, 1.0, \"PR curve for predicting 'earn':CountVectorizer vs TfidfVectorizer\")"
      ]
     },
     "execution_count": 506,
     "metadata": {},
     "output_type": "execute_result"
    },
    {
     "data": {
      "image/png": "[encoded data removed]",
      "text/plain": [
       "<Figure size 432x288 with 1 Axes>"
      ]
     },
     "metadata": {
      "needs_background": "light"
     },
     "output_type": "display_data"
    }
   ],
   "source": [
    "plt.plot(rec_ear_cn,prec_ear_cn,label='CountVectorizer')\n",
    "plt.plot(rec_ear_tf,prec_ear_tf,label='TfidfVectorizer')\n",
    "plt.xlabel('recall')\n",
    "plt.ylabel('precision')\n",
    "plt.legend()\n",
    "plt.title(\"PR curve for predicting 'earn':CountVectorizer vs TfidfVectorizer\")"
   ]
  },
  {
   "cell_type": "markdown",
   "metadata": {},
   "source": [
    "### Answer 2: Predicting 'acq'\n",
    "\n",
    "#### Repeat the Process in Answer 1\n",
    "\n",
    "In this part, I define the value of response variable y again: y=1 if the \"topics\" contains \"acq\", otherwise y=0.\n",
    "\n",
    "__(1)CountVectorizer:__\n",
    "\n",
    "__Tuning C and Kernel:__\n",
    "\n",
    "\n",
    "<font color=blue>\n",
    "Tune the parameter \"C\" under kernel:'rbf','linear','poly','sigmoid' respectively to obtain an appropriate \"C\" corresponding to each kernel. In order to tuning parameter and kernel, I split the training dataset into a sub-training set and validation set.\n",
    "    \n",
    "   The table below compares the accuracy under different kernels and values of C:\n",
    "   \n",
    "    \n",
    "   <table style='font-family:\"Courier New\", Courier, monospace; font-size:120%'>\n",
    "    <tr><td></td><td>C=0.1</td><td>C=0.5</td><td>C=1</td><td>C=5</td><td>C=10</td></tr>\n",
    "    <tr><td>rbf</td><td>0.883</td><td>0.883</td><td>0.883</td><td>0.883</td><td>0.884</td></tr>\n",
    "    <tr><td>linear</td><td>0.963</td><td>0.960</td><td>0.960</td><td>0.960</td><td>0.960</td></tr>\n",
    "    <tr><td>poly</td><td>0.883</td><td>0.883</td><td>0.883</td><td>0.883</td><td>0.883</td></tr>\n",
    "    <tr><td>sigmoid</td><td>0.883</td><td>0.883</td><td>0.883</td><td>0.883</td><td>0.883</td></tr>\n",
    "</table>\n",
    "\n",
    "Then, compare the four models with different kernels using the correponding tuned \"C\", and it turns out that the linear kernel model with C=0.1 performs best(with largest accurancy). \n",
    "\n",
    " </font>\n",
    "\n",
    "__(2)TfidfVectorizer:__\n",
    "\n",
    "__Tuning C and Kernel:__\n",
    "\n",
    "\n",
    "<font color=blue>\n",
    "Repeat the process as above and the table compares the accuracy under different kernels and values of C as below:\n",
    "    \n",
    "    \n",
    "   <table style='font-family:\"Courier New\", Courier, monospace; font-size:120%'>\n",
    "    <tr><td></td><td>C=0.1</td><td>C=0.5</td><td>C=1</td><td>C=5</td><td>C=10</td></tr>\n",
    "    <tr><td>rbf</td><td>0.883</td><td>0.883</td><td>0.883</td><td>0.883</td><td>0.883</td></tr>\n",
    "    <tr><td>linear</td><td>0.921</td><td>0.963</td><td>0.966</td><td>0.962</td><td>0.961</td></tr>\n",
    "    <tr><td>poly</td><td>0.883</td><td>0.883</td><td>0.883</td><td>0.883</td><td>0.883</td></tr>\n",
    "    <tr><td>sigmoid</td><td>0.883</td><td>0.883</td><td>0.883</td><td>0.883</td><td>0.883</td></tr>\n",
    "</table>\n",
    "\n",
    "Compare the four models with different kernels using the correponding tuned \"C\", and again the linear kernel model with C=1 performs best(with largest accurancy). \n",
    "\n",
    " </font>\n",
    " \n",
    "__(3)Comparision: CountVectorizer vs TfidfVectorizer:__\n",
    "\n",
    "__AUC and F1_Score:__\n",
    "<font color=blue>\n",
    "   \n",
    "   \n",
    "   The table below gives the AUC and F1_Score:\n",
    "   \n",
    "   \n",
    "   <table style='font-family:\"Courier New\", Courier, monospace; font-size:120%'>\n",
    "    <tr><td></td><td>CountVectorizer</td><td>TfidfVectorizer</td></tr>\n",
    "    <tr><td>AUC</td><td>0.969</td><td>0.983</td></tr>\n",
    "    <tr><td>F1_Score</td><td>0.842</td><td>0.860</td></tr>\n",
    "</table>\n",
    "\n",
    "</font>\n",
    "\n",
    "__ROC curve and PR curve:__\n",
    "<font color=blue>\n",
    "   \n",
    "   Both ROC curves and PR curves for predicting \"acq\" show very similar patterns as those for predicting \"earn\".\n",
    "   \n",
    "    \n",
    "   The figure \"ROC curve for predicting 'acq':CountVectorizer vs TfidfVectorizer\" compares the ROC curves of CountVectorizer and TfidfVectorizer methods. We can see similar patterns that both the ROC curves are located at the left top and very closed, indicating good performance of both models. Also notice that the model under TfidfVectorizer methods seems to be slightly above, which implies a little bit improvement. \n",
    "   \n",
    "   The figure \"PR curve for predicting 'acq':CountVectorizer vs TfidfVectorizer\" compares the PR curves of CountVectorizer and TfidfVectorizer methods. Again, both the PR curves are located at the right top and very closed, which implies both models perform well. Also notice that the model under TfidfVectorizer methods seems to be still slightly above, which implies a little bit improvement."
   ]
  },
  {
   "cell_type": "code",
   "execution_count": 494,
   "metadata": {},
   "outputs": [],
   "source": [
    "#\"acq\" is 1 otherwise -1\n",
    "y_acq=[1 if 'acq' in word_topic[i] else 0 for i in range(len(word_topic))]"
   ]
  },
  {
   "cell_type": "code",
   "execution_count": 495,
   "metadata": {},
   "outputs": [],
   "source": [
    "# Count Vectorization and predicting \"acq\"\n",
    "X_tr_cn_acq,X_te_cn_acq,y_tr_acq,y_te_acq=model_selection.train_test_split(x_count,y_acq,test_size=0.2,random_state=1)\n",
    "X_trr_cn_acq,X_val_cn_acq,y_trr_acq,y_val_acq=model_selection.train_test_split(X_tr_cn_acq,y_tr_acq,test_size=0.2,random_state=1)\n"
   ]
  },
  {
   "cell_type": "code",
   "execution_count": 496,
   "metadata": {},
   "outputs": [
    {
     "name": "stdout",
     "output_type": "stream",
     "text": [
      "rbf: 10\n",
      "linear: 0.1\n",
      "poly: 0.1\n",
      "sigmoid: 0.1\n"
     ]
    }
   ],
   "source": [
    "c=[0.1,0.5,1,5,10]\n",
    "kernel=['rbf','linear','poly','sigmoid']\n",
    "accu_kernel_acq=[]\n",
    "for k in kernel:\n",
    "    accu_k=tuning(c,k,X_trr_cn_acq,y_trr_acq,X_val_cn_acq,y_val_acq)\n",
    "    print(k+': '+str(c[np.argmax(accu_k)]))\n",
    "    accu_kernel_acq.append(accu_k)"
   ]
  },
  {
   "cell_type": "code",
   "execution_count": 511,
   "metadata": {},
   "outputs": [
    {
     "data": {
      "text/plain": [
       "[[0.8832898928467999,\n",
       "  0.8832898928467999,\n",
       "  0.8832898928467999,\n",
       "  0.8832898928467999,\n",
       "  0.8835794960903562],\n",
       " [0.96293078482479,\n",
       "  0.9603243556327831,\n",
       "  0.9600347523892268,\n",
       "  0.9600347523892268,\n",
       "  0.9600347523892268],\n",
       " [0.8832898928467999,\n",
       "  0.8832898928467999,\n",
       "  0.8832898928467999,\n",
       "  0.8832898928467999,\n",
       "  0.8832898928467999],\n",
       " [0.8832898928467999,\n",
       "  0.8832898928467999,\n",
       "  0.8832898928467999,\n",
       "  0.8832898928467999,\n",
       "  0.8832898928467999]]"
      ]
     },
     "execution_count": 511,
     "metadata": {},
     "output_type": "execute_result"
    }
   ],
   "source": [
    "accu_kernel_acq"
   ]
  },
  {
   "cell_type": "code",
   "execution_count": 497,
   "metadata": {},
   "outputs": [
    {
     "name": "stdout",
     "output_type": "stream",
     "text": [
      "linear0.1\n"
     ]
    }
   ],
   "source": [
    "ck_acq=[10,0.1,0.1,0.1]\n",
    "kernel=['rbf','linear','poly','sigmoid']\n",
    "accu_ker_acq=[]\n",
    "for j in range(4):\n",
    "    svm_kc=SVC(C=ck_acq[j],kernel=kernel[j],gamma='auto')\n",
    "    svm_kc.fit(X_trr_cn_acq,y_trr_acq)\n",
    "    accu_kc=svm_kc.score(X_val_cn_acq,y_val_acq)\n",
    "    accu_ker_acq.append(accu_kc)\n",
    "m=np.argmax(accu_ker_acq)\n",
    "print(kernel[m]+str(ck_acq[m]))"
   ]
  },
  {
   "cell_type": "code",
   "execution_count": 498,
   "metadata": {},
   "outputs": [],
   "source": [
    "acq_cn_f=SVC(C=0.1,gamma='auto',kernel='linear',probability=True)\n",
    "acq_cn_f.fit(X_tr_cn_acq,y_tr_acq)\n",
    "acq_cn_score=acq_cn_f.predict_proba(X_te_cn_acq)\n",
    "acq_cn_pred=acq_cn_f.predict(X_te_cn_acq)"
   ]
  },
  {
   "cell_type": "code",
   "execution_count": 499,
   "metadata": {},
   "outputs": [],
   "source": [
    "fpr_acq_cn, tpr_acq_cn, thresholds_acq_cn=metrics.roc_curve(y_te_acq,acq_cn_score[:,1])\n",
    "prec_acq_cn, rec_acq_cn, threshs_acq_cn = metrics.precision_recall_curve(y_te_acq,acq_cn_score[:,1])\n",
    "auc_acq_cn=metrics.roc_auc_score(y_te_acq,acq_cn_score[:,1])\n",
    "f1_acq_cn=metrics.f1_score(y_te_acq,acq_cn_pred)"
   ]
  },
  {
   "cell_type": "code",
   "execution_count": 517,
   "metadata": {},
   "outputs": [
    {
     "name": "stdout",
     "output_type": "stream",
     "text": [
      "0.9695617604339346\n"
     ]
    },
    {
     "data": {
      "text/plain": [
       "0.841991341991342"
      ]
     },
     "execution_count": 517,
     "metadata": {},
     "output_type": "execute_result"
    }
   ],
   "source": [
    "print(auc_acq_cn)\n",
    "f1_acq_cn"
   ]
  },
  {
   "cell_type": "code",
   "execution_count": 500,
   "metadata": {},
   "outputs": [],
   "source": [
    "#Repeat the whole process using TfidfVectorizer to predict \"acq\"\n",
    "X_tr_tf_acq,X_te_tf_acq,y_tr_acq_tf,y_te_acq_tf=model_selection.train_test_split(x_tf,y_acq,test_size=0.2,random_state=1)\n",
    "X_trr_tf_acq,X_val_tf_acq,y_trr_acq_tf,y_val_acq_tf=model_selection.train_test_split(X_tr_tf_acq,y_tr_acq_tf,test_size=0.2,random_state=1)"
   ]
  },
  {
   "cell_type": "code",
   "execution_count": 501,
   "metadata": {},
   "outputs": [
    {
     "name": "stdout",
     "output_type": "stream",
     "text": [
      "rbf: 0.1\n",
      "linear: 1\n",
      "poly: 0.1\n",
      "sigmoid: 0.1\n"
     ]
    }
   ],
   "source": [
    "c=[0.1,0.5,1,5,10]\n",
    "kernel=['rbf','linear','poly','sigmoid']\n",
    "accu_kernel_tf_acq=[]\n",
    "for k in kernel:\n",
    "    accu_k=tuning(c,k,X_trr_tf_acq,y_trr_acq_tf,X_val_tf_acq,y_val_acq_tf)\n",
    "    print(k+': '+str(c[np.argmax(accu_k)]))\n",
    "    accu_kernel_tf_acq.append(accu_k)"
   ]
  },
  {
   "cell_type": "code",
   "execution_count": 516,
   "metadata": {},
   "outputs": [
    {
     "data": {
      "text/plain": [
       "[[0.8832898928467999,\n",
       "  0.8832898928467999,\n",
       "  0.8832898928467999,\n",
       "  0.8832898928467999,\n",
       "  0.8832898928467999],\n",
       " [0.9206487112655661,\n",
       "  0.9626411815812337,\n",
       "  0.9658268172603534,\n",
       "  0.9617723718505647,\n",
       "  0.9611931653634521],\n",
       " [0.8832898928467999,\n",
       "  0.8832898928467999,\n",
       "  0.8832898928467999,\n",
       "  0.8832898928467999,\n",
       "  0.8832898928467999],\n",
       " [0.8832898928467999,\n",
       "  0.8832898928467999,\n",
       "  0.8832898928467999,\n",
       "  0.8832898928467999,\n",
       "  0.8832898928467999]]"
      ]
     },
     "execution_count": 516,
     "metadata": {},
     "output_type": "execute_result"
    }
   ],
   "source": [
    "accu_kernel_tf_acq"
   ]
  },
  {
   "cell_type": "code",
   "execution_count": 502,
   "metadata": {},
   "outputs": [
    {
     "name": "stdout",
     "output_type": "stream",
     "text": [
      "linear1\n"
     ]
    }
   ],
   "source": [
    "ck_tf_acq=[0.1,1,0.1,0.1]\n",
    "kernel=['rbf','linear','poly','sigmoid']\n",
    "accu_ker_tf_acq=[]\n",
    "for j in range(4):\n",
    "    svm_kc=SVC(C=ck_tf_acq[j],kernel=kernel[j],gamma='auto')\n",
    "    svm_kc.fit(X_trr_tf_acq,y_trr_acq_tf)\n",
    "    accu_kc=svm_kc.score(X_val_tf_acq,y_val_acq_tf)\n",
    "    accu_ker_tf_acq.append(accu_kc)\n",
    "m=np.argmax(accu_ker_tf_acq)\n",
    "print(kernel[m]+str(ck_tf_acq[m]))"
   ]
  },
  {
   "cell_type": "code",
   "execution_count": 503,
   "metadata": {},
   "outputs": [],
   "source": [
    "acq_tf_f=SVC(C=1,gamma='auto',kernel='linear',probability=True)\n",
    "acq_tf_f.fit(X_tr_tf_acq,y_tr_acq_tf)\n",
    "acq_tf_score=acq_tf_f.predict_proba(X_te_tf_acq)\n",
    "acq_tf_pred=acq_tf_f.predict(X_te_tf_acq)"
   ]
  },
  {
   "cell_type": "code",
   "execution_count": 504,
   "metadata": {},
   "outputs": [],
   "source": [
    "fpr_acq_tf, tpr_acq_tf, thresholds_acq_tf=metrics.roc_curve(y_te_acq_tf,acq_tf_score[:,1])\n",
    "prec_acq_tf, rec_acq_tf, threshs_ear_tf = metrics.precision_recall_curve(y_te_acq_tf,acq_tf_score[:,1])\n",
    "auc_acq_tf=metrics.roc_auc_score(y_te_acq_tf,acq_tf_score[:,1])\n",
    "f1_acq_tf=metrics.f1_score(y_te_acq_tf,acq_tf_pred)"
   ]
  },
  {
   "cell_type": "code",
   "execution_count": 518,
   "metadata": {},
   "outputs": [
    {
     "name": "stdout",
     "output_type": "stream",
     "text": [
      "0.9832656255823486\n"
     ]
    },
    {
     "data": {
      "text/plain": [
       "0.8596491228070176"
      ]
     },
     "execution_count": 518,
     "metadata": {},
     "output_type": "execute_result"
    }
   ],
   "source": [
    "print(auc_acq_tf)\n",
    "f1_acq_tf"
   ]
  },
  {
   "cell_type": "code",
   "execution_count": 507,
   "metadata": {},
   "outputs": [
    {
     "data": {
      "text/plain": [
       "Text(0.5, 1.0, \"ROC curve for predicting 'acq':CountVectorizer vs TfidfVectorizer\")"
      ]
     },
     "execution_count": 507,
     "metadata": {},
     "output_type": "execute_result"
    },
    {
     "data": {
      "image/png": "[encoded data removed]",
      "text/plain": [
       "<Figure size 432x288 with 1 Axes>"
      ]
     },
     "metadata": {
      "needs_background": "light"
     },
     "output_type": "display_data"
    }
   ],
   "source": [
    "plt.plot(fpr_acq_cn,tpr_acq_cn,label='CountVectorizer')\n",
    "plt.plot(fpr_acq_tf,tpr_acq_tf,label='TfidfVectorizer')\n",
    "plt.xlabel('FPR')\n",
    "plt.ylabel('TPR')\n",
    "plt.legend()\n",
    "plt.title(\"ROC curve for predicting 'acq':CountVectorizer vs TfidfVectorizer\")"
   ]
  },
  {
   "cell_type": "code",
   "execution_count": 508,
   "metadata": {},
   "outputs": [
    {
     "data": {
      "text/plain": [
       "Text(0.5, 1.0, \"PR curve for predicting 'acq':CountVectorizer vs TfidfVectorizer\")"
      ]
     },
     "execution_count": 508,
     "metadata": {},
     "output_type": "execute_result"
    },
    {
     "data": {
      "image/png": "[encoded data removed]",
      "text/plain": [
       "<Figure size 432x288 with 1 Axes>"
      ]
     },
     "metadata": {
      "needs_background": "light"
     },
     "output_type": "display_data"
    }
   ],
   "source": [
    "plt.plot(rec_acq_cn,prec_acq_cn,label='CountVectorizer')\n",
    "plt.plot(rec_acq_tf,prec_acq_tf,label='TfidfVectorizer')\n",
    "plt.xlabel('recall')\n",
    "plt.ylabel('precision')\n",
    "plt.legend()\n",
    "plt.title(\"PR curve for predicting 'acq':CountVectorizer vs TfidfVectorizer\")"
   ]
  },
  {
   "cell_type": "code",
   "execution_count": null,
   "metadata": {},
   "outputs": [],
   "source": []
  }
 ],
 "metadata": {
  "kernelspec": {
   "display_name": "Python 3",
   "language": "python",
   "name": "python3"
  },
  "language_info": {
   "codemirror_mode": {
    "name": "ipython",
    "version": 3
   },
   "file_extension": ".py",
   "mimetype": "text/x-python",
   "name": "python",
   "nbconvert_exporter": "python",
   "pygments_lexer": "ipython3",
   "version": "3.7.1"
  }
 },
 "nbformat": 4,
 "nbformat_minor": 2
}
