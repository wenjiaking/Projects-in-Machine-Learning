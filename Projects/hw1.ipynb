{
 "cells": [
  {
   "cell_type": "markdown",
   "metadata": {},
   "source": [
    "# STA 208: Homework 1 (Do not distribute)\n",
    "\n",
    "## Due 4/12/19 midnight \n",
    "\n",
    "__Instructions:__ To make grading easier for the TAs please submit it on canvas in a zip file with either the scanned solutions clearly written or in the jupyter notebook below.  The zip file should include all of your code either in this notebook file, or a separate python file that is imported and ran in this notebook.  We should be able to open this notebook and run everything here by running the cells in sequence.  The written portions can be either done in markdown and TeX in new cells or written clearly by hand and scanned.\n",
    "\n",
    "- Code should be well organized and documented\n",
    "- All math should be clear and make sense sequentially\n",
    "- When in doubt explain what is going on\n",
    "- You will be graded on correctness of your math, code efficiency and succinctness, and conclusions and modelling decisions"
   ]
  },
  {
   "cell_type": "markdown",
   "metadata": {},
   "source": [
    "__Exercise 1__ (20 pts)\n",
    "\n",
    "Consider the binary classification setting where the training data is $x_i \\in \\mathbb R^p, y_i \\in \\{0,1\\}, i=1,\\ldots,n$ and recall the empirical risk (as a function of the predictor $g : \\mathbb R^p \\to \\{0,1\\}$),\n",
    "$$\n",
    "R_n(g) = \\frac 1n \\sum_{i=1}^n \\ell(y_i, g(x_i)),\n",
    "$$\n",
    "and the true risk is \n",
    "$$\n",
    "R(g) = \\mathbb E \\ell(Y,g(X))\n",
    "$$\n",
    "where $X,Y$ are drawn from their joint distribution $f_{X,Y}(x,y)$.\n",
    "\n",
    "1. Suppose that the loss function is the Hamming loss, $\\ell(y,\\hat y) = 1\\{ y \\ne \\hat y\\}$.  What is the predictor that minimizes the True risk?  (Hint: derive an expression for this based on the joint distribution - you can use expressions involving conditional probabilities.)  This predictor is called the Bayes rule.\n",
    "\n",
    "### Answer:\n",
    "\n",
    "<font color=blue>\n",
    "\n",
    " - The true risk is $R(g) = \\mathbb E \\ell(Y,g(X))$. We can express it as conditional expectation,\n",
    " $$\n",
    " R(g) = \\mathbb E (\\mathbb E (\\ell(Y,g(X))|X))=\\mathbb E_X (\\mathbb P (Y \\neq g(X)|X))\n",
    " $$\n",
    " note that the loss function is the Hamming loss, $\\ell(y,\\hat y) = 1\\{ y \\ne \\hat y\\}$.\n",
    " So we should choose g(X), which can minimize the true risk:\n",
    " $$\n",
    " R(g)=\\mathbb E_X(\\mathbb P (g(X)=0)P(Y=1|X)+\\mathbb P (g(X)=1)P(Y=0|X))\n",
    " $$\n",
    " Therefore, \n",
    " $$\n",
    " g(X)=\\begin{cases}\n",
    " 0, & \\mathbb P (Y=1|X)\\leq\\frac 12\\\\\n",
    " 1, & \\mathbb P (Y=1|X)>\\frac 12\n",
    " \\end{cases}\n",
    " $$\n",
    "</font>\n",
    "\n",
    "\n",
    "2. Suppose that we know that the Bayes rule can be written in the form, \n",
    "$$\n",
    "h(x) = 1\\{ x_j > 0 \\}, \n",
    "$$\n",
    "for some $j = 1,\\ldots,p$, but we don't know which one.  Now using the empirical risk, what is a reasonable classification algorithm (Hint: you can think of finding a good classifier as a problem of finding $j$).  Describe the fit and predict methods. \n",
    "\n",
    "### Answer:\n",
    "<font color=blue>\n",
    "    \n",
    " - Fit method: \n",
    " We denote the design matrix $X_{n\\times p}$. If $X_{ij}>0$, we change its value to 1, otherwise we change it to 0. In this way, we obtain a 0-1 entry matrix, denoted by $X^\\prime$. Choose j such that\n",
    " $$\n",
    " \\sum_{i=1}^n |(y_i-X^\\prime_{ij})|\n",
    " $$\n",
    " is minimum.\n",
    " \n",
    " - Predict method:\n",
    " Based on j chosen above, the predict process is simple. $\\hat y = 1$ if $x_j>0$.\n",
    " </font>\n",
    "\n",
    "3. (Challenging) Suppose that I told you that for any fixed $g$ the following probability bound holds (from Hoeffding's inequality)\n",
    "$$\n",
    "\\mathbb P \\left\\{ |R_n(g) - R(g)| > t \\right\\} \\le 2 \\exp \\left( - 2 n t^2 \\right).\n",
    "$$\n",
    "If $p=10$, how many samples would I need to get a classifier $\\hat g$, from the previous question, such that \n",
    "$$\n",
    "\\mathbb P \\left\\{ R(\\hat g) < R(h) + 0.1 \\right\\} \\ge 0.95.\n",
    "$$\n",
    "(Hint: use the union bound)\n",
    "\n",
    "### Answer\n",
    "\n",
    "<font color=blue>\n",
    "\n",
    " - The probability $\\mathbb P \\left\\{ R(\\hat g) < R(h) + 0.1 \\right\\}$ is equivalent to $\\mathbb P \\left\\{ R(\\hat g)-R_n(\\hat g)+R_n(\\hat g)- R(h)+R_n(h)-R_n(h)<0.1 \\right\\}$\n",
    "\n",
    "  Since $\\hat g=argmin_g R_n(g)$, then $R_n(\\hat g)-R_n(h)\\leq0$. Hence,\n",
    "  \n",
    "  $$\n",
    "  \\mathbb P \\left\\{ R(\\hat g) < R(h) + 0.1 \\right\\}\\geq\\mathbb P \\left\\{ R(\\hat g)-R_n(\\hat g)- R(h)+R_n(h)<0.1\\right\\}\n",
    "  $$\n",
    "  \n",
    "  Denote $\\hat g_j(x) = 1\\{ x_j > 0 \\}$, and let the event $\\left\\{|R_n(\\hat g_j)-R_n(\\hat g)|<0.05\\right\\}$ be $A_j$. We have\n",
    "  \n",
    "  $$\n",
    "  \\cap_{j=1}^p A_j \\subseteq \\left\\{ R(\\hat g)-R_n(\\hat g)- R(h)+R_n(h)<0.1\\right\\},\n",
    "  $$\n",
    "  which means that $\\mathbb P \\left\\{ R(\\hat g)-R_n(\\hat g)- R(h)+R_n(h)<0.1\\right\\}\\geq\\mathbb P \\left\\{ \\cap_{j=1}^p A_j\\right\\}$\n",
    "  \n",
    "  Note that\n",
    "  $$\n",
    "  \\mathbb P \\left\\{ \\cap_{j=1}^p A_j\\right\\}=1-\\mathbb P \\left\\{ \\cup_{j=1}^p A_j^c\\right\\}\\geq 1-\\sum_{j=1}^p\\mathbb P \\left\\{A_j^c\\right\\}\\geq 1-(2p \\exp \\left( - 2\\times 0.05^2n \\right)),\n",
    "  $$\n",
    "  by the fact that for any fixed $g$, $\\mathbb P \\left\\{ |R_n(g) - R(g)| > t \\right\\} \\le 2 \\exp \\left( - 2 n t^2 \\right)$\n",
    "  \n",
    "  Therefore, $1-2\\times 10\\exp \\left( - 2\\times 0.05^2n \\right)\\ge 0.95$ gives us $n \\ge 1199$, note that $p=10$.\n",
    "</font>"
   ]
  },
  {
   "cell_type": "markdown",
   "metadata": {},
   "source": [
    "__Exercise 2__ (20 pts)\n",
    "\n",
    "Consider the regression setting in which $x_i \\in \\mathbb R^p$ and $y_i \\in \\mathbb R$, for $i=1,\\ldots,n$ and $p < n$.\n",
    "\n",
    "1. For a given regressor, let $\\hat y_i$ be prediction given $x_i$, and $\\hat y$ be the vector form.  Show that both linear regression and k-nearest neighbors can be written in the form\n",
    "$$\n",
    "\\hat y = H y,\n",
    "$$\n",
    "where $H$ is dependent on $X$ (the matrix of where each row is $x_i$), assuming that $p < n$ and $X$ is full rank.  Give an expression for $H$ or an algorithm for computing $H$.  Assume that the KNN algorithm will use the same point as its own nearest neighbor (this is consistent with what you get if you use the same dataset in fit and predict in sklearn.)\n",
    "\n",
    "### Answer\n",
    "\n",
    "<font color=blue>\n",
    "  \n",
    "  - Linear Regression:\n",
    "    $$\n",
    "    X^\\top X \\beta=X^\\top Y; \\beta=(X^\\top X)^{-1}X^\\top Y\n",
    "    $$\n",
    "   Therefore, $H=(X^\\top X)^{-1}X^\\top$\n",
    "    \n",
    "  - k-nearest neighbors:\n",
    "  Given a metric (d), the K-nearest neighbors of $x_i$ in $x_1,\\ldots,x_n$ is $x_{i_1},\\ldots,x_{i_K}$ such that\n",
    "  $$\n",
    "  d(x,x_{i_1}) \\le d(x,x_{i_2}) \\le \\ldots\n",
    "  $$\n",
    "  Since the KNN algorithm here will use the same point as its own nearest neighbor, the nearest point must be itself, which means $x_{i_1}=x_i$\n",
    "  \n",
    "  The prediction $y_i$ given $x_i$ is\n",
    "  $$\n",
    "  \\hat y_i=\\frac 1K \\sum_{j=1}^K y_{i_j}\n",
    "  $$\n",
    "  \n",
    "  Therefore, $H=(h_1,h_2,\\dots,h_n)^\\top$, where $h_i\\in \\mathbb R^n$. For each $h_i$, $K$ entries are $\\frac 1K$ and $n-K$ entries are $0$ and the $i_{th}$ entry of $h_i$ must be $\\frac 1K$\n",
    "       \n",
    "</font>\n",
    "    \n",
    "\n",
    "2. Give a simple modification to your algorithm to compute the KNN's $H$ matrix so that a sample does not use its own point.  Derive an expression for the leave-one-out cross validated squared error based on this $H$. \n",
    "\n",
    "### Answer\n",
    "\n",
    "<font color=blue>\n",
    "    \n",
    "  - A sample does not use its own point, which is equivalent to K-1 nearest neighbors. So, the (K-1)-nearest neighbors of $x_i$ in $x_1,\\ldots,x_n$ is $x_{i_2},\\ldots,x_{i_K}$ such that\n",
    "  $$\n",
    "  d(x,x_{i_2}) \\le d(x,x_{i_2}) \\le \\ldots\n",
    "  $$\n",
    "  The leave-one-out prediction of $y_i$ given $x_i$ is\n",
    "  $$\n",
    "  \\hat y^{(-i)}=\\frac {1}{K-1} \\sum_{j=2}^K y_{i_j}=\\frac {K}{K-1}\\hat y_i\n",
    "  $$\n",
    "  The leave-one-out cross validated squared error is\n",
    "  $$\n",
    "  \\sum_{i=1}^n(y_i-\\hat y^{(-i)})^2=\\sum_{i=1}^n(y_i-\\frac {K}{K-1}\\hat y_i)^2\n",
    "  $$\n",
    "    \n",
    "</font>\n",
    "\n",
    "3. For linear regression (with $p < n$ and $X$ is full rank), let $X = U D V^\\top$ be the singular value decomposition where $U$ is $n \\times p$, and $V, D$ is $p \\times p$ ($D$ is diagonal). Derive an expression for the OLS coefficients $\\beta = A b$ such that $A$ is $p \\times p$ and depends on $V$ and $D$, and $b$ is a $p$ vector and does not depend on $D$.  Describe a fit method that precomputes these quantities separately, and describe a predict method.\n",
    "\n",
    "### Answer\n",
    "\n",
    "<font color=blue>\n",
    "    \n",
    " - OLS coefficients is\n",
    " $$\n",
    " \\beta=(X^\\top X)^{-1}X^\\top Y=(VDU^\\top U D V^\\top)^{-1} VDU^\\top Y=VD^{-2}V^\\top VDU^\\top Y=VD^{-1}U^\\top Y=Ab\n",
    " $$\n",
    " where $A=VD^{-1}$ and $b=U^\\top Y$. Obviously, $A$ is $p \\times p$ and depends on $V$ and $D$, and $b$ is a $p$\n",
    " vector and does not depend on $D$.\n",
    " \n",
    " __Fit Method:__\n",
    " \n",
    " We need precompute the singular value decomposition of $X$ to obtain $U$,$ D $ and $V$. Then computing the $A=VD^{-1}$ and $b=U^\\top Y$ gives us the coefficient $\\beta=Ab$\n",
    " \n",
    " __Predict Method:__\n",
    " \n",
    " The prediction of $y_{n+1}$ based on $x_{n+1}$ is \n",
    " $$\n",
    " \\hat y_{n+1}=x_{n+1}^\\top Ab\n",
    " $$\n",
    "\n",
    "</font>\n",
    "\n",
    "\n",
    "\n",
    "4. Consider a regressor that performs OLS using the SVD above, but every instance of D will only use the largest $r$ values on the diagonal.  Call this new $r \\times r$ matrix $D_r$ ($r < p$), and let $U_r, V_r^\\top$ be the $n \\times r$ and $r \\times p$ matrices which are these restricted to the top $r$ eigenvectors.  Then the new coefficient vector is the OLS computed as if the design matrix is modified by $X \\gets U_r D_r V_r^\\top$.  Given that you have computed $b$ already, how could you make a method `change_rank` that recomputes $A$ with $D_r$ instead of $D$?  What is its computational complexity (it should not depend on n)?\n",
    "\n",
    "### Answer\n",
    "\n",
    "<font color=blue>\n",
    "\n",
    " - Since $U_r, V_r^\\top$ consist of the first r columns of $U, V^\\top$ respectively, and $D_r$ consist of the first r columns and first r rows of $D$, then $A_r$ is the first r columns of $A$ and $b_r$ is the first r rows of $b$.\n",
    " Therefore, given that we have already computed the $A$ and $b$ already, we only need to choose the first r columns of $A$ and first r rows of $b$ as $A_r$ and $b_r$ respectively. The computational complexity is $O(1)$. And, if we do not know $A$, we can calculate $A_r$ with $D_r$ and the first r columns of $V$. In this case, the computational complexity is $O(rp)$\n",
    "</font>"
   ]
  },
  {
   "cell_type": "markdown",
   "metadata": {},
   "source": [
    "__Exercise 3__ (30 pts)\n",
    "\n",
    "We call the method that zeros out all but $r$ singular values in OLS, singular value regression.  Implement the singular value regressor as a sklearn style class below.  Test it by simulating the training and test data from the `gen_LR_data` function below and calculate the average square error on the test set.  Do this for each choice of `r` in the fit function (from 1 to $p$)."
   ]
  },
  {
   "cell_type": "code",
   "execution_count": 1,
   "metadata": {},
   "outputs": [],
   "source": [
    "import numpy as np\n",
    "from scipy.linalg import svd\n",
    "import pandas as pd\n",
    "from sklearn import model_selection, linear_model, neighbors, preprocessing, metrics\n",
    "#from scipy.linalg import svd\n"
   ]
  },
  {
   "cell_type": "code",
   "execution_count": 2,
   "metadata": {},
   "outputs": [],
   "source": [
    "class SingularValueRegressor:\n",
    "    \"\"\"\n",
    "    : A regression object that uses the SVD to fit and predict\n",
    "    : Init: specify rank r\n",
    "    : .fit: solve the SVD of X and precompute beta\n",
    "    : .predict: Return y hat for X_test\n",
    "    \"\"\"\n",
    "    \n",
    "    def __init__(self,r):\n",
    "        \"\"\"\n",
    "        : Store the rank\n",
    "        \"\"\"\n",
    "        self.r = r\n",
    "        \n",
    "    def fit(self,X,y):\n",
    "        \"\"\"\n",
    "        : Computes and stores the SVD (use scipy.linalg.svd)\n",
    "        : Computes beta for rank r singular value regression\n",
    "        \"\"\"\n",
    "        U,D,Vh=svd(X,full_matrices=False)\n",
    "        d=1/D\n",
    "        A=Vh.T@np.diag(d)\n",
    "        b=U.T@y\n",
    "        self.beta_hat=A[:,:self.r]@b[:self.r]\n",
    "        return self.beta_hat\n",
    "    def predict(self,X_test):\n",
    "        \"\"\"\n",
    "        : Outputs the predicted y given the predictors X_test\n",
    "        \"\"\"\n",
    "        y_pre=X_test@self.beta_hat\n",
    "        return y_pre\n",
    "\n",
    "    def change_rank(self,r):\n",
    "        \"\"\"\n",
    "        : Assumes that the SVD has been computed and uses it to change the rank; after\n",
    "        : running the new regressor object should be as if we fit with the new rank r\n",
    "        \"\"\"\n",
    "        self.r=r"
   ]
  },
  {
   "cell_type": "code",
   "execution_count": 12,
   "metadata": {},
   "outputs": [],
   "source": [
    "def gen_LR_data(r = 10, p = 20, n = 100):\n",
    "    \"\"\"\n",
    "    : generate data from an approx low rank regression model\n",
    "    \"\"\"\n",
    "    alpha = np.random.chisquare(1,size = (p,r)) #X coefficients\n",
    "    Z = np.random.normal(size=(n,r)) #X covariates\n",
    "    beta = np.random.normal(size = r) #reg covs\n",
    "    mu = Z @ beta #hidden mean\n",
    "    Xmean = Z @ alpha.T #random transformation of Z\n",
    "    X = Xmean + np.random.normal(0,.5,size=(n,p)) #add noise - not exactly low rank\n",
    "    X_test = Xmean + np.random.normal(0,.5,size=(n,p))\n",
    "    y = mu + np.random.normal(0,1,size=(n))\n",
    "    y_test = mu + np.random.normal(0,1,size=(n))\n",
    "    return (X,y,X_test,y_test)"
   ]
  },
  {
   "cell_type": "code",
   "execution_count": 13,
   "metadata": {},
   "outputs": [],
   "source": [
    "np.random.seed(5)\n",
    "X,y,X_test,y_test = gen_LR_data()"
   ]
  },
  {
   "cell_type": "code",
   "execution_count": 15,
   "metadata": {},
   "outputs": [
    {
     "name": "stdout",
     "output_type": "stream",
     "text": [
      "[9.170167377366967, 6.362539565137533, 5.248195179026678, 4.921950575829944, 2.4290278560649488, 2.2185322562724763, 2.1819171940132205, 1.8341657519605574, 1.0567231589874864, 0.9095929164138888, 0.9149900337493597, 0.9559271866313865, 0.9573666809596358, 0.9426900393110554, 0.9438773977836165, 0.9429746583875485, 0.9295406535185775, 0.9812569153961134, 0.9818099468663991, 0.9905930755814613]\n"
     ]
    },
    {
     "data": {
      "text/plain": [
       "Text(0, 0.5, 'MSE')"
      ]
     },
     "execution_count": 15,
     "metadata": {},
     "output_type": "execute_result"
    },
    {
     "data": {
      "image/png": "[encoded data removed]",
      "text/plain": [
       "<Figure size 432x288 with 1 Axes>"
      ]
     },
     "metadata": {
      "needs_background": "light"
     },
     "output_type": "display_data"
    }
   ],
   "source": [
    "mse=[]\n",
    "r_range=np.arange(1,21)\n",
    "for r in r_range:\n",
    "    svr=SingularValueRegressor(r=r)\n",
    "    bata=svr.fit(X,y)\n",
    "    pred=svr.predict(X_test)\n",
    "    mse_r=metrics.mean_squared_error(y_test,pred)\n",
    "    mse.append(mse_r)\n",
    "print(mse)\n",
    "import matplotlib.pyplot as plt\n",
    "plt.plot(r_range,mse)\n",
    "plt.xlabel('r')\n",
    "plt.ylabel('MSE')\n"
   ]
  },
  {
   "cell_type": "markdown",
   "metadata": {},
   "source": [
    "__Exercise 4__ (30 pts)\n",
    "\n",
    "The dataset in the hw1 directory has a Y variable, 7 predictor variables (X1 - X7).  Using sklearn and the class that you constructed above, compare ridge regression, OLS, kNN, and SVRegression.  Compare and tune the methods using appropriate testing procedures.  Comment on the tuning of each parameter in ridge, kNN, and SVRegression in markdown.  Be sure to standardize the X variables first and decide how to deal with NAs.  \n",
    "\n",
    "### Answer\n",
    "\n",
    "<font color=blue>\n",
    "\n",
    " - __kNN:__\n",
    " When the tunning parameter K is about 4, the loss is minimum and less than the loss of OLS.\n",
    "\n",
    " - __Ridge regression:__\n",
    " There seems to be no significant improvement when change the tunning paramete, and the loss is almost the same as the loss of OLS.\n",
    "\n",
    " - __SVRegression:__\n",
    " The loss is minimized at $r=7$, which is choosing all singular values. However, the loss at $r=6$ is closed to the minimum loss at $r=7$. Actually, there is no significant improvement by involving the last singular value. \n",
    "\n",
    "</font>"
   ]
  },
  {
   "cell_type": "code",
   "execution_count": 16,
   "metadata": {},
   "outputs": [],
   "source": [
    "import pandas as pd\n",
    "from sklearn import model_selection, linear_model, neighbors, preprocessing, metrics"
   ]
  },
  {
   "cell_type": "code",
   "execution_count": 17,
   "metadata": {},
   "outputs": [
    {
     "data": {
      "text/html": [
       "<div>\n",
       "<style scoped>\n",
       "    .dataframe tbody tr th:only-of-type {\n",
       "        vertical-align: middle;\n",
       "    }\n",
       "\n",
       "    .dataframe tbody tr th {\n",
       "        vertical-align: top;\n",
       "    }\n",
       "\n",
       "    .dataframe thead th {\n",
       "        text-align: right;\n",
       "    }\n",
       "</style>\n",
       "<table border=\"1\" class=\"dataframe\">\n",
       "  <thead>\n",
       "    <tr style=\"text-align: right;\">\n",
       "      <th></th>\n",
       "      <th>Y</th>\n",
       "      <th>X1</th>\n",
       "      <th>X2</th>\n",
       "      <th>X3</th>\n",
       "      <th>X4</th>\n",
       "      <th>X5</th>\n",
       "      <th>X6</th>\n",
       "      <th>X7</th>\n",
       "    </tr>\n",
       "  </thead>\n",
       "  <tbody>\n",
       "    <tr>\n",
       "      <th>0</th>\n",
       "      <td>18.0</td>\n",
       "      <td>8.0</td>\n",
       "      <td>307.0</td>\n",
       "      <td>130.0</td>\n",
       "      <td>3504.0</td>\n",
       "      <td>12.0</td>\n",
       "      <td>70.0</td>\n",
       "      <td>1.0</td>\n",
       "    </tr>\n",
       "    <tr>\n",
       "      <th>1</th>\n",
       "      <td>15.0</td>\n",
       "      <td>8.0</td>\n",
       "      <td>350.0</td>\n",
       "      <td>165.0</td>\n",
       "      <td>3693.0</td>\n",
       "      <td>11.5</td>\n",
       "      <td>70.0</td>\n",
       "      <td>1.0</td>\n",
       "    </tr>\n",
       "    <tr>\n",
       "      <th>2</th>\n",
       "      <td>18.0</td>\n",
       "      <td>8.0</td>\n",
       "      <td>318.0</td>\n",
       "      <td>150.0</td>\n",
       "      <td>3436.0</td>\n",
       "      <td>11.0</td>\n",
       "      <td>70.0</td>\n",
       "      <td>1.0</td>\n",
       "    </tr>\n",
       "    <tr>\n",
       "      <th>3</th>\n",
       "      <td>16.0</td>\n",
       "      <td>8.0</td>\n",
       "      <td>304.0</td>\n",
       "      <td>150.0</td>\n",
       "      <td>3433.0</td>\n",
       "      <td>12.0</td>\n",
       "      <td>70.0</td>\n",
       "      <td>1.0</td>\n",
       "    </tr>\n",
       "    <tr>\n",
       "      <th>4</th>\n",
       "      <td>17.0</td>\n",
       "      <td>8.0</td>\n",
       "      <td>302.0</td>\n",
       "      <td>140.0</td>\n",
       "      <td>3449.0</td>\n",
       "      <td>10.5</td>\n",
       "      <td>70.0</td>\n",
       "      <td>1.0</td>\n",
       "    </tr>\n",
       "  </tbody>\n",
       "</table>\n",
       "</div>"
      ],
      "text/plain": [
       "      Y   X1     X2     X3      X4    X5    X6   X7\n",
       "0  18.0  8.0  307.0  130.0  3504.0  12.0  70.0  1.0\n",
       "1  15.0  8.0  350.0  165.0  3693.0  11.5  70.0  1.0\n",
       "2  18.0  8.0  318.0  150.0  3436.0  11.0  70.0  1.0\n",
       "3  16.0  8.0  304.0  150.0  3433.0  12.0  70.0  1.0\n",
       "4  17.0  8.0  302.0  140.0  3449.0  10.5  70.0  1.0"
      ]
     },
     "execution_count": 17,
     "metadata": {},
     "output_type": "execute_result"
    }
   ],
   "source": [
    "data_mat = pd.read_csv('hw1_data.csv')\n",
    "data_mat.head()"
   ]
  },
  {
   "cell_type": "code",
   "execution_count": 18,
   "metadata": {},
   "outputs": [],
   "source": [
    "data_mat=data_mat.dropna(axis=0)\n",
    "y = data_mat['Y'].values\n",
    "X = data_mat.drop(['Y'],axis=1).values \n",
    "test_size = .33\n",
    "X_tr, X_te, y_tr, y_te = model_selection.train_test_split(X,y,test_size = .33,random_state=2)"
   ]
  },
  {
   "cell_type": "code",
   "execution_count": 19,
   "metadata": {},
   "outputs": [],
   "source": [
    "stand = preprocessing.StandardScaler()\n",
    "stand.fit(X_tr)\n",
    "X_tr = stand.transform(X_tr)\n",
    "X_te = stand.transform(X_te)"
   ]
  },
  {
   "cell_type": "code",
   "execution_count": 20,
   "metadata": {},
   "outputs": [
    {
     "data": {
      "text/plain": [
       "11.222165579443152"
      ]
     },
     "execution_count": 20,
     "metadata": {},
     "output_type": "execute_result"
    }
   ],
   "source": [
    "## Fitting OLS \n",
    "lr = linear_model.LinearRegression()\n",
    "lr.fit(X_tr,y_tr)\n",
    "lr_pred=lr.predict(X_te)\n",
    "lr_mse=metrics.mean_squared_error(y_te,lr_pred)\n",
    "lr_mse"
   ]
  },
  {
   "cell_type": "code",
   "execution_count": 21,
   "metadata": {},
   "outputs": [
    {
     "data": {
      "text/plain": [
       "(7, 17)"
      ]
     },
     "execution_count": 21,
     "metadata": {},
     "output_type": "execute_result"
    },
    {
     "data": {
      "image/png": "[encoded data removed]",
      "text/plain": [
       "<Figure size 432x288 with 1 Axes>"
      ]
     },
     "metadata": {
      "needs_background": "light"
     },
     "output_type": "display_data"
    }
   ],
   "source": [
    "## Fitting Knns\n",
    "knn_mse = []\n",
    "neighbors_K = np.arange(1,16)\n",
    "for k in neighbors_K:\n",
    "    knn = neighbors.KNeighborsRegressor(n_neighbors=k)\n",
    "    knn.fit(X_tr,y_tr)\n",
    "    knn_pred=knn.predict(X_te) \n",
    "    mse=metrics.mean_squared_error(y_te,knn_pred)\n",
    "    knn_mse.append(mse)\n",
    "plt.plot(neighbors_K,knn_mse)\n",
    "plt.xlabel('K')\n",
    "plt.ylabel('Knn_MSE')\n",
    "plt.ylim(7,17)"
   ]
  },
  {
   "cell_type": "code",
   "execution_count": 22,
   "metadata": {},
   "outputs": [
    {
     "data": {
      "text/plain": [
       "(7, 17)"
      ]
     },
     "execution_count": 22,
     "metadata": {},
     "output_type": "execute_result"
    },
    {
     "data": {
      "image/png": "[encoded data removed]",
      "text/plain": [
       "<Figure size 432x288 with 1 Axes>"
      ]
     },
     "metadata": {
      "needs_background": "light"
     },
     "output_type": "display_data"
    }
   ],
   "source": [
    "## SVRegression\n",
    "# add the intercept:\n",
    "n_tr,p=X_tr.shape\n",
    "n_te,p=X_te.shape\n",
    "X_tr_ones=np.hstack((np.ones((n_tr,1)),X_tr))\n",
    "X_te_ones=np.hstack((np.ones((n_te,1)),X_te))\n",
    "\n",
    "SVR_mse=[]\n",
    "r_range=np.arange(1,8)\n",
    "for r in r_range:\n",
    "    svr=SingularValueRegressor(r=r+1)\n",
    "    bata=svr.fit(X_tr_ones,y_tr)\n",
    "    pred=svr.predict(X_te_ones)\n",
    "    mse_r=metrics.mean_squared_error(y_te,pred)\n",
    "    SVR_mse.append(mse_r)\n",
    "\n",
    "plt.plot(r_range,SVR_mse)\n",
    "plt.xlabel('r')\n",
    "plt.ylabel('SVDRegression_MSE')\n",
    "plt.ylim(7,17)"
   ]
  },
  {
   "cell_type": "code",
   "execution_count": 23,
   "metadata": {},
   "outputs": [
    {
     "data": {
      "text/plain": [
       "(7, 17)"
      ]
     },
     "execution_count": 23,
     "metadata": {},
     "output_type": "execute_result"
    },
    {
     "data": {
      "image/png": "[encoded data removed]",
      "text/plain": [
       "<Figure size 432x288 with 1 Axes>"
      ]
     },
     "metadata": {
      "needs_background": "light"
     },
     "output_type": "display_data"
    }
   ],
   "source": [
    "## Ridge Regression\n",
    "Rdg_mse=[]\n",
    "lamb_range=np.arange(0,5,0.1)\n",
    "for lamb in lamb_range:\n",
    "    rdg=linear_model.Ridge(alpha=lamb)\n",
    "    rdg.fit(X_tr,y_tr)\n",
    "    rdg_pred=rdg.predict(X_te)\n",
    "    mse=metrics.mean_squared_error(y_te,rdg_pred)\n",
    "    Rdg_mse.append(mse)\n",
    "\n",
    "plt.plot(lamb_range,Rdg_mse)\n",
    "plt.xlabel('alpha')\n",
    "plt.ylabel('Ridge_Regression_MSE')\n",
    "plt.ylim(7,17)"
   ]
  },
  {
   "cell_type": "code",
   "execution_count": null,
   "metadata": {},
   "outputs": [],
   "source": []
  }
 ],
 "metadata": {
  "kernelspec": {
   "display_name": "Python 3",
   "language": "python",
   "name": "python3"
  },
  "language_info": {
   "codemirror_mode": {
    "name": "ipython",
    "version": 3
   },
   "file_extension": ".py",
   "mimetype": "text/x-python",
   "name": "python",
   "nbconvert_exporter": "python",
   "pygments_lexer": "ipython3",
   "version": "3.7.1"
  }
 },
 "nbformat": 4,
 "nbformat_minor": 2
}
