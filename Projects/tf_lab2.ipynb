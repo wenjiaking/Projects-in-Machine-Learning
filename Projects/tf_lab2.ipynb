{
 "cells": [
  {
   "cell_type": "code",
   "execution_count": 3,
   "metadata": {},
   "outputs": [],
   "source": [
    "### I disabled my GPU since most of you will not have that\n",
    "import os\n",
    "os.environ[\"CUDA_DEVICE_ORDER\"] = \"PCI_BUS_ID\"   # see issue #152\n",
    "os.environ[\"CUDA_VISIBLE_DEVICES\"] = \"\""
   ]
  },
  {
   "cell_type": "markdown",
   "metadata": {},
   "source": [
    "## DavisSML Tensorflow Lab 2\n",
    "\n",
    "Some content is taken from \n",
    "- www.tensorflow.org \n",
    "- http://rail.eecs.berkeley.edu/deeprlcourse/\n",
    "\n",
    "To install tensorflow and keras use pip:\n",
    "`pip install tensorflow`, `pip install keras`"
   ]
  },
  {
   "cell_type": "markdown",
   "metadata": {},
   "source": [
    "### Keras\n",
    "\n",
    "- high level API, typically do not interact with Tensors as in base tensorflow\n",
    "- build Models from Layers\n",
    "- integrated with Datasets API\n",
    "- extensible : can build custom layers"
   ]
  },
  {
   "cell_type": "code",
   "execution_count": 4,
   "metadata": {},
   "outputs": [],
   "source": [
    "from __future__ import print_function\n",
    "import keras\n",
    "from keras import layers, datasets, models\n",
    "from keras import backend as K\n",
    "import tensorflow as tf\n",
    "import matplotlib.pyplot as plt"
   ]
  },
  {
   "cell_type": "markdown",
   "metadata": {},
   "source": [
    "### Models and Layers\n",
    "\n",
    "- Models contain Layers (in a graph)\n",
    "- Layers contain all of the tensors, variables, operations, etc.\n",
    "- Sequential graph is just a stack of layers (one feeds into the next)"
   ]
  },
  {
   "cell_type": "code",
   "execution_count": 3,
   "metadata": {},
   "outputs": [],
   "source": [
    "model = keras.Sequential()\n",
    "# Adds a densely-connected layer with 64 units to the model:\n",
    "model.add(layers.Dense(64, activation='relu'))\n",
    "# Add another:\n",
    "model.add(layers.Dense(64, activation='relu'))\n",
    "# Add a softmax layer with 10 output units:\n",
    "model.add(layers.Dense(10, activation='softmax'))"
   ]
  },
  {
   "cell_type": "markdown",
   "metadata": {},
   "source": [
    "See the layers that are in the model here:"
   ]
  },
  {
   "cell_type": "code",
   "execution_count": 4,
   "metadata": {},
   "outputs": [
    {
     "data": {
      "text/plain": [
       "[<keras.layers.core.Dense at 0x7efb8af72588>,\n",
       " <keras.layers.core.Dense at 0x7efb8af72748>,\n",
       " <keras.layers.core.Dense at 0x7efb8af72a20>]"
      ]
     },
     "execution_count": 4,
     "metadata": {},
     "output_type": "execute_result"
    }
   ],
   "source": [
    "model.layers"
   ]
  },
  {
   "cell_type": "markdown",
   "metadata": {},
   "source": [
    "Layers have \n",
    "- activation parameter: can be `tf.sigmoid` or 'sigmoid' for example\n",
    "- kernel initializer, bias initializer: how to initialize coefficients or intercept\n",
    "- kernel_regularizer, bias_regularizer: regularizers for coefficients and intercepts"
   ]
  },
  {
   "cell_type": "code",
   "execution_count": 5,
   "metadata": {},
   "outputs": [],
   "source": [
    "model = keras.Sequential()\n",
    "# Adds a densely-connected layer with 64 units to the model:\n",
    "model.add(layers.Dense(64, activation=tf.sigmoid,kernel_initializer='orthogonal')) # random orthogonal matrix init\n",
    "# Add another:\n",
    "model.add(layers.Dense(64, activation='relu',kernel_regularizer = keras.regularizers.l1(0.01))) # l1 regularizer\n",
    "# Add a softmax layer with 10 output units:\n",
    "model.add(layers.Dense(10, activation='softmax'))"
   ]
  },
  {
   "cell_type": "markdown",
   "metadata": {},
   "source": [
    "Model compile:\n",
    "- optimizer: ex. tf.train.AdamOptimizer, tf.train.RMSPropOptimizer, tf.train.GradientDescentOptimizer\n",
    "- loss: mse, categorical_crossentropy, and binary_crossentropy\n",
    "- metrics: monitoring training\n",
    "\n",
    "Documentation: [Losses](https://keras.io/losses/), [Metrics](https://keras.io/metrics/), [Optimizers](https://www.tensorflow.org/api_docs/python/tf/keras/optimizers)"
   ]
  },
  {
   "cell_type": "code",
   "execution_count": 6,
   "metadata": {},
   "outputs": [
    {
     "name": "stdout",
     "output_type": "stream",
     "text": [
      "WARNING:tensorflow:From /anaconda3/lib/python3.7/site-packages/tensorflow/python/framework/op_def_library.py:263: colocate_with (from tensorflow.python.framework.ops) is deprecated and will be removed in a future version.\n",
      "Instructions for updating:\n",
      "Colocations handled automatically by placer.\n"
     ]
    }
   ],
   "source": [
    "model.compile(optimizer=tf.train.AdamOptimizer(0.001),\n",
    "              loss='categorical_crossentropy', \n",
    "              # if you have 10 classes, the target for each sample should be a 10-dimensional vector that is all-zeros except for a 1 at the index corresponding to the class of the sample\n",
    "              metrics=['accuracy'])"
   ]
  },
  {
   "cell_type": "markdown",
   "metadata": {},
   "source": [
    "Model fit will run the optimizer with epochs, batch_size, validation_data "
   ]
  },
  {
   "cell_type": "code",
   "execution_count": 7,
   "metadata": {},
   "outputs": [
    {
     "name": "stdout",
     "output_type": "stream",
     "text": [
      "WARNING:tensorflow:From /anaconda3/lib/python3.7/site-packages/tensorflow/python/ops/math_ops.py:3066: to_int32 (from tensorflow.python.ops.math_ops) is deprecated and will be removed in a future version.\n",
      "Instructions for updating:\n",
      "Use tf.cast instead.\n",
      "Epoch 1/10\n",
      "1000/1000 [==============================] - 0s 356us/step - loss: 15.4522 - acc: 0.1060\n",
      "Epoch 2/10\n",
      "1000/1000 [==============================] - 0s 45us/step - loss: 14.4949 - acc: 0.0940\n",
      "Epoch 3/10\n",
      "1000/1000 [==============================] - 0s 39us/step - loss: 13.6724 - acc: 0.0910\n",
      "Epoch 4/10\n",
      "1000/1000 [==============================] - 0s 42us/step - loss: 12.9883 - acc: 0.0960\n",
      "Epoch 5/10\n",
      "1000/1000 [==============================] - 0s 39us/step - loss: 12.4492 - acc: 0.0940\n",
      "Epoch 6/10\n",
      "1000/1000 [==============================] - 0s 42us/step - loss: 12.0463 - acc: 0.0900\n",
      "Epoch 7/10\n",
      "1000/1000 [==============================] - 0s 38us/step - loss: 11.7777 - acc: 0.0910\n",
      "Epoch 8/10\n",
      "1000/1000 [==============================] - 0s 42us/step - loss: 11.6293 - acc: 0.0950\n",
      "Epoch 9/10\n",
      "1000/1000 [==============================] - 0s 41us/step - loss: 11.5454 - acc: 0.0940\n",
      "Epoch 10/10\n",
      "1000/1000 [==============================] - 0s 42us/step - loss: 11.4975 - acc: 0.0840\n"
     ]
    },
    {
     "data": {
      "text/plain": [
       "<keras.callbacks.History at 0xb3371d1d0>"
      ]
     },
     "execution_count": 7,
     "metadata": {},
     "output_type": "execute_result"
    }
   ],
   "source": [
    "import numpy as np\n",
    "\n",
    "data = np.random.random((1000, 32))\n",
    "labels = np.random.random((1000, 10))\n",
    "\n",
    "model.fit(data, labels, epochs=10, batch_size=32)"
   ]
  },
  {
   "cell_type": "markdown",
   "metadata": {},
   "source": [
    "### Custom layer\n",
    "- build: Create the weights of the layer. Add weights with the add_weight method.\n",
    "- call: Define the forward pass.\n",
    "- compute_output_shape: Specify how to compute the output shape of the layer given the input shape."
   ]
  },
  {
   "cell_type": "code",
   "execution_count": 8,
   "metadata": {},
   "outputs": [
    {
     "name": "stdout",
     "output_type": "stream",
     "text": [
      "dense_1 : (None, 32) to (None, 64)\n",
      "dense_2 : (None, 64) to (None, 64)\n",
      "dense_3 : (None, 64) to (None, 10)\n"
     ]
    }
   ],
   "source": [
    "for l in model.layers:\n",
    "    print(\"{} : {} to {}\".format(l.name,l.input_shape,l.output_shape))"
   ]
  },
  {
   "cell_type": "code",
   "execution_count": 9,
   "metadata": {},
   "outputs": [],
   "source": [
    "class MyLayer(layers.Layer):\n",
    "\n",
    "  def __init__(self, output_dim, **kwargs):\n",
    "    self.output_dim = output_dim #output dimension\n",
    "    super(MyLayer, self).__init__(**kwargs)\n",
    "\n",
    "  def build(self, input_shape):\n",
    "    shape = tf.TensorShape((input_shape[1], self.output_dim)) #input_shape[1] the number of features\n",
    "    # Create a trainable weight variable for this layer.\n",
    "    self.kernel = self.add_weight(name='kernel',\n",
    "                                  shape=shape,\n",
    "                                  initializer='uniform',\n",
    "                                  trainable=True)\n",
    "    # Make sure to call the `build` method at the end\n",
    "    super(MyLayer, self).build(input_shape)\n",
    "\n",
    "  def call(self, inputs):\n",
    "    return tf.matmul(inputs, self.kernel)\n",
    "\n",
    "  def compute_output_shape(self, input_shape):\n",
    "    shape = tf.TensorShape(input_shape).as_list()\n",
    "    shape[-1] = self.output_dim\n",
    "    return tf.TensorShape(shape)"
   ]
  },
  {
   "cell_type": "markdown",
   "metadata": {},
   "source": [
    "### Image data\n",
    "\n",
    "We will create a model that includes\n",
    "- convolutional layers: convolution of a kernel of certain size, number of channels, activation\n",
    "- pooling: max pooling for example, pool size\n",
    "- dropout: dropout probability"
   ]
  },
  {
   "cell_type": "code",
   "execution_count": 34,
   "metadata": {},
   "outputs": [],
   "source": [
    "batch_size = 128\n",
    "num_classes = 10\n",
    "epochs = 4\n",
    "\n",
    "# input image dimensions\n",
    "img_rows, img_cols = 28, 28"
   ]
  },
  {
   "cell_type": "code",
   "execution_count": 35,
   "metadata": {},
   "outputs": [],
   "source": [
    "# the data, split between train and test sets\n",
    "(x_train, y_train), (x_test, y_test) = datasets.mnist.load_data()\n",
    "# MNIST dataset contains greyscale 10 digit imges, with 60000 train samples and 10000 test samples\n",
    "if K.image_data_format() == 'channels_first':\n",
    "    x_train = x_train.reshape(x_train.shape[0], 1, img_rows, img_cols) # 4 dimension tensor, 1 represents there is only 1 channel.\n",
    "    x_test = x_test.reshape(x_test.shape[0], 1, img_rows, img_cols)\n",
    "    input_shape = (1, img_rows, img_cols)\n",
    "else:\n",
    "    x_train = x_train.reshape(x_train.shape[0], img_rows, img_cols, 1)\n",
    "    x_test = x_test.reshape(x_test.shape[0], img_rows, img_cols, 1)\n",
    "    input_shape = (img_rows, img_cols, 1)"
   ]
  },
  {
   "cell_type": "code",
   "execution_count": 36,
   "metadata": {},
   "outputs": [
    {
     "data": {
      "text/plain": [
       "(60000, 28, 28, 1)"
      ]
     },
     "execution_count": 36,
     "metadata": {},
     "output_type": "execute_result"
    }
   ],
   "source": [
    "x_train.shape"
   ]
  },
  {
   "cell_type": "code",
   "execution_count": 37,
   "metadata": {},
   "outputs": [
    {
     "name": "stdout",
     "output_type": "stream",
     "text": [
      "x_train shape: (60000, 28, 28, 1)\n",
      "60000 train samples\n",
      "10000 test samples\n"
     ]
    }
   ],
   "source": [
    "x_train = x_train.astype('float32')\n",
    "x_test = x_test.astype('float32')\n",
    "x_train /= 255\n",
    "x_test /= 255\n",
    "print('x_train shape:', x_train.shape)\n",
    "print(x_train.shape[0], 'train samples')\n",
    "print(x_test.shape[0], 'test samples')"
   ]
  },
  {
   "cell_type": "code",
   "execution_count": 38,
   "metadata": {},
   "outputs": [
    {
     "data": {
      "text/plain": [
       "dtype('uint8')"
      ]
     },
     "execution_count": 38,
     "metadata": {},
     "output_type": "execute_result"
    }
   ],
   "source": [
    "y_train.dtype"
   ]
  },
  {
   "cell_type": "code",
   "execution_count": 39,
   "metadata": {},
   "outputs": [],
   "source": [
    "# convert class vectors to binary class matrices\n",
    "y_train = keras.utils.to_categorical(y_train, num_classes)\n",
    "y_test = keras.utils.to_categorical(y_test, num_classes)\n",
    "# initially, the response variable is 'unit8' data type, which is not categorically, we need to transform\n",
    "\n",
    "model = keras.Sequential()\n",
    "model.add(layers.Conv2D(32, kernel_size=(3, 3),\n",
    "                 activation='relu',\n",
    "                 input_shape=input_shape))\n",
    "#kernel_size:specifying the height and width of the 2D convolution window. \n",
    "# 32 is the number of the filters\n",
    "#data_format:channels_last corresponds to inputs with shape (batch, height, width, channels) \n",
    "#        while channels_first corresponds to inputs with shape (batch, channels, height, width)\n",
    "# default strides is (1,1)\n",
    "# The output should be 26*26 of each filter, and the number of the filter is 32\n",
    "\n",
    "model.add(layers.MaxPooling2D(pool_size=(2, 2))) # the output should be 13*13, with 32 filter?\n",
    "#Pooling can be max or average, here we use max\n",
    "model.add(layers.Conv2D(64, (3, 3), activation='relu'))\n",
    "model.add(layers.MaxPooling2D(pool_size=(2, 2)))\n",
    "\n",
    "model.add(layers.Dropout(0.25))\n",
    "model.add(layers.Flatten())\n",
    "model.add(layers.Dense(128, activation='relu'))\n",
    "model.add(layers.Dropout(0.5)) # float between 0 and 1. Fraction of the input units to drop\n",
    "model.add(layers.Dense(num_classes, activation='softmax'))"
   ]
  },
  {
   "cell_type": "code",
   "execution_count": 40,
   "metadata": {},
   "outputs": [
    {
     "name": "stdout",
     "output_type": "stream",
     "text": [
      "conv2d_9 : (None, 28, 28, 1) to (None, 26, 26, 32)\n",
      "max_pooling2d_8 : (None, 26, 26, 32) to (None, 13, 13, 32)\n",
      "conv2d_10 : (None, 13, 13, 32) to (None, 11, 11, 64)\n",
      "max_pooling2d_9 : (None, 11, 11, 64) to (None, 5, 5, 64)\n",
      "dropout_6 : (None, 5, 5, 64) to (None, 5, 5, 64)\n",
      "flatten_5 : (None, 5, 5, 64) to (None, 1600)\n",
      "dense_12 : (None, 1600) to (None, 128)\n",
      "dropout_7 : (None, 128) to (None, 128)\n",
      "dense_13 : (None, 128) to (None, 10)\n"
     ]
    }
   ],
   "source": [
    "for l in model.layers:\n",
    "    print(\"{} : {} to {}\".format(l.name,l.input_shape,l.output_shape))"
   ]
  },
  {
   "cell_type": "code",
   "execution_count": 41,
   "metadata": {},
   "outputs": [
    {
     "name": "stdout",
     "output_type": "stream",
     "text": [
      "Train on 60000 samples, validate on 10000 samples\n",
      "Epoch 1/4\n",
      "60000/60000 [==============================] - 35s 580us/step - loss: 0.3116 - acc: 0.9026 - val_loss: 0.0655 - val_acc: 0.9785\n",
      "Epoch 2/4\n",
      "60000/60000 [==============================] - 33s 543us/step - loss: 0.1064 - acc: 0.9679 - val_loss: 0.0463 - val_acc: 0.9840\n",
      "Epoch 3/4\n",
      "60000/60000 [==============================] - 32s 533us/step - loss: 0.0825 - acc: 0.9755 - val_loss: 0.0358 - val_acc: 0.9881\n",
      "Epoch 4/4\n",
      "60000/60000 [==============================] - 36s 607us/step - loss: 0.0676 - acc: 0.9793 - val_loss: 0.0332 - val_acc: 0.9889\n",
      "Test loss: 0.03321283216568408\n",
      "Test accuracy: 0.9889\n"
     ]
    }
   ],
   "source": [
    "model.compile(loss=keras.losses.categorical_crossentropy,\n",
    "              optimizer=keras.optimizers.Adadelta(),\n",
    "              metrics=['accuracy'])\n",
    "\n",
    "model.fit(x_train, y_train,\n",
    "          batch_size=batch_size,\n",
    "          epochs=epochs,\n",
    "          verbose=1,\n",
    "          validation_data=(x_test, y_test))\n",
    "# Verbosity mode. 0 = silent, 1 = progress bar, 2 = one line per epoch.\n",
    "# Data on which to evaluate the loss and any model metrics at the end of each epoch.\n",
    "#     The model will not be trained on validation_data.\n",
    "score = model.evaluate(x_test, y_test, verbose=0)\n",
    "print('Test loss:', score[0])\n",
    "print('Test accuracy:', score[1])"
   ]
  },
  {
   "cell_type": "code",
   "execution_count": 18,
   "metadata": {},
   "outputs": [
    {
     "data": {
      "text/plain": [
       "<matplotlib.image.AxesImage at 0xb44e6f978>"
      ]
     },
     "execution_count": 18,
     "metadata": {},
     "output_type": "execute_result"
    },
    {
     "data": {
      "image/png": "[encoded data removed]",
      "text/plain": [
       "<Figure size 432x288 with 1 Axes>"
      ]
     },
     "metadata": {
      "needs_background": "light"
     },
     "output_type": "display_data"
    }
   ],
   "source": [
    "plt.imshow(x_train[0,...,0],cmap='Greys')"
   ]
  },
  {
   "cell_type": "code",
   "execution_count": 54,
   "metadata": {},
   "outputs": [],
   "source": [
    "layer_outputs = [layer.output for layer in model.layers[:4]]  #the first 4 layers of model\n",
    "activation_model = models.Model(inputs=model.input, outputs=layer_outputs) \n",
    "# Creates a model that will return these outputs, given the model input\n",
    "# will give the outputs of the 4 layers?"
   ]
  },
  {
   "cell_type": "code",
   "execution_count": 56,
   "metadata": {},
   "outputs": [],
   "source": [
    "activations = activation_model.predict(x_train[[0],...]) \n",
    "# Returns a list of 4 Numpy arrays: one array per layer activation"
   ]
  },
  {
   "cell_type": "code",
   "execution_count": 64,
   "metadata": {},
   "outputs": [
    {
     "data": {
      "text/plain": [
       "(1, 26, 26, 32)"
      ]
     },
     "execution_count": 64,
     "metadata": {},
     "output_type": "execute_result"
    }
   ],
   "source": [
    "activations[0].shape"
   ]
  },
  {
   "cell_type": "code",
   "execution_count": 24,
   "metadata": {},
   "outputs": [
    {
     "name": "stderr",
     "output_type": "stream",
     "text": [
      "/home/jsharpna/anaconda/lib/python3.7/site-packages/ipykernel_launcher.py:18: RuntimeWarning: invalid value encountered in true_divide\n"
     ]
    },
    {
     "data": {
      "image/png": "[encoded data removed]",
      "text/plain": [
       "<Figure size 1152x144 with 1 Axes>"
      ]
     },
     "metadata": {
      "needs_background": "light"
     },
     "output_type": "display_data"
    },
    {
     "data": {
      "image/png": "[encoded data removed]",
      "text/plain": [
       "<Figure size 1152x144 with 1 Axes>"
      ]
     },
     "metadata": {
      "needs_background": "light"
     },
     "output_type": "display_data"
    },
    {
     "data": {
      "image/png": "[encoded data removed]",
      "text/plain": [
       "<Figure size 1152x288 with 1 Axes>"
      ]
     },
     "metadata": {
      "needs_background": "light"
     },
     "output_type": "display_data"
    },
    {
     "data": {
      "image/png": "[encoded data removed]",
      "text/plain": [
       "<Figure size 1152x288 with 1 Axes>"
      ]
     },
     "metadata": {
      "needs_background": "light"
     },
     "output_type": "display_data"
    }
   ],
   "source": [
    "layer_names = []\n",
    "for layer in model.layers:\n",
    "    layer_names.append(layer.name) # Names of the layers, so you can have them as part of your plot\n",
    "    \n",
    "images_per_row = 16\n",
    "\n",
    "for layer_name, layer_activation in zip(layer_names, activations): # Displays the feature maps\n",
    "    n_features = layer_activation.shape[-1] # Number of features in the feature map/number of filters 32,32,64,64\n",
    "    size = layer_activation.shape[1] #The feature map has shape (1, size, size, n_features). the height of the image\n",
    "    n_cols = n_features // images_per_row # Tiles the activation channels in this matrix\n",
    "    display_grid = np.zeros((size * n_cols, images_per_row * size))\n",
    "    for col in range(n_cols): # Tiles each filter into a big horizontal grid\n",
    "        for row in range(images_per_row):\n",
    "            channel_image = layer_activation[0,\n",
    "                                             :, :,\n",
    "                                             col * images_per_row + row] #The output of each filter\n",
    "            channel_image -= channel_image.mean() # Post-processes the feature to make it visually palatable\n",
    "            channel_image /= channel_image.std() #standardize the pixels\n",
    "            channel_image *= 64\n",
    "            channel_image += 128\n",
    "            channel_image = np.clip(channel_image, 0, 255).astype('uint8')\n",
    "            display_grid[col * size : (col + 1) * size, # Displays the grid\n",
    "                         row * size : (row + 1) * size] = channel_image\n",
    "    scale = 1. / size\n",
    "    plt.figure(figsize=(scale * display_grid.shape[1],\n",
    "                        scale * display_grid.shape[0]))\n",
    "    plt.title(layer_name)\n",
    "    plt.grid(False)\n",
    "    plt.imshow(display_grid, aspect='auto', cmap='viridis')"
   ]
  },
  {
   "cell_type": "markdown",
   "metadata": {},
   "source": [
    "__Exercise 1__ In the above model we selected a sequence of convolutions, pooling, dropouts, and dense layers.  Run the following experiments with 4 epochs and 32 minibatch size, each time reporting the accuracy.\n",
    "\n",
    "- Remove dropout layers.\n",
    "- Remove first max pooling layer, does it take longer or shorter to train?\n",
    "- Try sigmoid activation functions instead of ReLU."
   ]
  },
  {
   "cell_type": "markdown",
   "metadata": {},
   "source": [
    "__Model 1: Remove Dropout Layers__\n",
    "\n",
    "<font color=blue>\n",
    "    The test loss is 0.02619979902961277 and the test accuracy is 0.9917.\n",
    "    \n",
    "   The accuracy becomes higher when removing dropout layers.\n",
    "   </font>\n",
    "   \n",
    "__Model 2: Remove First Max Pooling Layer__\n",
    "\n",
    "<Font color=blue>\n",
    "    The test loss is 0.036217603227387374 and the test accuracy is 0.9878.\n",
    "    \n",
    "   When removing the first max pooling layer, the training time triples. So it takes longer time to train.\n",
    "   \n",
    "   </font>\n",
    "\n",
    "\n",
    "__Model 3: Sigmoid Activation Function__\n",
    "\n",
    "<font color=blue>\n",
    "    The test loss is 0.08509192908015102 and the test accuracy is 0.9723.\n",
    "    \n",
    "   The accuracy using sigmoid activation function is a little smaller than the accuracy of ReLU.\n",
    "   </font>\n"
   ]
  },
  {
   "cell_type": "code",
   "execution_count": 44,
   "metadata": {},
   "outputs": [],
   "source": [
    "batch_size = 32\n",
    "num_classes = 10\n",
    "epochs = 4\n",
    "\n",
    "# input image dimensions\n",
    "img_rows, img_cols = 28, 28"
   ]
  },
  {
   "cell_type": "code",
   "execution_count": 45,
   "metadata": {},
   "outputs": [],
   "source": [
    "# the data, split between train and test sets\n",
    "(x_train, y_train), (x_test, y_test) = datasets.mnist.load_data()\n",
    "# MNIST dataset contains greyscale 10 digit imges, with 60000 train samples and 10000 test samples\n",
    "if K.image_data_format() == 'channels_first':\n",
    "    x_train = x_train.reshape(x_train.shape[0], 1, img_rows, img_cols) # 4 dimension tensor, 1 represents there is only 1 channel.\n",
    "    x_test = x_test.reshape(x_test.shape[0], 1, img_rows, img_cols)\n",
    "    input_shape = (1, img_rows, img_cols)\n",
    "else:\n",
    "    x_train = x_train.reshape(x_train.shape[0], img_rows, img_cols, 1)\n",
    "    x_test = x_test.reshape(x_test.shape[0], img_rows, img_cols, 1)\n",
    "    input_shape = (img_rows, img_cols, 1)"
   ]
  },
  {
   "cell_type": "code",
   "execution_count": 46,
   "metadata": {},
   "outputs": [
    {
     "name": "stdout",
     "output_type": "stream",
     "text": [
      "x_train shape: (60000, 28, 28, 1)\n",
      "60000 train samples\n",
      "10000 test samples\n"
     ]
    }
   ],
   "source": [
    "x_train = x_train.astype('float32')\n",
    "x_test = x_test.astype('float32')\n",
    "x_train /= 255\n",
    "x_test /= 255\n",
    "print('x_train shape:', x_train.shape)\n",
    "print(x_train.shape[0], 'train samples')\n",
    "print(x_test.shape[0], 'test samples')"
   ]
  },
  {
   "cell_type": "code",
   "execution_count": 47,
   "metadata": {},
   "outputs": [],
   "source": [
    "# convert class vectors to binary class matrices\n",
    "y_train = keras.utils.to_categorical(y_train, num_classes)\n",
    "y_test = keras.utils.to_categorical(y_test, num_classes)"
   ]
  },
  {
   "cell_type": "code",
   "execution_count": 23,
   "metadata": {},
   "outputs": [],
   "source": [
    "model1 = keras.Sequential()\n",
    "model1.add(layers.Conv2D(32, kernel_size=(3, 3),\n",
    "                 activation='relu',\n",
    "                 input_shape=input_shape))\n",
    "\n",
    "model1.add(layers.MaxPooling2D(pool_size=(2, 2))) # the output should be 13*13, with 32 filter?\n",
    "#Pooling can be max or average, here we use max\n",
    "model1.add(layers.Conv2D(64, (3, 3), activation='relu'))\n",
    "model1.add(layers.MaxPooling2D(pool_size=(2, 2)))\n",
    "\n",
    "#model.add(layers.Dropout(0.25))\n",
    "model1.add(layers.Flatten())\n",
    "model1.add(layers.Dense(128, activation='relu'))\n",
    "model1.add(layers.Dense(num_classes, activation='softmax'))"
   ]
  },
  {
   "cell_type": "code",
   "execution_count": 24,
   "metadata": {},
   "outputs": [
    {
     "name": "stdout",
     "output_type": "stream",
     "text": [
      "conv2d_3 : (None, 28, 28, 1) to (None, 26, 26, 32)\n",
      "max_pooling2d_3 : (None, 26, 26, 32) to (None, 13, 13, 32)\n",
      "conv2d_4 : (None, 13, 13, 32) to (None, 11, 11, 64)\n",
      "max_pooling2d_4 : (None, 11, 11, 64) to (None, 5, 5, 64)\n",
      "flatten_2 : (None, 5, 5, 64) to (None, 1600)\n",
      "dense_6 : (None, 1600) to (None, 128)\n",
      "dense_7 : (None, 128) to (None, 10)\n"
     ]
    }
   ],
   "source": [
    "for l in model1.layers:\n",
    "    print(\"{} : {} to {}\".format(l.name,l.input_shape,l.output_shape))"
   ]
  },
  {
   "cell_type": "code",
   "execution_count": 25,
   "metadata": {},
   "outputs": [
    {
     "name": "stdout",
     "output_type": "stream",
     "text": [
      "Train on 60000 samples, validate on 10000 samples\n",
      "Epoch 1/4\n",
      "60000/60000 [==============================] - 34s 570us/step - loss: 0.1240 - acc: 0.9613 - val_loss: 0.0416 - val_acc: 0.9862\n",
      "Epoch 2/4\n",
      "60000/60000 [==============================] - 34s 566us/step - loss: 0.0394 - acc: 0.9880 - val_loss: 0.0270 - val_acc: 0.9906\n",
      "Epoch 3/4\n",
      "60000/60000 [==============================] - 36s 597us/step - loss: 0.0278 - acc: 0.9917 - val_loss: 0.0260 - val_acc: 0.9910\n",
      "Epoch 4/4\n",
      "60000/60000 [==============================] - 34s 570us/step - loss: 0.0209 - acc: 0.9935 - val_loss: 0.0262 - val_acc: 0.9917\n",
      "Test loss: 0.02619979902961277\n",
      "Test accuracy: 0.9917\n"
     ]
    }
   ],
   "source": [
    "model1.compile(loss=keras.losses.categorical_crossentropy,\n",
    "              optimizer=keras.optimizers.Adadelta(),\n",
    "              metrics=['accuracy'])\n",
    "\n",
    "model1.fit(x_train, y_train,\n",
    "          batch_size=batch_size,\n",
    "          epochs=epochs,\n",
    "          verbose=1,\n",
    "          validation_data=(x_test, y_test))\n",
    "score1 = model1.evaluate(x_test, y_test, verbose=0)\n",
    "print('Test loss:', score1[0])\n",
    "print('Test accuracy:', score1[1])"
   ]
  },
  {
   "cell_type": "code",
   "execution_count": 26,
   "metadata": {},
   "outputs": [],
   "source": [
    "model2 = keras.Sequential()\n",
    "model2.add(layers.Conv2D(32, kernel_size=(3, 3),\n",
    "                 activation='relu',\n",
    "                 input_shape=input_shape))\n",
    "\n",
    "#model2.add(layers.MaxPooling2D(pool_size=(2, 2)))\n",
    "\n",
    "model2.add(layers.Conv2D(64, (3, 3), activation='relu'))\n",
    "model2.add(layers.MaxPooling2D(pool_size=(2, 2)))\n",
    "\n",
    "model2.add(layers.Dropout(0.25))\n",
    "model2.add(layers.Flatten())\n",
    "model2.add(layers.Dense(128, activation='relu'))\n",
    "model2.add(layers.Dropout(0.5))\n",
    "model2.add(layers.Dense(num_classes, activation='softmax'))"
   ]
  },
  {
   "cell_type": "code",
   "execution_count": 27,
   "metadata": {},
   "outputs": [
    {
     "name": "stdout",
     "output_type": "stream",
     "text": [
      "conv2d_5 : (None, 28, 28, 1) to (None, 26, 26, 32)\n",
      "conv2d_6 : (None, 26, 26, 32) to (None, 24, 24, 64)\n",
      "max_pooling2d_5 : (None, 24, 24, 64) to (None, 12, 12, 64)\n",
      "dropout_2 : (None, 12, 12, 64) to (None, 12, 12, 64)\n",
      "flatten_3 : (None, 12, 12, 64) to (None, 9216)\n",
      "dense_8 : (None, 9216) to (None, 128)\n",
      "dropout_3 : (None, 128) to (None, 128)\n",
      "dense_9 : (None, 128) to (None, 10)\n"
     ]
    }
   ],
   "source": [
    "for l in model2.layers:\n",
    "    print(\"{} : {} to {}\".format(l.name,l.input_shape,l.output_shape))"
   ]
  },
  {
   "cell_type": "code",
   "execution_count": 29,
   "metadata": {},
   "outputs": [
    {
     "name": "stdout",
     "output_type": "stream",
     "text": [
      "Train on 60000 samples, validate on 10000 samples\n",
      "Epoch 1/4\n",
      "60000/60000 [==============================] - 126s 2ms/step - loss: 0.1248 - acc: 0.9630 - val_loss: 0.0443 - val_acc: 0.9858\n",
      "Epoch 2/4\n",
      "60000/60000 [==============================] - 121s 2ms/step - loss: 0.0736 - acc: 0.9785 - val_loss: 0.0406 - val_acc: 0.9857\n",
      "Epoch 3/4\n",
      "60000/60000 [==============================] - 126s 2ms/step - loss: 0.0611 - acc: 0.9823 - val_loss: 0.0324 - val_acc: 0.9886\n",
      "Epoch 4/4\n",
      "60000/60000 [==============================] - 133s 2ms/step - loss: 0.0523 - acc: 0.9844 - val_loss: 0.0362 - val_acc: 0.9878\n",
      "Test loss: 0.036217603227387374\n",
      "Test accuracy: 0.9878\n"
     ]
    }
   ],
   "source": [
    "model2.compile(loss=keras.losses.categorical_crossentropy,\n",
    "              optimizer=keras.optimizers.Adadelta(),\n",
    "              metrics=['accuracy'])\n",
    "\n",
    "model2.fit(x_train, y_train,\n",
    "          batch_size=batch_size,\n",
    "          epochs=epochs,\n",
    "          verbose=1,\n",
    "          validation_data=(x_test, y_test))\n",
    "score2 = model2.evaluate(x_test, y_test, verbose=0)\n",
    "print('Test loss:', score2[0])\n",
    "print('Test accuracy:', score2[1])"
   ]
  },
  {
   "cell_type": "code",
   "execution_count": 48,
   "metadata": {},
   "outputs": [],
   "source": [
    "model3 = keras.Sequential()\n",
    "model3.add(layers.Conv2D(32, kernel_size=(3, 3),\n",
    "                 activation='sigmoid',\n",
    "                 input_shape=input_shape))\n",
    "\n",
    "model3.add(layers.MaxPooling2D(pool_size=(2, 2)))\n",
    "\n",
    "model3.add(layers.Conv2D(64, (3, 3), activation='sigmoid'))\n",
    "model3.add(layers.MaxPooling2D(pool_size=(2, 2)))\n",
    "\n",
    "model3.add(layers.Dropout(0.25))\n",
    "model3.add(layers.Flatten())\n",
    "model3.add(layers.Dense(128, activation='sigmoid'))\n",
    "model3.add(layers.Dropout(0.5))\n",
    "model3.add(layers.Dense(num_classes, activation='softmax'))"
   ]
  },
  {
   "cell_type": "code",
   "execution_count": 49,
   "metadata": {},
   "outputs": [
    {
     "name": "stdout",
     "output_type": "stream",
     "text": [
      "conv2d_13 : (None, 28, 28, 1) to (None, 26, 26, 32)\n",
      "max_pooling2d_12 : (None, 26, 26, 32) to (None, 13, 13, 32)\n",
      "conv2d_14 : (None, 13, 13, 32) to (None, 11, 11, 64)\n",
      "max_pooling2d_13 : (None, 11, 11, 64) to (None, 5, 5, 64)\n",
      "dropout_10 : (None, 5, 5, 64) to (None, 5, 5, 64)\n",
      "flatten_7 : (None, 5, 5, 64) to (None, 1600)\n",
      "dense_16 : (None, 1600) to (None, 128)\n",
      "dropout_11 : (None, 128) to (None, 128)\n",
      "dense_17 : (None, 128) to (None, 10)\n"
     ]
    }
   ],
   "source": [
    "for l in model3.layers:\n",
    "    print(\"{} : {} to {}\".format(l.name,l.input_shape,l.output_shape))"
   ]
  },
  {
   "cell_type": "code",
   "execution_count": 50,
   "metadata": {},
   "outputs": [
    {
     "name": "stdout",
     "output_type": "stream",
     "text": [
      "Train on 60000 samples, validate on 10000 samples\n",
      "Epoch 1/4\n",
      "60000/60000 [==============================] - 40s 661us/step - loss: 2.3054 - acc: 0.1111 - val_loss: 2.3003 - val_acc: 0.1135\n",
      "Epoch 2/4\n",
      "60000/60000 [==============================] - 36s 607us/step - loss: 1.0438 - acc: 0.6265 - val_loss: 0.1801 - val_acc: 0.9470\n",
      "Epoch 3/4\n",
      "60000/60000 [==============================] - 36s 607us/step - loss: 0.2145 - acc: 0.9346 - val_loss: 0.0990 - val_acc: 0.9692\n",
      "Epoch 4/4\n",
      "60000/60000 [==============================] - 39s 656us/step - loss: 0.1539 - acc: 0.9534 - val_loss: 0.0851 - val_acc: 0.9723\n",
      "Test loss: 0.08509192908015102\n",
      "Test accuracy: 0.9723\n"
     ]
    }
   ],
   "source": [
    "model3.compile(loss=keras.losses.categorical_crossentropy,\n",
    "              optimizer=keras.optimizers.Adadelta(),\n",
    "              metrics=['accuracy'])\n",
    "\n",
    "model3.fit(x_train, y_train,\n",
    "          batch_size=batch_size,\n",
    "          epochs=epochs,\n",
    "          verbose=1,\n",
    "          validation_data=(x_test, y_test))\n",
    "# Verbosity mode. 0 = silent, 1 = progress bar, 2 = one line per epoch.\n",
    "# Data on which to evaluate the loss and any model metrics at the end of each epoch.\n",
    "#     The model will not be trained on validation_data.\n",
    "score3 = model3.evaluate(x_test, y_test, verbose=0)\n",
    "print('Test loss:', score3[0])\n",
    "print('Test accuracy:', score3[1])"
   ]
  },
  {
   "cell_type": "code",
   "execution_count": null,
   "metadata": {},
   "outputs": [],
   "source": []
  }
 ],
 "metadata": {
  "kernelspec": {
   "display_name": "Python 3",
   "language": "python",
   "name": "python3"
  },
  "language_info": {
   "codemirror_mode": {
    "name": "ipython",
    "version": 3
   },
   "file_extension": ".py",
   "mimetype": "text/x-python",
   "name": "python",
   "nbconvert_exporter": "python",
   "pygments_lexer": "ipython3",
   "version": "3.7.1"
  }
 },
 "nbformat": 4,
 "nbformat_minor": 2
}
